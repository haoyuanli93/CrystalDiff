{
 "cells": [
  {
   "cell_type": "markdown",
   "metadata": {},
   "source": [
    "# In this Notebook, I would like to test what would happen if the cutting is not ideal and how the motion of the crystal group will influence of the pulse"
   ]
  },
  {
   "cell_type": "code",
   "execution_count": 1,
   "metadata": {
    "scrolled": false
   },
   "outputs": [],
   "source": [
    "import numpy as np\n",
    "import sys\n",
    "import time\n",
    "import h5py as h5\n",
    "import matplotlib.pyplot as plt\n",
    "from scipy.spatial.transform import Rotation\n",
    "\n",
    "sys.path.append(r\"C:\\Users\\haoyuan\\Documents\\GitHub\\CrystalDiff\")\n",
    "\n",
    "from CrystalDiff import util, pulse, lclsutil, crystal, lightpath"
   ]
  },
  {
   "cell_type": "markdown",
   "metadata": {},
   "source": [
    "# Get the Crystal Geometries"
   ]
  },
  {
   "cell_type": "code",
   "execution_count": 13,
   "metadata": {},
   "outputs": [
    {
     "name": "stdout",
     "output_type": "stream",
     "text": [
      "11.232925757182603\n"
     ]
    }
   ],
   "source": [
    "# ----------------------------------------------------------------------------------------------------------\n",
    "#                       Step 1: Pulse\n",
    "# ----------------------------------------------------------------------------------------------------------\n",
    "energy_center = 10.\n",
    "pre_length = 1e6\n",
    "\n",
    "# Set up the pulse\n",
    "my_pulse = pulse.GaussianPulse3D()\n",
    "my_pulse.set_pulse_properties(central_energy=energy_center,\n",
    "                              polar=[0., 1., 0.],\n",
    "                              sigma_x=708.2581446128465,\n",
    "                              sigma_y=708.2581446128465,\n",
    "                              sigma_z=20.,\n",
    "                              x0=np.array([0., 0., -pre_length]))\n",
    "\n",
    "# ----------------------------------------------------------------------------------------------------------\n",
    "#                       Step 2: Split\n",
    "# ----------------------------------------------------------------------------------------------------------\n",
    "dtheta = np.arctan(1.5 * 1e-3 / 5.)  # This is the deviation angle.\n",
    "half_period = util.get_grating_period(dtheta=dtheta,\n",
    "                                      klen_in=my_pulse.klen0) / 2\n",
    " \n",
    "grating_list = [crystal.RectangleGrating(), crystal.RectangleGrating()]\n",
    "grating_list[0].set_a(half_period)\n",
    "grating_list[0].set_b(half_period)\n",
    "grating_list[1].set_a(half_period)\n",
    "grating_list[1].set_b(half_period)\n",
    "\n",
    "# ----------------------------------------------------------------------------------------------------------\n",
    "#                       Step 3: Delay Lines\n",
    "# ----------------------------------------------------------------------------------------------------------\n",
    "# Some meta data for the delay line.\n",
    "h_length = 2. * np.pi / (1.9201 * 1e-4)\n",
    "\n",
    "# Some crystal properties\n",
    "chi0 = complex(-0.97631E-05, 0.14871E-06)\n",
    "chih_sigma = complex(0.59310E-05, -0.14320E-06)\n",
    "chihbar_sigma = complex(0.59310E-05, -0.14320E-06)\n",
    "chih_pi = complex(0.46945E-05, -0.11201E-06)\n",
    "chihbar_pi = complex(0.46945E-05, -0.11201E-06)\n",
    "\n",
    "# ~~~~~~~~~~~~~~~~~~~~~~~~~~~~~~~~~~~~~~~~~~~~~~~~~~~~~~~~~~~~~~~~~~~~~~~\n",
    "#                       Crystal for branch  1\n",
    "# ~~~~~~~~~~~~~~~~~~~~~~~~~~~~~~~~~~~~~~~~~~~~~~~~~~~~~~~~~~~~~~~~~~~~~~~\n",
    "# Set up the angles\n",
    "angle_offset_1 = dtheta\n",
    "\n",
    "# Bragg angle\n",
    "bragg = np.radians(18.836) + 10e-6\n",
    "\n",
    "d1 = 0.\n",
    "d2 = 15.5e-6\n",
    "d3 = 15.5e-6\n",
    "d4 = 0.\n",
    "\n",
    "# Get crystal angles\n",
    "eta_b1 = np.zeros(8, dtype=np.float64)\n",
    "theta_b1 = np.array([3 * np.pi / 2. - bragg,\n",
    "                     np.pi / 2. - bragg,\n",
    "                     np.pi / 2. + bragg + d2,\n",
    "                     3 * np.pi / 2. + bragg + d2,\n",
    "                     np.pi / 2. + bragg + d3,\n",
    "                     3 * np.pi / 2. + bragg + d3,\n",
    "                     3 * np.pi / 2. - bragg + d4,\n",
    "                     np.pi / 2. - bragg + d4])\n",
    "\n",
    "rho_b1 = theta_b1 + np.pi\n",
    "\n",
    "asy_angle = np.deg2rad(-.1)\n",
    "rho_b1[1] += asy_angle\n",
    "rho_b1[2] -= asy_angle\n",
    "rho_b1[5] -= asy_angle\n",
    "rho_b1[6] += asy_angle\n",
    "\n",
    "tau_b1 = np.zeros(8)\n",
    "\n",
    "\n",
    "# Add the effect of the global rotation due to the grating momentum transfer\n",
    "theta_b1 += angle_offset_1\n",
    "rho_b1 += angle_offset_1\n",
    "\n",
    "# Initialize the crystals\n",
    "crystal_list_1 = lclsutil.get_crystal_list(num=8,\n",
    "                                           hlen=np.array([h_length, ] * 8),\n",
    "                                           theta=theta_b1,\n",
    "                                           eta=eta_b1,\n",
    "                                           rho=rho_b1,\n",
    "                                           tau=tau_b1,\n",
    "                                           chi0=chi0,\n",
    "                                           chih_sigma=chih_sigma,\n",
    "                                           chihbar_sigma=chihbar_sigma,\n",
    "                                           chih_pi=chih_pi,\n",
    "                                           chihbar_pi=chihbar_pi)\n",
    "\n",
    "# ~~~~~~~~~~~~~~~~~~~~~~~~~~~~~~~~~~~~~~~~~~~~~~~~~~~~~~~~~~~~~~~~~~~~~~~\n",
    "#                       Crystal for branch  2\n",
    "# ~~~~~~~~~~~~~~~~~~~~~~~~~~~~~~~~~~~~~~~~~~~~~~~~~~~~~~~~~~~~~~~~~~~~~~~\n",
    "# Set up the angles\n",
    "angle_offset_2 = - dtheta\n",
    "bragg = np.radians(18.836) + 13e-6\n",
    "\n",
    "# Get crystal angles\n",
    "eta_b2 = np.zeros(4, dtype=np.float64)\n",
    "theta_b2 = np.array([3 * np.pi / 2. - bragg,\n",
    "                     np.pi / 2. - bragg,\n",
    "                     np.pi / 2. + bragg,\n",
    "                     3 * np.pi / 2. + bragg])\n",
    "rho_b2 = theta_b2 + np.pi\n",
    "tau_b2 = np.zeros(4, dtype=np.float64)\n",
    "\n",
    "# Add the effect of the global rotation due to the grating momentum transfer\n",
    "theta_b2 += angle_offset_2\n",
    "rho_b2 += angle_offset_2\n",
    "\n",
    "# Initialize the crystals\n",
    "crystal_list_2 = lclsutil.get_crystal_list(num=4,\n",
    "                                           hlen=np.array([h_length, ] * 4),\n",
    "                                           theta=theta_b2,\n",
    "                                           eta=eta_b2,\n",
    "                                           rho=rho_b2,\n",
    "                                           tau=tau_b2,\n",
    "                                           chi0=chi0,\n",
    "                                           chih_sigma=chih_sigma,\n",
    "                                           chihbar_sigma=chihbar_sigma,\n",
    "                                           chih_pi=chih_pi,\n",
    "                                           chihbar_pi=chihbar_pi)\n",
    "\n",
    "# ------------------------------------------------------\n",
    "#   Define the positions\n",
    "# ------------------------------------------------------\n",
    "path_list_fix = [5e6 - 1e5, 1.1e5, 6.5e5, 1.15e5, 6e6, 1e6]\n",
    "path_list_var = [5e6, 1e4, 5e4, 1e4, 20e4, 10e4, 10e4, 10.5e4, 6e6, 1e6]\n",
    "delay_time = 80\n",
    "\n",
    "\n",
    "# ---------------------------------------------------------------------------\n",
    "#                  Initialize the position of the crystals\n",
    "# ---------------------------------------------------------------------------\n",
    "(fix_branch_path,\n",
    " kout_fixed,\n",
    " intersect_fixed,\n",
    " var_branch_path,\n",
    " kout_var,\n",
    " intersect_var) = lightpath.adjust_path_length(delay_time=delay_time,\n",
    "                                               fix_branch_path=path_list_fix,\n",
    "                                               fix_branch_crystal=crystal_list_2,\n",
    "                                               var_branch_path=path_list_var,\n",
    "                                               var_branch_crystal=crystal_list_1,\n",
    "                                               grating_pair=grating_list,\n",
    "                                               kin=my_pulse.k0)\n",
    "\n",
    "# -----------------------------------------------------------------------------\n",
    "#                 Update the crystals\n",
    "# -----------------------------------------------------------------------------\n",
    "crystal_list_1 = lclsutil.update_crystal_list(crystal_list_1,\n",
    "                                              surface_points=np.copy(intersect_var[1:-2]))\n",
    "crystal_list_2 = lclsutil.update_crystal_list(crystal_list_2,\n",
    "                                              surface_points=np.copy(intersect_fixed[1:-2]))\n",
    "grating_list[0].set_surface_point(np.copy(intersect_fixed[0]))\n",
    "grating_list[1].set_surface_point(np.copy(intersect_fixed[-2]))\n",
    "\n",
    "# ------------------------------------------------------------------------------\n",
    "#                  Get the total path\n",
    "# ------------------------------------------------------------------------------\n",
    "total_path = np.sum(fix_branch_path)\n",
    "print(total_path/1e6)"
   ]
  },
  {
   "cell_type": "markdown",
   "metadata": {},
   "source": [
    "# Rotate and shift the crystals to get the spatial instability"
   ]
  },
  {
   "cell_type": "code",
   "execution_count": 14,
   "metadata": {},
   "outputs": [],
   "source": [
    "# In this simulation, I would like to study the stage moving direction across 1000 urad variation.\n",
    "stage_rot_num = 300\n",
    "stage_rot_num_tot = 2 * stage_rot_num + 1\n",
    "stage_rot_angles = np.arange(-stage_rot_num, stage_rot_num + 1) / stage_rot_num_tot\n",
    "stage_rot_angles += dtheta\n",
    "\n",
    "# How many moving direction\n",
    "# 21 moving steps\n",
    "# 3d vector\n",
    "position_holder = np.zeros((stage_rot_num_tot, 21, 3), dtype=np.float64)\n",
    "\n",
    "#####################################################################################\n",
    "#                     Create a new crystal list to do the simulation\n",
    "#####################################################################################\n",
    "bragg_crystal_list = lclsutil.get_crystal_list(num=8,\n",
    "                                               hlen=np.array([h_length, ] * 8),\n",
    "                                               theta=theta_b1,\n",
    "                                               eta=eta_b1,\n",
    "                                               rho=rho_b1,\n",
    "                                               tau=tau_b1,\n",
    "                                               chi0=chi0,\n",
    "                                               chih_sigma=chih_sigma,\n",
    "                                               chihbar_sigma=chihbar_sigma,\n",
    "                                               chih_pi=chih_pi,\n",
    "                                               chihbar_pi=chihbar_pi,\n",
    "                                               surface_points=np.copy(intersect_var[1:-2]))\n",
    "\n",
    "#####################################################################################\n",
    "#                               Carry out the simulation\n",
    "#####################################################################################\n",
    "crystal_list = [grating_list[0],] + bragg_crystal_list + [grating_list[1],]\n",
    "\n",
    "\n",
    "for rot_idx in range(stage_rot_num_tot):\n",
    "    for m_idx in range(21):\n",
    "        \n",
    "        ##############################################################################################\n",
    "        #                 Step 1: Initialize the crystals\n",
    "        ##############################################################################################\n",
    "        bragg_crystal_list = lclsutil.update_crystal_list(bragg_crystal_list,\n",
    "                                                      surface_points=np.copy(intersect_var[1:-2]))\n",
    "        \n",
    "        ##############################################################################################\n",
    "        #                 Step 2: Shift the crystals\n",
    "        ##############################################################################################\n",
    "        # Define the displacement vector\n",
    "        distance = (float(m_idx) - 10.) * 1e3\n",
    "        displacement = np.array([0.,\n",
    "                                np.cos(stage_rot_angles[rot_idx]),\n",
    "                                -np.sin(stage_rot_angles[rot_idx])]) * distance\n",
    "        \n",
    "        # Shift the crystals\n",
    "        crystal.rotate_shift_crystal_list(crystal_list=bragg_crystal_list[4:],\n",
    "                                          rot_mat=None,\n",
    "                                          displacement=displacement)\n",
    "        \n",
    "        ##############################################################################################\n",
    "        #                 Step 3: Calculate the kout and intersection points\n",
    "        ##############################################################################################\n",
    "        (intersects, \n",
    "        kouts) = lightpath.get_light_trajectory_with_total_path(kin_vec=my_pulse.k0,\n",
    "                                                                init_point=np.zeros(3, dtype=np.float64),\n",
    "                                                                total_path=total_path,\n",
    "                                                                crystal_list=crystal_list,\n",
    "                                                                g_orders = [1, -1])\n",
    "        \n",
    "        # Save the information\n",
    "        position_holder[rot_idx, m_idx, :] = intersects[-3]"
   ]
  },
  {
   "cell_type": "code",
   "execution_count": 15,
   "metadata": {},
   "outputs": [],
   "source": [
    "position_holder_diff = position_holder - intersect_var[-3][np.newaxis, np.newaxis, :]"
   ]
  },
  {
   "cell_type": "code",
   "execution_count": 16,
   "metadata": {},
   "outputs": [],
   "source": [
    "# Calculate the shift direction of the intersection \n",
    "slope =  np.zeros(stage_rot_num_tot)\n",
    "# Slope through the origin\n",
    "\n",
    "for idx in range(stage_rot_num_tot):\n",
    "    slope[idx] = np.dot(position_holder_diff[idx, :, 1],\n",
    "                        position_holder_diff[idx, :, 2]) / np.dot(position_holder_diff[idx, :, 2], \n",
    "                                                                  position_holder_diff[idx, :, 2])"
   ]
  },
  {
   "cell_type": "code",
   "execution_count": 17,
   "metadata": {},
   "outputs": [
    {
     "data": {
      "image/png": "[encoded data removed]",
      "text/plain": [
       "<Figure size 432x288 with 1 Axes>"
      ]
     },
     "metadata": {
      "needs_background": "light"
     },
     "output_type": "display_data"
    }
   ],
   "source": [
    "angle_test = np.arctan(kout_var[9, 1] / kout_var[9,2])\n",
    "\n",
    "\n",
    "plt.plot(np.rad2deg(stage_rot_angles), np.abs(np.arctan(slope) - angle_test))\n",
    "plt.show()"
   ]
  },
  {
   "cell_type": "markdown",
   "metadata": {},
   "source": [
    "# Analytical Calculation"
   ]
  },
  {
   "cell_type": "code",
   "execution_count": 18,
   "metadata": {},
   "outputs": [],
   "source": [
    "def get_factor(k,n):\n",
    "    holder = np.zeros((3,3))\n",
    "    \n",
    "    for x in range(3):\n",
    "        for y in range(3):\n",
    "            holder[x,y] = k[x] * n[y]\n",
    "    \n",
    "    holder /= np.dot(k,n)\n",
    "    \n",
    "    return holder"
   ]
  },
  {
   "cell_type": "code",
   "execution_count": 19,
   "metadata": {},
   "outputs": [],
   "source": [
    "f0 = get_factor(kout_var[5], crystal_list_1[4].normal)\n",
    "f1 = get_factor(kout_var[6], crystal_list_1[5].normal)\n",
    "f2 = get_factor(kout_var[7], crystal_list_1[6].normal)\n",
    "f3 = get_factor(kout_var[8], crystal_list_1[7].normal)\n",
    "\n",
    "eye = np.eye(3)"
   ]
  },
  {
   "cell_type": "code",
   "execution_count": 20,
   "metadata": {},
   "outputs": [],
   "source": [
    "mat = f3 + (eye - f3).dot(f2) + (eye - f3).dot(eye -f2).dot(f1) + (eye - f3).dot(eye - f2).dot(eye - f1).dot(f0)"
   ]
  },
  {
   "cell_type": "code",
   "execution_count": 21,
   "metadata": {},
   "outputs": [
    {
     "name": "stdout",
     "output_type": "stream",
     "text": [
      "[[0.00000000e+00 0.00000000e+00 0.00000000e+00]\n",
      " [0.00000000e+00 8.80497008e-04 2.99333179e-04]\n",
      " [0.00000000e+00 2.93164276e+00 9.99121689e-01]]\n"
     ]
    }
   ],
   "source": [
    "print(mat)"
   ]
  },
  {
   "cell_type": "code",
   "execution_count": 22,
   "metadata": {},
   "outputs": [],
   "source": [
    "sub_mat = mat[1:,1:]\n",
    "\n",
    "g = np.linalg.inv(sub_mat).dot(kout_var[9, 1:])"
   ]
  },
  {
   "cell_type": "code",
   "execution_count": 23,
   "metadata": {},
   "outputs": [
    {
     "name": "stdout",
     "output_type": "stream",
     "text": [
      "The angle with respect to y direction is 68.11723412074207 degree.\n"
     ]
    }
   ],
   "source": [
    "print(\"The angle with respect to y direction is {} degree.\".format(np.rad2deg(np.arctan(g[1] / g[0]))))"
   ]
  },
  {
   "cell_type": "code",
   "execution_count": null,
   "metadata": {},
   "outputs": [],
   "source": []
  }
 ],
 "metadata": {
  "kernelspec": {
   "display_name": "Python 3",
   "language": "python",
   "name": "python3"
  },
  "language_info": {
   "codemirror_mode": {
    "name": "ipython",
    "version": 3
   },
   "file_extension": ".py",
   "mimetype": "text/x-python",
   "name": "python",
   "nbconvert_exporter": "python",
   "pygments_lexer": "ipython3",
   "version": "3.6.9"
  }
 },
 "nbformat": 4,
 "nbformat_minor": 2
}
