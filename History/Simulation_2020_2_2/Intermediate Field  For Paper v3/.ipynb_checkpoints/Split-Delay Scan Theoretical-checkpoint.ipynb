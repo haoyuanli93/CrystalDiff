{
 "cells": [
  {
   "cell_type": "markdown",
   "metadata": {},
   "source": [
    "# In this Notebook, I would like to test what would happen if the cutting is not ideal and how the motion of the crystal group will influence of the pulse"
   ]
  },
  {
   "cell_type": "code",
   "execution_count": 1,
   "metadata": {
    "scrolled": false
   },
   "outputs": [],
   "source": [
    "import numpy as np\n",
    "import sys\n",
    "import time\n",
    "import h5py as h5\n",
    "import matplotlib.pyplot as plt\n",
    "from scipy.spatial.transform import Rotation\n",
    "\n",
    "sys.path.append(r\"C:\\Users\\haoyuan\\Documents\\GitHub\\CrystalDiff\")\n",
    "\n",
    "from CrystalDiff import util, pulse, lclsutil, crystal, lightpath"
   ]
  },
  {
   "cell_type": "markdown",
   "metadata": {},
   "source": [
    "# Get the Crystal Geometries"
   ]
  },
  {
   "cell_type": "code",
   "execution_count": 2,
   "metadata": {},
   "outputs": [
    {
     "name": "stdout",
     "output_type": "stream",
     "text": [
      "10.904975552762416\n"
     ]
    }
   ],
   "source": [
    "# ----------------------------------------------------------------------------------------------------------\n",
    "#                       Step 1: Pulse\n",
    "# ----------------------------------------------------------------------------------------------------------\n",
    "energy_center = 10.\n",
    "pre_length = 1e6\n",
    "\n",
    "# Set up the pulse\n",
    "FWHM = 50 # (um)\n",
    "\n",
    "my_pulse = pulse.GaussianPulse3D()\n",
    "my_pulse.set_pulse_properties(central_energy=energy_center,\n",
    "                              polar=[0., 1., 0.],\n",
    "                              sigma_x=FWHM /2. / np.sqrt(np.log(2)) / util.c,\n",
    "                              sigma_y=FWHM /2. / np.sqrt(np.log(2)) / util.c,\n",
    "                              sigma_z=2.,\n",
    "                              x0=np.array([0., 0., -pre_length]))\n",
    "\n",
    "# ----------------------------------------------------------------------------------------------------------\n",
    "#                       Step 2: Split\n",
    "# ---------------------------------------------------------------------------------------------------------- \n",
    "grating_list = [crystal.RectangleGrating(), crystal.RectangleGrating()]\n",
    "grating_list[0].set_a(0.5)\n",
    "grating_list[0].set_b(0.5)\n",
    "grating_list[1].set_a(0.5)\n",
    "grating_list[1].set_b(0.5)\n",
    "\n",
    "dtheta = np.arctan(grating_list[0].base_wave_vector[1] / my_pulse.klen0)  # This is the deviation angle.\n",
    "\n",
    "\n",
    "# ----------------------------------------------------------------------------------------------------------\n",
    "#                       Step 3: Delay Lines\n",
    "# ----------------------------------------------------------------------------------------------------------\n",
    "# Some meta data for the delay line.\n",
    "h_length = 2. * np.pi / (1.9201 * 1e-4)\n",
    "\n",
    "# Some crystal properties\n",
    "chi0 = complex(-0.97631E-05, 0.14871E-06)\n",
    "chih_sigma = complex(0.59310E-05, -0.14320E-06)\n",
    "chihbar_sigma = complex(0.59310E-05, -0.14320E-06)\n",
    "chih_pi = complex(0.46945E-05, -0.11201E-06)\n",
    "chihbar_pi = complex(0.46945E-05, -0.11201E-06)\n",
    "\n",
    "# ~~~~~~~~~~~~~~~~~~~~~~~~~~~~~~~~~~~~~~~~~~~~~~~~~~~~~~~~~~~~~~~~~~~~~~~\n",
    "#                       Crystal for branch  1\n",
    "# ~~~~~~~~~~~~~~~~~~~~~~~~~~~~~~~~~~~~~~~~~~~~~~~~~~~~~~~~~~~~~~~~~~~~~~~\n",
    "# Set up the angles\n",
    "angle_offset_1 = dtheta\n",
    "\n",
    "# Bragg angle\n",
    "bragg = np.radians(18.836) + 10e-6\n",
    "\n",
    "d1 = 0.\n",
    "d2 = 15.5e-6\n",
    "d3 = 15.5e-6\n",
    "d4 = 0.\n",
    "\n",
    "# Get crystal angles\n",
    "eta_b1 = np.zeros(8, dtype=np.float64)\n",
    "theta_b1 = np.array([3 * np.pi / 2. - bragg,\n",
    "                     np.pi / 2. - bragg,\n",
    "                     np.pi / 2. + bragg + d2,\n",
    "                     3 * np.pi / 2. + bragg + d2,\n",
    "                     np.pi / 2. + bragg + d3,\n",
    "                     3 * np.pi / 2. + bragg + d3,\n",
    "                     3 * np.pi / 2. - bragg + d4,\n",
    "                     np.pi / 2. - bragg + d4])\n",
    "\n",
    "rho_b1 = theta_b1 + np.pi\n",
    "\n",
    "asy_angle = np.deg2rad(5)\n",
    "rho_b1[1] += asy_angle\n",
    "rho_b1[2] -= asy_angle\n",
    "rho_b1[5] -= asy_angle\n",
    "rho_b1[6] += asy_angle\n",
    "\n",
    "tau_b1 = np.zeros(8)\n",
    "\n",
    "\n",
    "# Add the effect of the global rotation due to the grating momentum transfer\n",
    "theta_b1 += angle_offset_1\n",
    "rho_b1 += angle_offset_1\n",
    "\n",
    "# Initialize the crystals\n",
    "crystal_list_1 = lclsutil.get_crystal_list(num=8,\n",
    "                                           hlen=np.array([h_length, ] * 8),\n",
    "                                           theta=theta_b1,\n",
    "                                           eta=eta_b1,\n",
    "                                           rho=rho_b1,\n",
    "                                           tau=tau_b1,\n",
    "                                           chi0=chi0,\n",
    "                                           chih_sigma=chih_sigma,\n",
    "                                           chihbar_sigma=chihbar_sigma,\n",
    "                                           chih_pi=chih_pi,\n",
    "                                           chihbar_pi=chihbar_pi)\n",
    "\n",
    "# ~~~~~~~~~~~~~~~~~~~~~~~~~~~~~~~~~~~~~~~~~~~~~~~~~~~~~~~~~~~~~~~~~~~~~~~\n",
    "#                       Crystal for branch  2\n",
    "# ~~~~~~~~~~~~~~~~~~~~~~~~~~~~~~~~~~~~~~~~~~~~~~~~~~~~~~~~~~~~~~~~~~~~~~~\n",
    "# Set up the angles\n",
    "angle_offset_2 = - dtheta\n",
    "bragg = np.radians(18.836) + 13e-6\n",
    "\n",
    "# Get crystal angles\n",
    "eta_b2 = np.zeros(4, dtype=np.float64)\n",
    "theta_b2 = np.array([3 * np.pi / 2. - bragg,\n",
    "                     np.pi / 2. - bragg,\n",
    "                     np.pi / 2. + bragg,\n",
    "                     3 * np.pi / 2. + bragg])\n",
    "rho_b2 = theta_b2 + np.pi\n",
    "tau_b2 = np.zeros(4, dtype=np.float64)\n",
    "\n",
    "# Add the effect of the global rotation due to the grating momentum transfer\n",
    "theta_b2 += angle_offset_2\n",
    "rho_b2 += angle_offset_2\n",
    "\n",
    "# Initialize the crystals\n",
    "crystal_list_2 = lclsutil.get_crystal_list(num=4,\n",
    "                                           hlen=np.array([h_length, ] * 4),\n",
    "                                           theta=theta_b2,\n",
    "                                           eta=eta_b2,\n",
    "                                           rho=rho_b2,\n",
    "                                           tau=tau_b2,\n",
    "                                           chi0=chi0,\n",
    "                                           chih_sigma=chih_sigma,\n",
    "                                           chihbar_sigma=chihbar_sigma,\n",
    "                                           chih_pi=chih_pi,\n",
    "                                           chihbar_pi=chihbar_pi)\n",
    "\n",
    "# ------------------------------------------------------\n",
    "#   Define the positions\n",
    "# ------------------------------------------------------\n",
    "path_list_fix = [5e6 - 1e5, 1.1e5, 6.5e5, 1.12e5, 6e6, 1e6]\n",
    "path_list_var = [5e6, 1e4, 5e4, 1e4, 20e4, 10e4, 10e4, 10.2e4, 6e6, 1e6]\n",
    "delay_time = 0\n",
    "\n",
    "# ---------------------------------------------------------------------------\n",
    "#                  Initialize the position of the crystals\n",
    "# ---------------------------------------------------------------------------\n",
    "(fix_branch_path,\n",
    " kout_fixed,\n",
    " intersect_fixed,\n",
    " var_branch_path,\n",
    " kout_var,\n",
    " intersect_var) = lightpath.adjust_path_length(delay_time=delay_time,\n",
    "                                               fix_branch_path=path_list_fix,\n",
    "                                               fix_branch_crystal=crystal_list_2,\n",
    "                                               var_branch_path=path_list_var,\n",
    "                                               var_branch_crystal=crystal_list_1,\n",
    "                                               grating_pair=grating_list,\n",
    "                                               kin=my_pulse.k0)\n",
    "\n",
    "# -----------------------------------------------------------------------------\n",
    "#                 Update the crystals\n",
    "# -----------------------------------------------------------------------------\n",
    "crystal_list_1 = lclsutil.update_crystal_list(crystal_list_1,\n",
    "                                              surface_points=np.copy(intersect_var[1:-2]))\n",
    "crystal_list_2 = lclsutil.update_crystal_list(crystal_list_2,\n",
    "                                              surface_points=np.copy(intersect_fixed[1:-2]))\n",
    "grating_list[0].set_surface_point(np.copy(intersect_fixed[0]))\n",
    "grating_list[1].set_surface_point(np.copy(intersect_fixed[-2]))\n",
    "\n",
    "# ------------------------------------------------------------------------------\n",
    "#                  Get the total path\n",
    "# ------------------------------------------------------------------------------\n",
    "total_path = np.sum(fix_branch_path)\n",
    "print(total_path/1e6)"
   ]
  },
  {
   "cell_type": "markdown",
   "metadata": {},
   "source": [
    "# Rotate and shift the crystals to get the spatial instability"
   ]
  },
  {
   "cell_type": "code",
   "execution_count": 3,
   "metadata": {},
   "outputs": [],
   "source": [
    "# In this simulation, I would like to study the stage moving direction across 1000 urad variation.\n",
    "stage_rot_num = 300\n",
    "stage_rot_num_tot = 2 * stage_rot_num + 1\n",
    "stage_rot_angles = np.arange(-stage_rot_num, stage_rot_num + 1) / stage_rot_num_tot\n",
    "stage_rot_angles += dtheta\n",
    "\n",
    "# How many moving direction\n",
    "# 21 moving steps\n",
    "# 3d vector\n",
    "position_holder = np.zeros((stage_rot_num_tot, 21, 3), dtype=np.float64)\n",
    "\n",
    "path_holder = np.zeros((stage_rot_num_tot, 21), dtype=np.float64)\n",
    "\n",
    "#####################################################################################\n",
    "#                     Create a new crystal list to do the simulation\n",
    "#####################################################################################\n",
    "bragg_crystal_list = lclsutil.get_crystal_list(num=8,\n",
    "                                               hlen=np.array([h_length, ] * 8),\n",
    "                                               theta=theta_b1,\n",
    "                                               eta=eta_b1,\n",
    "                                               rho=rho_b1,\n",
    "                                               tau=tau_b1,\n",
    "                                               chi0=chi0,\n",
    "                                               chih_sigma=chih_sigma,\n",
    "                                               chihbar_sigma=chihbar_sigma,\n",
    "                                               chih_pi=chih_pi,\n",
    "                                               chihbar_pi=chihbar_pi,\n",
    "                                               surface_points=np.copy(intersect_var[1:-2]))\n",
    "\n",
    "#####################################################################################\n",
    "#                               Carry out the simulation\n",
    "#####################################################################################\n",
    "crystal_list = [grating_list[0],] + bragg_crystal_list + [grating_list[1],]\n",
    "\n",
    "\n",
    "for rot_idx in range(stage_rot_num_tot):\n",
    "    for m_idx in range(21):\n",
    "        \n",
    "        ##############################################################################################\n",
    "        #                 Step 1: Initialize the crystals\n",
    "        ##############################################################################################\n",
    "        bragg_crystal_list = lclsutil.update_crystal_list(bragg_crystal_list,\n",
    "                                                      surface_points=np.copy(intersect_var[1:-2]))\n",
    "        \n",
    "        ##############################################################################################\n",
    "        #                 Step 2: Shift the crystals\n",
    "        ##############################################################################################\n",
    "        # Define the displacement vector\n",
    "        distance = (float(m_idx) - 10.) * 1e3\n",
    "        displacement = np.array([0.,\n",
    "                                np.cos(stage_rot_angles[rot_idx]),\n",
    "                                -np.sin(stage_rot_angles[rot_idx])]) * distance\n",
    "        \n",
    "        # Shift the crystals\n",
    "        crystal.rotate_shift_crystal_list(crystal_list=bragg_crystal_list[4:],\n",
    "                                          rot_mat=None,\n",
    "                                          displacement=displacement)\n",
    "        \n",
    "        ##############################################################################################\n",
    "        #                 Step 3: Calculate the kout and intersection points\n",
    "        ##############################################################################################\n",
    "        (intersects, \n",
    "        kouts) = lightpath.get_light_trajectory_with_total_path(kin_vec=my_pulse.k0,\n",
    "                                                                init_point=np.zeros(3, dtype=np.float64),\n",
    "                                                                total_path=total_path,\n",
    "                                                                crystal_list=crystal_list,\n",
    "                                                                g_orders = [1, -1])\n",
    "        \n",
    "        # Save the information\n",
    "        position_holder[rot_idx, m_idx, :] = intersects[-3]\n",
    "        path_holder[rot_idx, m_idx] = util.get_total_path_length(intersects[:-1])"
   ]
  },
  {
   "cell_type": "code",
   "execution_count": 4,
   "metadata": {},
   "outputs": [],
   "source": [
    "path_diff = path_holder - util.get_total_path_length(intersect_var[:-1])"
   ]
  },
  {
   "cell_type": "code",
   "execution_count": 5,
   "metadata": {},
   "outputs": [
    {
     "data": {
      "image/png": "[encoded data removed]",
      "text/plain": [
       "<Figure size 432x288 with 1 Axes>"
      ]
     },
     "metadata": {
      "needs_background": "light"
     },
     "output_type": "display_data"
    }
   ],
   "source": [
    "dist_list = np.arange(-10, 11) * 1e3\n",
    "\n",
    "for x in range(stage_rot_num):\n",
    "    plt.plot(dist_list,\n",
    "             path_diff[x])\n",
    "    \n",
    "plt.show()"
   ]
  },
  {
   "cell_type": "code",
   "execution_count": 6,
   "metadata": {},
   "outputs": [],
   "source": [
    "# Calculate the shift direction of the intersection \n",
    "slope =  np.zeros(stage_rot_num_tot)\n",
    "\n",
    "dist_list = np.arange(-10, 11) * 1e3\n",
    "\n",
    "# Slope through the origin\n",
    "\n",
    "for idx in range(stage_rot_num_tot):\n",
    "    slope[idx] = np.dot(path_holder[idx, :],\n",
    "                        dist_list) / np.dot(dist_list,dist_list)"
   ]
  },
  {
   "cell_type": "code",
   "execution_count": 7,
   "metadata": {},
   "outputs": [
    {
     "data": {
      "image/png": "[encoded data removed]",
      "text/plain": [
       "<Figure size 432x288 with 1 Axes>"
      ]
     },
     "metadata": {
      "needs_background": "light"
     },
     "output_type": "display_data"
    }
   ],
   "source": [
    "plt.plot(np.rad2deg(stage_rot_angles), slope)\n",
    "plt.show()"
   ]
  },
  {
   "cell_type": "markdown",
   "metadata": {},
   "source": [
    "# Theoretical value"
   ]
  },
  {
   "cell_type": "code",
   "execution_count": 8,
   "metadata": {},
   "outputs": [],
   "source": [
    "theta = bragg\n",
    "alpha = asy_angle\n",
    "\n",
    "coef = np.cos(bragg - asy_angle) * np.tan(theta) - np.sin(theta - asy_angle)\n",
    "coef *= 1 - np.cos(2 * theta)\n",
    "coef /= np.sin(theta + alpha) * np.tan(theta)"
   ]
  },
  {
   "cell_type": "code",
   "execution_count": 9,
   "metadata": {},
   "outputs": [
    {
     "data": {
      "text/plain": [
       "0.27852496955421596"
      ]
     },
     "execution_count": 9,
     "metadata": {},
     "output_type": "execute_result"
    }
   ],
   "source": [
    "2 * coef"
   ]
  },
  {
   "cell_type": "code",
   "execution_count": 10,
   "metadata": {},
   "outputs": [
    {
     "data": {
      "text/plain": [
       "5.611296083007922e-06"
      ]
     },
     "execution_count": 10,
     "metadata": {},
     "output_type": "execute_result"
    }
   ],
   "source": [
    "slope[300] - 2 * coef"
   ]
  },
  {
   "cell_type": "code",
   "execution_count": 11,
   "metadata": {
    "scrolled": true
   },
   "outputs": [
    {
     "data": {
      "text/plain": [
       "2.0146474091672638e-05"
      ]
     },
     "execution_count": 11,
     "metadata": {},
     "output_type": "execute_result"
    }
   ],
   "source": [
    "(slope[300] - 2 * coef) / 2 / coef"
   ]
  },
  {
   "cell_type": "markdown",
   "metadata": {},
   "source": [
    "# Angular difference"
   ]
  },
  {
   "cell_type": "code",
   "execution_count": 12,
   "metadata": {},
   "outputs": [],
   "source": [
    "position_holder_diff = position_holder - intersect_var[-3][np.newaxis, np.newaxis, :]"
   ]
  },
  {
   "cell_type": "code",
   "execution_count": 13,
   "metadata": {},
   "outputs": [],
   "source": [
    "# Calculate the shift direction of the intersection \n",
    "slope =  np.zeros(stage_rot_num_tot)\n",
    "# Slope through the origin\n",
    "\n",
    "for idx in range(stage_rot_num_tot):\n",
    "    slope[idx] = np.dot(position_holder_diff[idx, :, 1],\n",
    "                        position_holder_diff[idx, :, 2]) / np.dot(position_holder_diff[idx, :, 2], \n",
    "                                                                  position_holder_diff[idx, :, 2])"
   ]
  },
  {
   "cell_type": "code",
   "execution_count": 15,
   "metadata": {},
   "outputs": [
    {
     "data": {
      "image/png": "[encoded data removed]",
      "text/plain": [
       "<Figure size 432x288 with 1 Axes>"
      ]
     },
     "metadata": {
      "needs_background": "light"
     },
     "output_type": "display_data"
    }
   ],
   "source": [
    "angle_test = np.arctan(kout_var[9, 1] / kout_var[9,2])\n",
    "\n",
    "\n",
    "plt.plot(np.rad2deg(stage_rot_angles), 1e6 * np.abs(np.arctan(slope) - angle_test))\n",
    "plt.show()"
   ]
  },
  {
   "cell_type": "code",
   "execution_count": null,
   "metadata": {},
   "outputs": [],
   "source": [
    "import matplotlib.pyplot as plt\n",
    "\n",
    "# Create some mock data\n",
    "t = np.arange(0.01, 10.0, 0.01)\n",
    "data1 = np.exp(t)\n",
    "data2 = np.sin(2 * np.pi * t)\n",
    "\n",
    "fig, ax1 = plt.subplots()\n",
    "\n",
    "color = 'tab:red'\n",
    "ax1.set_xlabel('time (s)')\n",
    "ax1.set_ylabel('exp', color=color)\n",
    "ax1.plot(t, data1, color=color)\n",
    "ax1.tick_params(axis='y', labelcolor=color)\n",
    "\n",
    "ax2 = ax1.twinx()  # instantiate a second axes that shares the same x-axis\n",
    "\n",
    "color = 'tab:blue'\n",
    "ax2.set_ylabel('sin', color=color)  # we already handled the x-label with ax1\n",
    "ax2.plot(t, data2, color=color)\n",
    "ax2.tick_params(axis='y', labelcolor=color)\n",
    "\n",
    "fig.tight_layout()  # otherwise the right y-label is slightly clipped\n",
    "plt.show()"
   ]
  },
  {
   "cell_type": "code",
   "execution_count": null,
   "metadata": {},
   "outputs": [],
   "source": []
  }
 ],
 "metadata": {
  "kernelspec": {
   "display_name": "Python 3",
   "language": "python",
   "name": "python3"
  },
  "language_info": {
   "codemirror_mode": {
    "name": "ipython",
    "version": 3
   },
   "file_extension": ".py",
   "mimetype": "text/x-python",
   "name": "python",
   "nbconvert_exporter": "python",
   "pygments_lexer": "ipython3",
   "version": "3.6.9"
  }
 },
 "nbformat": 4,
 "nbformat_minor": 2
}
