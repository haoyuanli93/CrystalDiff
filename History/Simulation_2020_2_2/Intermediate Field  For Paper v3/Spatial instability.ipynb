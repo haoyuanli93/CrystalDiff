{
 "cells": [
  {
   "cell_type": "code",
   "execution_count": 1,
   "metadata": {
    "scrolled": false
   },
   "outputs": [],
   "source": [
    "import numpy as np\n",
    "import sys\n",
    "import time\n",
    "import h5py as h5\n",
    "import matplotlib.pyplot as plt\n",
    "from scipy.spatial.transform import Rotation\n",
    "\n",
    "sys.path.append(r\"C:\\Users\\haoyuan\\Documents\\GitHub\\CrystalDiff\")\n",
    "\n",
    "from CrystalDiff import util, pulse, lclsutil, crystal, lightpath"
   ]
  },
  {
   "cell_type": "markdown",
   "metadata": {},
   "source": [
    "# Get the Crystal Geometries"
   ]
  },
  {
   "cell_type": "code",
   "execution_count": 2,
   "metadata": {},
   "outputs": [],
   "source": [
    "# ----------------------------------------------------------------------------------------------------------\n",
    "#                       Step 1: Pulse\n",
    "# ----------------------------------------------------------------------------------------------------------\n",
    "energy_center = 10.\n",
    "pre_length = 1e6\n",
    "\n",
    "# Set up the pulse\n",
    "FWHM = 50 # (um)\n",
    "\n",
    "my_pulse = pulse.GaussianPulse3D()\n",
    "my_pulse.set_pulse_properties(central_energy=energy_center,\n",
    "                              polar=[0., 1., 0.],\n",
    "                              sigma_x=FWHM /2. / np.sqrt(np.log(2)) / util.c,\n",
    "                              sigma_y=FWHM /2. / np.sqrt(np.log(2)) / util.c,\n",
    "                              sigma_z=2.,\n",
    "                              x0=np.array([0., 0., -pre_length]))\n",
    "\n",
    "# ----------------------------------------------------------------------------------------------------------\n",
    "#                       Step 2: Split\n",
    "# ---------------------------------------------------------------------------------------------------------- \n",
    "grating_list = [crystal.RectangleGrating(), crystal.RectangleGrating()]\n",
    "grating_list[0].set_a(0.5)\n",
    "grating_list[0].set_b(0.5)\n",
    "grating_list[1].set_a(0.5)\n",
    "grating_list[1].set_b(0.5)\n",
    "\n",
    "dtheta = np.arctan(grating_list[0].base_wave_vector[1] / my_pulse.klen0)  # This is the deviation angle.\n",
    "\n",
    "\n",
    "# ----------------------------------------------------------------------------------------------------------\n",
    "#                       Step 3: Delay Lines\n",
    "# ----------------------------------------------------------------------------------------------------------\n",
    "# Some meta data for the delay line.\n",
    "h_length = 2. * np.pi / (1.9201 * 1e-4)\n",
    "\n",
    "# Some crystal properties\n",
    "chi0 = complex(-0.97631E-05, 0.14871E-06)\n",
    "chih_sigma = complex(0.59310E-05, -0.14320E-06)\n",
    "chihbar_sigma = complex(0.59310E-05, -0.14320E-06)\n",
    "chih_pi = complex(0.46945E-05, -0.11201E-06)\n",
    "chihbar_pi = complex(0.46945E-05, -0.11201E-06)\n",
    "\n",
    "# ~~~~~~~~~~~~~~~~~~~~~~~~~~~~~~~~~~~~~~~~~~~~~~~~~~~~~~~~~~~~~~~~~~~~~~~\n",
    "#                       Crystal for branch  1\n",
    "# ~~~~~~~~~~~~~~~~~~~~~~~~~~~~~~~~~~~~~~~~~~~~~~~~~~~~~~~~~~~~~~~~~~~~~~~\n",
    "# Set up the angles\n",
    "angle_offset_1 = dtheta\n",
    "\n",
    "# Bragg angle\n",
    "bragg = np.radians(18.836) + 10e-6\n",
    "\n",
    "d1 = 0.\n",
    "d2 = 15.5e-6\n",
    "d3 = 15.5e-6\n",
    "d4 = 0.\n",
    "\n",
    "# Get crystal angles\n",
    "eta_b1 = np.zeros(8, dtype=np.float64)\n",
    "theta_b1 = np.array([3 * np.pi / 2. - bragg,\n",
    "                     np.pi / 2. - bragg,\n",
    "                     np.pi / 2. + bragg + d2,\n",
    "                     3 * np.pi / 2. + bragg + d2,\n",
    "                     np.pi / 2. + bragg + d3,\n",
    "                     3 * np.pi / 2. + bragg + d3,\n",
    "                     3 * np.pi / 2. - bragg + d4,\n",
    "                     np.pi / 2. - bragg + d4])\n",
    "\n",
    "rho_b1 = theta_b1 + np.pi\n",
    "\n",
    "asy_angle = np.deg2rad(5)\n",
    "rho_b1[1] += asy_angle\n",
    "rho_b1[2] -= asy_angle\n",
    "rho_b1[5] -= asy_angle\n",
    "rho_b1[6] += asy_angle\n",
    "\n",
    "tau_b1 = np.zeros(8)\n",
    "\n",
    "\n",
    "# Add the effect of the global rotation due to the grating momentum transfer\n",
    "theta_b1 += angle_offset_1\n",
    "rho_b1 += angle_offset_1\n",
    "\n",
    "# Initialize the crystals\n",
    "crystal_list_1 = lclsutil.get_crystal_list(num=8,\n",
    "                                           hlen=np.array([h_length, ] * 8),\n",
    "                                           theta=theta_b1,\n",
    "                                           eta=eta_b1,\n",
    "                                           rho=rho_b1,\n",
    "                                           tau=tau_b1,\n",
    "                                           chi0=chi0,\n",
    "                                           chih_sigma=chih_sigma,\n",
    "                                           chihbar_sigma=chihbar_sigma,\n",
    "                                           chih_pi=chih_pi,\n",
    "                                           chihbar_pi=chihbar_pi)\n",
    "\n",
    "# ~~~~~~~~~~~~~~~~~~~~~~~~~~~~~~~~~~~~~~~~~~~~~~~~~~~~~~~~~~~~~~~~~~~~~~~\n",
    "#                       Crystal for branch  2\n",
    "# ~~~~~~~~~~~~~~~~~~~~~~~~~~~~~~~~~~~~~~~~~~~~~~~~~~~~~~~~~~~~~~~~~~~~~~~\n",
    "# Set up the angles\n",
    "angle_offset_2 = - dtheta\n",
    "bragg = np.radians(18.836) + 13e-6\n",
    "\n",
    "# Get crystal angles\n",
    "eta_b2 = np.zeros(4, dtype=np.float64)\n",
    "theta_b2 = np.array([3 * np.pi / 2. - bragg,\n",
    "                     np.pi / 2. - bragg,\n",
    "                     np.pi / 2. + bragg,\n",
    "                     3 * np.pi / 2. + bragg])\n",
    "rho_b2 = theta_b2 + np.pi\n",
    "tau_b2 = np.zeros(4, dtype=np.float64)\n",
    "\n",
    "# Add the effect of the global rotation due to the grating momentum transfer\n",
    "theta_b2 += angle_offset_2\n",
    "rho_b2 += angle_offset_2\n",
    "\n",
    "# Initialize the crystals\n",
    "crystal_list_2 = lclsutil.get_crystal_list(num=4,\n",
    "                                           hlen=np.array([h_length, ] * 4),\n",
    "                                           theta=theta_b2,\n",
    "                                           eta=eta_b2,\n",
    "                                           rho=rho_b2,\n",
    "                                           tau=tau_b2,\n",
    "                                           chi0=chi0,\n",
    "                                           chih_sigma=chih_sigma,\n",
    "                                           chihbar_sigma=chihbar_sigma,\n",
    "                                           chih_pi=chih_pi,\n",
    "                                           chihbar_pi=chihbar_pi)\n",
    "\n",
    "# ------------------------------------------------------\n",
    "#   Define the positions\n",
    "# ------------------------------------------------------\n",
    "path_list_fix = [5e6 - 1e5, 1.1e5, 6.5e5, 1.12e5, 6e6, 1e6]\n",
    "path_list_var = [5e6, 1e4, 5e4, 1e4, 20e4, 10e4, 10e4, 10.2e4, 6e6, 1e6]\n",
    "delay_time = 0"
   ]
  },
  {
   "cell_type": "markdown",
   "metadata": {},
   "source": [
    "# Arrange the crystals"
   ]
  },
  {
   "cell_type": "code",
   "execution_count": 3,
   "metadata": {},
   "outputs": [],
   "source": [
    "# ---------------------------------------------------------------------------\n",
    "#                  Initialize the position of the crystals\n",
    "# ---------------------------------------------------------------------------\n",
    "(fix_branch_path,\n",
    " kout_fixed,\n",
    " intersect_fixed,\n",
    " var_branch_path,\n",
    " kout_var,\n",
    " intersect_var) = lightpath.adjust_path_length(delay_time=delay_time,\n",
    "                                               fix_branch_path=path_list_fix,\n",
    "                                               fix_branch_crystal=crystal_list_2,\n",
    "                                               var_branch_path=path_list_var,\n",
    "                                               var_branch_crystal=crystal_list_1,\n",
    "                                               grating_pair=grating_list,\n",
    "                                               kin=my_pulse.k0)\n",
    "\n",
    "# -----------------------------------------------------------------------------\n",
    "#                 Update the crystals\n",
    "# -----------------------------------------------------------------------------\n",
    "crystal_list_1 = lclsutil.update_crystal_list(crystal_list_1,\n",
    "                                              surface_points=np.copy(intersect_var[1:-2]))\n",
    "crystal_list_2 = lclsutil.update_crystal_list(crystal_list_2,\n",
    "                                              surface_points=np.copy(intersect_fixed[1:-2]))\n",
    "grating_list[0].set_surface_point(np.copy(intersect_fixed[0]))\n",
    "grating_list[1].set_surface_point(np.copy(intersect_fixed[-2]))"
   ]
  },
  {
   "cell_type": "code",
   "execution_count": 4,
   "metadata": {
    "scrolled": true
   },
   "outputs": [
    {
     "name": "stdout",
     "output_type": "stream",
     "text": [
      "10.904975552762416\n"
     ]
    }
   ],
   "source": [
    "total_path = np.sum(fix_branch_path)\n",
    "print(total_path/1e6)"
   ]
  },
  {
   "cell_type": "markdown",
   "metadata": {},
   "source": [
    "# Rotate and shift the crystals to get the spatial instability"
   ]
  },
  {
   "cell_type": "code",
   "execution_count": 5,
   "metadata": {},
   "outputs": [],
   "source": [
    "# In this simulation, I would like to study the derivation across 10 urad variation.\n",
    "# The num is the number of partitions I divide the 10 urad into.\n",
    "num = 100\n",
    "num_total = 2 * num + 1\n",
    "\n",
    "kout_holder = np.zeros((3, num_total, 3), dtype=np.float64)\n",
    "position_holder = np.zeros((3, num_total, 3), dtype=np.float64)\n",
    "\n",
    "for a_idx in range(3):  # The axis index\n",
    "\n",
    "    eular_list = np.zeros((num_total, 3), dtype = np.float64)\n",
    "    eular_list[:, a_idx] = np.arange(-num, num + 1) * 1e-5 / num\n",
    "\n",
    "    for idx in range(num_total):\n",
    "\n",
    "        \n",
    "        ##############################################################################################\n",
    "        #                 Step 1: Initialize the crystals\n",
    "        ##############################################################################################\n",
    "        crystal_list_1 = lclsutil.update_crystal_list(crystal_list_1,\n",
    "                                                      hlen=np.array([h_length, ] * 8),\n",
    "                                                      theta=theta_b1,\n",
    "                                                      eta=eta_b1,\n",
    "                                                      rho=rho_b1,\n",
    "                                                      tau=tau_b1,\n",
    "                                                      surface_points=np.copy(intersect_var[1:-2]))\n",
    "        \n",
    "        total_path = np.sum(fix_branch_path)\n",
    "        ##############################################################################################\n",
    "        #                 Step 2: Rotate the crystals\n",
    "        ##############################################################################################\n",
    "        # Define rotation matrix\n",
    "        rot_mat = Rotation.from_euler('xyz', eular_list[idx], degrees=False)\n",
    "        matrix = rot_mat.as_dcm()\n",
    "\n",
    "        crystal.rotate_shift_crystal_list(crystal_list=crystal_list_1[4:],\n",
    "                                          rot_mat=matrix,\n",
    "                                          displacement=None)\n",
    "        \n",
    "        ##############################################################################################\n",
    "        #                 Step 3: Calculate the kout and intersection points\n",
    "        ##############################################################################################\n",
    "        crystal_list = list(range(10))\n",
    "        crystal_list[0] = grating_list[0]\n",
    "        crystal_list[1:-1] = crystal_list_1[:]\n",
    "        crystal_list[-1] = grating_list[1]\n",
    "        \n",
    "        (intersects, \n",
    "        kouts) = lightpath.get_light_trajectory_with_total_path(kin_vec=my_pulse.k0,\n",
    "                                                                init_point=np.zeros(3, dtype=np.float64),\n",
    "                                                                total_path=total_path,\n",
    "                                                                crystal_list=crystal_list,\n",
    "                                                                g_orders = [1, -1])\n",
    "        \n",
    "        # Save the information\n",
    "        kout_holder[:, idx, a_idx] = kouts[-1]\n",
    "        position_holder[:,idx,a_idx] = intersects[-2]"
   ]
  },
  {
   "cell_type": "code",
   "execution_count": 6,
   "metadata": {},
   "outputs": [
    {
     "name": "stdout",
     "output_type": "stream",
     "text": [
      "[0. 0. 1.]\n",
      "[0.         0.94648338 0.32275255]\n",
      "[ 0.         -0.97101147 -0.23903291]\n",
      "[ 0.         -0.97094845  0.23928874]\n",
      "[ 0.          0.94639831 -0.3230019 ]\n",
      "[ 9.46398315e-06 -9.46398315e-01  3.23001904e-01]\n",
      "[-9.70948454e-06  9.70948454e-01 -2.39288736e-01]\n",
      "[-9.71011465e-06  9.71011465e-01  2.39032914e-01]\n",
      "[ 9.46483383e-06 -9.46483383e-01 -3.22752547e-01]\n",
      "[0. 0. 1.]\n"
     ]
    }
   ],
   "source": [
    "for x in crystal_list:\n",
    "    print(x.normal)"
   ]
  },
  {
   "cell_type": "code",
   "execution_count": 7,
   "metadata": {
    "scrolled": true
   },
   "outputs": [
    {
     "data": {
      "text/plain": [
       "(11, 3)"
      ]
     },
     "execution_count": 7,
     "metadata": {},
     "output_type": "execute_result"
    }
   ],
   "source": [
    "kouts.shape"
   ]
  },
  {
   "cell_type": "markdown",
   "metadata": {},
   "source": [
    "# Calculate gradient"
   ]
  },
  {
   "cell_type": "code",
   "execution_count": 8,
   "metadata": {},
   "outputs": [],
   "source": [
    "kout_diff = kout_holder - kout_var[-1][:, np.newaxis, np.newaxis]"
   ]
  },
  {
   "cell_type": "code",
   "execution_count": 9,
   "metadata": {},
   "outputs": [
    {
     "data": {
      "image/png": "[encoded data removed]",
      "text/plain": [
       "<Figure size 864x432 with 1 Axes>"
      ]
     },
     "metadata": {
      "needs_background": "light"
     },
     "output_type": "display_data"
    }
   ],
   "source": [
    "axis = ['x', 'y', 'z']\n",
    "momen = ['kx', 'ky', 'kz']\n",
    "\n",
    "plt.figure(figsize=(12,6))\n",
    "\n",
    "for x in range(3):\n",
    "    for y in range(3):\n",
    "        plt.plot(np.arange(-100, 101) / 10., kout_diff[x, :, y], label=\"{}, {} rot\".format(momen[x],\n",
    "                                                                                           axis[y]))\n",
    "        \n",
    "plt.legend()\n",
    "plt.show()"
   ]
  },
  {
   "cell_type": "code",
   "execution_count": 10,
   "metadata": {},
   "outputs": [
    {
     "data": {
      "image/png": "[encoded data removed]",
      "text/plain": [
       "<Figure size 864x432 with 1 Axes>"
      ]
     },
     "metadata": {
      "needs_background": "light"
     },
     "output_type": "display_data"
    }
   ],
   "source": [
    "axis = ['x', 'y', 'z']\n",
    "momen = ['kx', 'ky', 'kz']\n",
    "\n",
    "plt.figure(figsize=(12,6))\n",
    "\n",
    "for x in range(2,3):\n",
    "    for y in range(3):\n",
    "        plt.plot(np.arange(-100, 101) / 10., kout_diff[x, :, y], label=\"{}, {} rot\".format(momen[x],\n",
    "                                                                                           axis[y]))\n",
    "        \n",
    "plt.legend()\n",
    "plt.show()"
   ]
  },
  {
   "cell_type": "code",
   "execution_count": 11,
   "metadata": {},
   "outputs": [],
   "source": [
    "gradient_holder = np.zeros((3, 3))\n",
    "\n",
    "angles = np.arange(-100, 101) / 10.  # urad\n",
    "\n",
    "for x in range(3):\n",
    "    for y in range(3):\n",
    "        \n",
    "        # Slope through the origin\n",
    "        slope_o = np.dot(angles, kout_diff[x, :, y]) / np.dot(angles, angles)\n",
    "        \n",
    "        # Save the gradient\n",
    "        gradient_holder[x, y] = slope_o"
   ]
  },
  {
   "cell_type": "code",
   "execution_count": 12,
   "metadata": {},
   "outputs": [
    {
     "name": "stdout",
     "output_type": "stream",
     "text": [
      "kx x\n",
      "0.0\n",
      "kx y\n",
      "1.0692352266099662e-10\n",
      "kx z\n",
      "8.101647829177049e-07\n",
      "ky x\n",
      "1.1345762240088258e-07\n",
      "ky y\n",
      "-9.38783375854478e-25\n",
      "ky z\n",
      "4.583903202414443e-29\n",
      "kz x\n",
      "-1.417107524211834e-11\n",
      "kz y\n",
      "6.111870936552591e-29\n",
      "kz z\n",
      "-1.9099596676726847e-29\n"
     ]
    }
   ],
   "source": [
    "k_val = ['kx' , 'ky', 'kz']\n",
    "a_val = ['x', 'y', 'z']\n",
    "\n",
    "for x in range(3):\n",
    "    for y in range(3):\n",
    "        print(k_val[x], a_val[y])\n",
    "        print(gradient_holder[x,y])"
   ]
  },
  {
   "cell_type": "code",
   "execution_count": 13,
   "metadata": {},
   "outputs": [
    {
     "name": "stdout",
     "output_type": "stream",
     "text": [
      "[[ 0.00000000e+00  1.06923523e-10  8.10164783e-07]\n",
      " [ 1.13457622e-07 -9.38783376e-25  4.58390320e-29]\n",
      " [-1.41710752e-11  6.11187094e-29 -1.90995967e-29]]\n"
     ]
    }
   ],
   "source": [
    "print(gradient_holder)"
   ]
  },
  {
   "cell_type": "code",
   "execution_count": 14,
   "metadata": {},
   "outputs": [
    {
     "name": "stdout",
     "output_type": "stream",
     "text": [
      "[[ 0.00000000e+00  2.10988957e-14  1.59867369e-10]\n",
      " [ 2.23882498e-11 -1.85247287e-28  9.04527770e-33]\n",
      " [-2.79633546e-15  1.20603703e-32 -3.76886571e-33]]\n"
     ]
    }
   ],
   "source": [
    "print(np.arctan(gradient_holder * 10 / my_pulse.klen0))"
   ]
  },
  {
   "cell_type": "code",
   "execution_count": 15,
   "metadata": {},
   "outputs": [
    {
     "name": "stdout",
     "output_type": "stream",
     "text": [
      "[[ 0.00000000e+00  2.10988957e-15  1.59867369e-11]\n",
      " [ 2.23882498e-12 -1.85247287e-29  9.04527770e-34]\n",
      " [-2.79633546e-16  1.20603703e-33 -3.76886571e-34]]\n"
     ]
    }
   ],
   "source": [
    "print(gradient_holder / my_pulse.klen0)"
   ]
  },
  {
   "cell_type": "markdown",
   "metadata": {},
   "source": [
    "# Calculate spatial gradient"
   ]
  },
  {
   "cell_type": "code",
   "execution_count": 16,
   "metadata": {},
   "outputs": [],
   "source": [
    "position_diff = position_holder - intersect_var[-2][:, np.newaxis, np.newaxis]"
   ]
  },
  {
   "cell_type": "code",
   "execution_count": 17,
   "metadata": {},
   "outputs": [
    {
     "data": {
      "image/png": "[encoded data removed]",
      "text/plain": [
       "<Figure size 864x432 with 1 Axes>"
      ]
     },
     "metadata": {
      "needs_background": "light"
     },
     "output_type": "display_data"
    }
   ],
   "source": [
    "axis = ['x', 'y', 'z']\n",
    "pos = ['px', 'py', 'pz']\n",
    "\n",
    "plt.figure(figsize=(12,6))\n",
    "\n",
    "for x in range(3):\n",
    "    for y in range(3):\n",
    "        plt.plot(np.arange(-100, 101) / 10., position_diff[x, :, y], label=\"{}, {} rot\".format(pos[x],\n",
    "                                                                                           axis[y]))\n",
    "        \n",
    "plt.legend()\n",
    "plt.show()"
   ]
  },
  {
   "cell_type": "code",
   "execution_count": 18,
   "metadata": {},
   "outputs": [],
   "source": [
    "gradient_holder = np.zeros((3, 3))\n",
    "\n",
    "angles = np.arange(-100, 101) / 10.  # urad\n",
    "\n",
    "for x in range(3):\n",
    "    for y in range(3):\n",
    "        \n",
    "        # Slope through the origin\n",
    "        slope_o = np.dot(angles, position_diff[x, :, y]) / np.dot(angles, angles)\n",
    "        \n",
    "        # Save the gradient\n",
    "        gradient_holder[x, y] = slope_o"
   ]
  },
  {
   "cell_type": "code",
   "execution_count": 19,
   "metadata": {},
   "outputs": [
    {
     "name": "stdout",
     "output_type": "stream",
     "text": [
      "[[ 0.00000000e+00 -4.21155272e-02  1.30536580e-03]\n",
      " [ 5.20574819e-01 -7.20985633e-23 -4.53745298e-25]\n",
      " [-5.20711846e-23 -5.20711846e-23 -5.20711846e-23]]\n"
     ]
    }
   ],
   "source": [
    "print(gradient_holder)"
   ]
  },
  {
   "cell_type": "code",
   "execution_count": 20,
   "metadata": {},
   "outputs": [
    {
     "name": "stdout",
     "output_type": "stream",
     "text": [
      "[[ 0.00000000e+00 -3.98609626e-01  1.30529167e-02]\n",
      " [ 1.38101282e+00 -7.20985633e-22 -4.53745298e-24]\n",
      " [-5.20711846e-22 -5.20711846e-22 -5.20711846e-22]]\n"
     ]
    }
   ],
   "source": [
    "print(np.arctan(gradient_holder * 10 ))"
   ]
  },
  {
   "cell_type": "code",
   "execution_count": 21,
   "metadata": {},
   "outputs": [
    {
     "data": {
      "text/plain": [
       "array([0.00000000e+00, 6.28318531e+00, 5.06773076e+04])"
      ]
     },
     "execution_count": 21,
     "metadata": {},
     "output_type": "execute_result"
    }
   ],
   "source": [
    "kout_var[1]"
   ]
  },
  {
   "cell_type": "code",
   "execution_count": 22,
   "metadata": {},
   "outputs": [
    {
     "data": {
      "text/plain": [
       "array([0.00000000e+00, 7.09335009e+00, 5.06773075e+04])"
      ]
     },
     "execution_count": 22,
     "metadata": {},
     "output_type": "execute_result"
    }
   ],
   "source": [
    "kout_var[5]"
   ]
  },
  {
   "cell_type": "code",
   "execution_count": 23,
   "metadata": {},
   "outputs": [
    {
     "data": {
      "text/plain": [
       "array([ 0.00000000e+00,  1.59867369e-05, -2.10989057e-09])"
      ]
     },
     "execution_count": 23,
     "metadata": {},
     "output_type": "execute_result"
    }
   ],
   "source": [
    "(kout_var[5] - kout_var[1]) / my_pulse.klen0"
   ]
  },
  {
   "cell_type": "code",
   "execution_count": 24,
   "metadata": {},
   "outputs": [
    {
     "data": {
      "text/plain": [
       "array([    0.        ,     0.        , 50677.30758894])"
      ]
     },
     "execution_count": 24,
     "metadata": {},
     "output_type": "execute_result"
    }
   ],
   "source": [
    "my_pulse.k0"
   ]
  },
  {
   "cell_type": "code",
   "execution_count": 25,
   "metadata": {},
   "outputs": [
    {
     "data": {
      "text/plain": [
       "array([0.00000000e+00, 8.12283574e-11, 0.00000000e+00])"
      ]
     },
     "execution_count": 25,
     "metadata": {},
     "output_type": "execute_result"
    }
   ],
   "source": [
    "my_pulse.k0 - kout_var[-1]"
   ]
  }
 ],
 "metadata": {
  "kernelspec": {
   "display_name": "Python 3",
   "language": "python",
   "name": "python3"
  },
  "language_info": {
   "codemirror_mode": {
    "name": "ipython",
    "version": 3
   },
   "file_extension": ".py",
   "mimetype": "text/x-python",
   "name": "python",
   "nbconvert_exporter": "python",
   "pygments_lexer": "ipython3",
   "version": "3.6.9"
  }
 },
 "nbformat": 4,
 "nbformat_minor": 2
}
