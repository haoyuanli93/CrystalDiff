{
 "cells": [
  {
   "cell_type": "code",
   "execution_count": 1,
   "metadata": {
    "scrolled": false
   },
   "outputs": [],
   "source": [
    "import numpy as np\n",
    "import sys\n",
    "import time\n",
    "import h5py as h5\n",
    "import matplotlib.pyplot as plt\n",
    "\n",
    "sys.path.append(r\"C:\\Users\\haoyuan\\Documents\\GitHub\\CrystalDiff\")\n",
    "\n",
    "from CrystalDiff import util, pulse, lclsutil, groutine, crystal"
   ]
  },
  {
   "cell_type": "markdown",
   "metadata": {},
   "source": [
    "# Get the Crystal Geometries"
   ]
  },
  {
   "cell_type": "code",
   "execution_count": 2,
   "metadata": {},
   "outputs": [],
   "source": [
    "# ----------------------------------------------------------------------------------------------------------\n",
    "#                       Step 1: Pulse\n",
    "# ----------------------------------------------------------------------------------------------------------\n",
    "\n",
    "energy_center = 10.\n",
    "pre_length = 1e6\n",
    "\n",
    "# Set up the pulse\n",
    "my_pulse = pulse.GaussianPulse3D()\n",
    "my_pulse.set_pulse_properties(central_energy=energy_center,\n",
    "                              polar=[0., 1., 0.],\n",
    "                              sigma_x=708.2581446128465,\n",
    "                              sigma_y=708.2581446128465,\n",
    "                              sigma_z=.1,\n",
    "                              x0=np.array([0., 0., -pre_length]))\n",
    "\n",
    "# ----------------------------------------------------------------------------------------------------------\n",
    "#                       Step 2: Split\n",
    "# ----------------------------------------------------------------------------------------------------------\n",
    "dtheta = np.arctan(1.5 * 1e-3 / 5.)      # This is the deviation angle.\n",
    "\n",
    "grating_list = [crystal.RectangleGrating(), crystal.RectangleGrating()]\n",
    "grating_list[0].set_a(util.get_grating_period(dtheta=dtheta, klen_in=my_pulse.klen0) / 2)\n",
    "grating_list[0].set_b(util.get_grating_period(dtheta=dtheta, klen_in=my_pulse.klen0) / 2)\n",
    "\n",
    "grating_list[1].set_a(util.get_grating_period(dtheta=dtheta, klen_in=my_pulse.klen0) / 2)\n",
    "grating_list[1].set_b(util.get_grating_period(dtheta=dtheta, klen_in=my_pulse.klen0) / 2)\n",
    "\n",
    "# ----------------------------------------------------------------------------------------------------------\n",
    "#                       Step 3: Delay Lines\n",
    "# ----------------------------------------------------------------------------------------------------------\n",
    "# Some meta data for the delay line.\n",
    "reflect_num = 4\n",
    "h_length = 2. * np.pi / (1.9201 * 1e-4)\n",
    "hlen_vals = np.array([h_length, ] * reflect_num)\n",
    "\n",
    "# Some crystal properties\n",
    "chi0=complex(-0.97631E-05, 0.14871E-06)\n",
    "chih_sigma=complex(0.59310E-05, -0.14320E-06)\n",
    "chihbar_sigma=complex(0.59310E-05, -0.14320E-06)\n",
    "chih_pi=complex(0.46945E-05, -0.11201E-06)\n",
    "chihbar_pi=complex(0.46945E-05, -0.11201E-06)\n",
    "\n",
    "# ~~~~~~~~~~~~~~~~~~~~~~~~~~~~~~~~~~~~~~~~~~~~~~~~~~~~~~~~~~~~~~~~~~~~~~~\n",
    "#                       Crystal to fix the shearing\n",
    "# ~~~~~~~~~~~~~~~~~~~~~~~~~~~~~~~~~~~~~~~~~~~~~~~~~~~~~~~~~~~~~~~~~~~~~~~\n",
    "# Set up the angles\n",
    "angle_offset_0 = 0.\n",
    "bragg_angle_0 = np.radians(18.836) + 13e-6\n",
    "\n",
    "branch_angle_0 = lclsutil.get_delay_line_angles(angle_offset=angle_offset_0,\n",
    "                                                theta=bragg_angle_0 + np.pi / 2. ,\n",
    "                                                rho=bragg_angle_0 - np.pi / 2. ,\n",
    "                                                inclined_angle=np.radians(-10.))\n",
    "surface_points_0 = np.zeros((reflect_num, 3), dtype=np.float64)\n",
    "\n",
    "# Set the misalignment angle\n",
    "misalign_branch_0_crystal_1 = [0., 0., 0.]\n",
    "misalign_branch_0_crystal_2 = [0., 0., 0.]\n",
    "\n",
    "# Initialize the crystals\n",
    "shear_fix_crystal = lclsutil.get_crystal_list_delay_branch(hlen_vals=hlen_vals,\n",
    "                                                        theta_vals=branch_angle_0[0],\n",
    "                                                        rho_vals=branch_angle_0[1],\n",
    "                                                        tau_vals=branch_angle_0[2],\n",
    "                                                        surface_points=surface_points_0,\n",
    "                                                        chi0=chi0,\n",
    "                                                        chih_sigma=chih_sigma, chihbar_sigma=chihbar_sigma,\n",
    "                                                        chih_pi=chih_pi, chihbar_pi=chihbar_pi,\n",
    "                                                        misalign_1=misalign_branch_0_crystal_1,\n",
    "                                                        misalign_2=misalign_branch_0_crystal_2)\n",
    "\n",
    "# ~~~~~~~~~~~~~~~~~~~~~~~~~~~~~~~~~~~~~~~~~~~~~~~~~~~~~~~~~~~~~~~~~~~~~~~\n",
    "#                       Crystal for branch  1\n",
    "# ~~~~~~~~~~~~~~~~~~~~~~~~~~~~~~~~~~~~~~~~~~~~~~~~~~~~~~~~~~~~~~~~~~~~~~~\n",
    "# Set up the angles\n",
    "angle_offset_1 = dtheta\n",
    "bragg_angle_1 = np.radians(18.836) + 10e-6\n",
    "\n",
    "branch_angle_1 = lclsutil.get_delay_line_angles(angle_offset=angle_offset_1,\n",
    "                                                theta=bragg_angle_1 + np.pi / 2. ,\n",
    "                                                rho=bragg_angle_1 - np.pi / 2. ,\n",
    "                                                inclined_angle=np.radians(10.))\n",
    "surface_points_1 = np.zeros((reflect_num, 3), dtype=np.float64)\n",
    "\n",
    "# Set the misalignment angle\n",
    "misalign_branch_1_crystal_1 = [0., 0., 0.]\n",
    "misalign_branch_1_crystal_2 = [0., 0., 0.]\n",
    "\n",
    "# Initialize the crystals\n",
    "crystal_list_1 = lclsutil.get_crystal_list_delay_branch(hlen_vals=hlen_vals,\n",
    "                                                        theta_vals=branch_angle_1[0],\n",
    "                                                        rho_vals=branch_angle_1[1],\n",
    "                                                        tau_vals=branch_angle_1[2],\n",
    "                                                        surface_points=surface_points_1,\n",
    "                                                        chi0=chi0,\n",
    "                                                        chih_sigma=chih_sigma, chihbar_sigma=chihbar_sigma,\n",
    "                                                        chih_pi=chih_pi, chihbar_pi=chihbar_pi,\n",
    "                                                        misalign_1=misalign_branch_1_crystal_1,\n",
    "                                                        misalign_2=misalign_branch_1_crystal_2)\n",
    "\n",
    "# ~~~~~~~~~~~~~~~~~~~~~~~~~~~~~~~~~~~~~~~~~~~~~~~~~~~~~~~~~~~~~~~~~~~~~~~\n",
    "#                       Crystal for branch  2\n",
    "# ~~~~~~~~~~~~~~~~~~~~~~~~~~~~~~~~~~~~~~~~~~~~~~~~~~~~~~~~~~~~~~~~~~~~~~~\n",
    "# Set up the angles\n",
    "angle_offset_2 = - dtheta\n",
    "bragg_angle_2 = np.radians(18.836) + 10e-6\n",
    "\n",
    "branch_angle_2 = lclsutil.get_delay_line_angles(angle_offset=angle_offset_2,\n",
    "                                                theta=1.5 * np.pi - bragg_angle_2,\n",
    "                                                rho=0.5 * np.pi - bragg_angle_2,\n",
    "                                                inclined_angle=np.radians(-10.))\n",
    "surface_points_2 = np.zeros((reflect_num, 3), dtype=np.float64)\n",
    "\n",
    "# Set the misalignment angle\n",
    "misalign_branch_2_crystal_1 = [0., 0., 0.]\n",
    "misalign_branch_2_crystal_2 = [0., 0., 0.]\n",
    "\n",
    "# Initialize the crystals\n",
    "crystal_list_2 = lclsutil.get_crystal_list_delay_branch(hlen_vals=hlen_vals,\n",
    "                                                        theta_vals=branch_angle_2[0],\n",
    "                                                        rho_vals=branch_angle_2[1],\n",
    "                                                        tau_vals=branch_angle_2[2],\n",
    "                                                        surface_points=surface_points_2,\n",
    "                                                        chi0=chi0,\n",
    "                                                        chih_sigma=chih_sigma, chihbar_sigma=chihbar_sigma,\n",
    "                                                        chih_pi=chih_pi, chihbar_pi=chihbar_pi,\n",
    "                                                        misalign_1=misalign_branch_2_crystal_1,\n",
    "                                                        misalign_2=misalign_branch_2_crystal_2)\n",
    "\n",
    "\n",
    "# ------------------------------------------------------\n",
    "#   Define the positions\n",
    "# ------------------------------------------------------\n",
    "path_list_0 = [0., 1e5, 1e5, 1e5]\n",
    "dist_shear_crystal_grating = 5e5\n",
    "\n",
    "path_list_1 = [5e6 - 10e4, 1e5, 5e5, 1.05e5, 6e6, 1e6]\n",
    "path_list_2 = [5e6, 1e5, 1e5, 1.05e5, 6e6, 1e6]\n",
    "delay_time = 600."
   ]
  },
  {
   "cell_type": "markdown",
   "metadata": {},
   "source": [
    "# Arrange the crystals"
   ]
  },
  {
   "cell_type": "code",
   "execution_count": 3,
   "metadata": {},
   "outputs": [
    {
     "name": "stdout",
     "output_type": "stream",
     "text": [
      "The total propagation length is 13.03m.\n"
     ]
    }
   ],
   "source": [
    "# Get the positions for the shearing fix branch\n",
    "(intersect_branch_0,\n",
    "kout_branch_0) = lclsutil.get_point_with_definite_path(kin_vec = my_pulse.k0,\n",
    "                                                       path_sections = path_list_0,\n",
    "                                                       crystal_list = shear_fix_crystal)\n",
    "\n",
    "# Adjust the path sections\n",
    "(path_list_1,\n",
    " path_list_2) = lclsutil.get_split_delay_configuration(delay_time=delay_time,\n",
    "                                                       fix_branch_path=path_list_2,\n",
    "                                                       var_branch_path=path_list_1,\n",
    "                                                       fix_branch_crystal=crystal_list_2,\n",
    "                                                       var_branch_crystal=crystal_list_1,\n",
    "                                                       grating_pair=grating_list,\n",
    "                                                       kin=kout_branch_0[-1])\n",
    "\n",
    "(intersect_branch_1,\n",
    " kout_brunch_1,\n",
    " intersect_branch_2,\n",
    " kout_brunch_2) = lclsutil.get_light_path(kin=kout_branch_0[-1],\n",
    "                                          grating_list=grating_list,\n",
    "                                          crystal_list_1=crystal_list_1,\n",
    "                                          path_list_1=path_list_1,\n",
    "                                          crystal_list_2=crystal_list_2,\n",
    "                                          path_list_2=path_list_2)\n",
    "\n",
    "#\"\"\"\n",
    "# Shift the intersection points due to the insertion of the new unit\n",
    "shift = intersect_branch_0[-1] + dist_shear_crystal_grating * kout_branch_0[-1] / util.l2_norm(kout_branch_0[-1])\n",
    "intersect_branch_1 += shift[np.newaxis, :]\n",
    "intersect_branch_2 += shift[np.newaxis, :]\n",
    "\n",
    "\n",
    "# Initialize the crystals\n",
    "shear_fix_crystal = lclsutil.get_crystal_list_delay_branch(hlen_vals=hlen_vals,\n",
    "                                                        theta_vals=branch_angle_0[0],\n",
    "                                                        rho_vals=branch_angle_0[1],\n",
    "                                                        tau_vals=branch_angle_0[2],\n",
    "                                                        surface_points=np.copy(intersect_branch_0),\n",
    "                                                        chi0=chi0,\n",
    "                                                        chih_sigma=chih_sigma, chihbar_sigma=chihbar_sigma,\n",
    "                                                        chih_pi=chih_pi, chihbar_pi=chihbar_pi,\n",
    "                                                        misalign_1=misalign_branch_0_crystal_1,\n",
    "                                                        misalign_2=misalign_branch_0_crystal_2)\n",
    "\n",
    "# Initialize the crystals\n",
    "crystal_list_1 = lclsutil.get_crystal_list_delay_branch(hlen_vals=hlen_vals,\n",
    "                                                        theta_vals=branch_angle_1[0],\n",
    "                                                        rho_vals=branch_angle_1[1],\n",
    "                                                        tau_vals=branch_angle_1[2],\n",
    "                                                        surface_points=np.copy(intersect_branch_1[1:5]),\n",
    "                                                        chi0=chi0,\n",
    "                                                        chih_sigma=chih_sigma, chihbar_sigma=chihbar_sigma,\n",
    "                                                        chih_pi=chih_pi, chihbar_pi=chihbar_pi,\n",
    "                                                        misalign_1=misalign_branch_1_crystal_1,\n",
    "                                                        misalign_2=misalign_branch_1_crystal_2)\n",
    "# Initialize the crystals\n",
    "crystal_list_2 = lclsutil.get_crystal_list_delay_branch(hlen_vals=hlen_vals,\n",
    "                                                        theta_vals=branch_angle_2[0],\n",
    "                                                        rho_vals=branch_angle_2[1],\n",
    "                                                        tau_vals=branch_angle_2[2],\n",
    "                                                        surface_points=np.copy(intersect_branch_2[1:5]),\n",
    "                                                        chi0=chi0,\n",
    "                                                        chih_sigma=chih_sigma, chihbar_sigma=chihbar_sigma,\n",
    "                                                        chih_pi=chih_pi, chihbar_pi=chihbar_pi,\n",
    "                                                        misalign_1=misalign_branch_2_crystal_1,\n",
    "                                                        misalign_2=misalign_branch_2_crystal_2)\n",
    "\n",
    "grating_list[0].set_surface_point(np.copy(intersect_branch_2[0]))\n",
    "grating_list[1].set_surface_point(np.copy(intersect_branch_2[-2]))\n",
    "\n",
    "# ~~~~~~~~~~~~~~~~~~~~~~~~~~~~~~~~~~~~~~~~~~~~~~~~~~~~~~~~~~~~~~~~~~~~~~~\n",
    "# Get the observation point\n",
    "# ~~~~~~~~~~~~~~~~~~~~~~~~~~~~~~~~~~~~~~~~~~~~~~~~~~~~~~~~~~~~~~~~~~~~~~~\n",
    "observation = np.copy(intersect_branch_2[-1]) \n",
    "total_path = pre_length + np.sum(path_list_2) + np.sum(path_list_0) + dist_shear_crystal_grating\n",
    "\n",
    "print(\"The total propagation length is {:.2f}m.\".format(total_path / 1e6))\n",
    "# ~~~~~~~~~~~~~~~~~~~~~~~~~~~~~~~~~~~~~~~~~~~~~~~~~~~~~~~~~~~~~~~~~~~~~~~\n",
    "#                  Change frame\n",
    "# ~~~~~~~~~~~~~~~~~~~~~~~~~~~~~~~~~~~~~~~~~~~~~~~~~~~~~~~~~~~~~~~~~~~~~~~\n",
    "# \n",
    "(my_pulse,\n",
    " shear_fix_crystal,\n",
    " crystal_list_1,\n",
    " crystal_list_2,\n",
    " grating_list,\n",
    " observation\n",
    ") = lclsutil.get_split_delay_fix_shear_output_frame(displacement=-np.copy(intersect_branch_2[-1]),\n",
    "                                                    observe=observation,\n",
    "                                                    pulse=my_pulse,\n",
    "                                                    crystal_fix_shear = shear_fix_crystal,\n",
    "                                                    crystal_list_1=crystal_list_1,\n",
    "                                                    crystal_list_2=crystal_list_2,\n",
    "                                                    grating_pair=grating_list)\n",
    "\n",
    "# \n",
    "# ~~~~~~~~~~~~~~~~~~~~~~~~~~~~~~~~~~~~~~~~~~~~~~~~~~~~~~~~~~~~~~~~~~~~~~~\n",
    "#                  Get the momentum mesh\n",
    "# ~~~~~~~~~~~~~~~~~~~~~~~~~~~~~~~~~~~~~~~~~~~~~~~~~~~~~~~~~~~~~~~~~~~~~~~\n",
    "number_x = 2\n",
    "number_y = 250\n",
    "number_z = 10 ** 5\n",
    "kx_grid, ky_grid, kz_grid, axis_info = lclsutil.get_k_mesh_3d(number_x=number_x,\n",
    "                                                              number_y=number_y,\n",
    "                                                              number_z=number_z,\n",
    "                                                              delta_e_x=1e-50,\n",
    "                                                              delta_e_y=0.75e-4,\n",
    "                                                              delta_e_z=5e-3 / util.c)\n",
    "kz_grid += my_pulse.klen0\n",
    "\n",
    "# Apply fft shift\n",
    "# kx_grid = np.ascontiguousarray(np.fft.fftshift(kx_grid))\n",
    "kx_grid = np.zeros(1, np.float64)\n",
    "number_x = 1\n",
    "ky_grid = np.zeros(1, np.float64)\n",
    "number_y = 1\n",
    "kz_grid = np.ascontiguousarray(np.fft.fftshift(kz_grid))\n",
    "#\"\"\""
   ]
  },
  {
   "cell_type": "code",
   "execution_count": 4,
   "metadata": {
    "scrolled": true
   },
   "outputs": [
    {
     "data": {
      "image/png": "[encoded data removed]",
      "text/plain": [
       "<Figure size 720x360 with 1 Axes>"
      ]
     },
     "metadata": {
      "needs_background": "light"
     },
     "output_type": "display_data"
    }
   ],
   "source": [
    "fig, axes = plt.subplots(nrows=1, ncols=1, figsize=(10, 5))\n",
    "\n",
    "axes.plot(intersect_branch_1[:,2]/1e4, intersect_branch_1[:,1]/1e4,'r')\n",
    "axes.plot(intersect_branch_2[:,2]/1e4, intersect_branch_2[:,1]/1e4,'b')\n",
    "axes.plot(intersect_branch_0[:,2]/1e4, intersect_branch_0[:,1]/1e4,'k')\n",
    "\n",
    "#axes.set_xlim([5e2-70, 5e2 + 150])\n",
    "axes.set_ylim([-50, 50])\n",
    "#axes.set_aspect('equal', 'datalim')\n",
    "\n",
    "plt.show()"
   ]
  },
  {
   "cell_type": "code",
   "execution_count": 5,
   "metadata": {},
   "outputs": [
    {
     "name": "stdout",
     "output_type": "stream",
     "text": [
      "It takes 0.04 seconds to prepare the variables.\n",
      "It takes 0.38 seconds to get the field for branch 1.\n"
     ]
    }
   ],
   "source": [
    "# Set the range of the index to save\n",
    "z_idx_range = number_z\n",
    "num1 = number_z\n",
    "num2 = 0\n",
    "d_num = 512\n",
    "\n",
    "# -------------------------------------------------------------\n",
    "#            Get Field for Branch 2\n",
    "# -------------------------------------------------------------\n",
    "tic = time.time()\n",
    "\n",
    "(result_3d_dict_2,\n",
    " result_2d_dict_2,\n",
    " check_dict_2\n",
    ") = groutine.get_split_delay_single_branch_field_shear_fix(grating_pair = grating_list,\n",
    "                                                           shear_fix_crystals = shear_fix_crystal,\n",
    "                                                           channel_cuts = crystal_list_2,\n",
    "                                                           total_path = total_path, \n",
    "                                                           observation = observation,\n",
    "                                                           my_pulse = my_pulse,\n",
    "                                                           kx_grid = kx_grid,\n",
    "                                                           ky_grid = ky_grid,\n",
    "                                                           kz_grid = kz_grid,\n",
    "                                                           pulse_delay_time = 0.,\n",
    "                                                           pulse_k0_final = np.array([0.,0.,my_pulse.klen0]),\n",
    "                                                           grating_orders = [-1., 1.],\n",
    "                                                           number_x = number_x,\n",
    "                                                           number_y = number_y,\n",
    "                                                           number_z = number_z,\n",
    "                                                           z_idx_range = z_idx_range,\n",
    "                                                           num1 = num1,\n",
    "                                                           num2 = num2, \n",
    "                                                           d_num = 512)\n",
    "\n",
    "toc = time.time()\n",
    "print(\"It takes {:.2f} seconds to get the field for branch 1.\".format(toc - tic))"
   ]
  },
  {
   "cell_type": "code",
   "execution_count": 6,
   "metadata": {},
   "outputs": [
    {
     "name": "stdout",
     "output_type": "stream",
     "text": [
      "It takes 0.04 seconds to prepare the variables.\n",
      "It takes 0.14 seconds to get the field for branch 1.\n"
     ]
    }
   ],
   "source": [
    "# -------------------------------------------------------------\n",
    "#            Get Field for Branch 2\n",
    "# -------------------------------------------------------------\n",
    "tic = time.time()\n",
    "\n",
    "(result_3d_dict_1,\n",
    " result_2d_dict_1,\n",
    " check_dict_1\n",
    ") = groutine.get_split_delay_single_branch_field_shear_fix(grating_pair = grating_list,\n",
    "                                                           shear_fix_crystals = shear_fix_crystal,\n",
    "                                                           channel_cuts = crystal_list_1,\n",
    "                                                           total_path = total_path, \n",
    "                                                           observation = observation,\n",
    "                                                           my_pulse = my_pulse,\n",
    "                                                           kx_grid = kx_grid,\n",
    "                                                           ky_grid = ky_grid,\n",
    "                                                           kz_grid = kz_grid,\n",
    "                                                           pulse_delay_time = 0.,\n",
    "                                                           pulse_k0_final = np.array([0.,0.,my_pulse.klen0]),\n",
    "                                                           grating_orders = [1., -1.],\n",
    "                                                           number_x = number_x,\n",
    "                                                           number_y = number_y,\n",
    "                                                           number_z = number_z,\n",
    "                                                           z_idx_range = z_idx_range,\n",
    "                                                           num1 = num1,\n",
    "                                                           num2 = num2, \n",
    "                                                           d_num = 512)\n",
    "\n",
    "toc = time.time()\n",
    "print(\"It takes {:.2f} seconds to get the field for branch 1.\".format(toc - tic))"
   ]
  },
  {
   "cell_type": "code",
   "execution_count": 7,
   "metadata": {},
   "outputs": [
    {
     "data": {
      "image/png": "[encoded data removed]",
      "text/plain": [
       "<Figure size 432x288 with 1 Axes>"
      ]
     },
     "metadata": {
      "needs_background": "light"
     },
     "output_type": "display_data"
    }
   ],
   "source": [
    "plt.plot(axis_info['z_idx'], np.abs(np.fft.fftshift(check_dict_2['reflectivity_pi_tot'] ** 2)))\n",
    "plt.ylim([0,1])\n",
    "plt.show()"
   ]
  },
  {
   "cell_type": "code",
   "execution_count": 12,
   "metadata": {},
   "outputs": [
    {
     "data": {
      "image/png": "[encoded data removed]",
      "text/plain": [
       "<Figure size 432x288 with 1 Axes>"
      ]
     },
     "metadata": {
      "needs_background": "light"
     },
     "output_type": "display_data"
    }
   ],
   "source": [
    "plt.plot(axis_info['z_idx'], np.abs(np.fft.fftshift(check_dict_1['scalar_spec'] ** 2)))\n",
    "plt.show()"
   ]
  },
  {
   "cell_type": "code",
   "execution_count": 9,
   "metadata": {
    "scrolled": true
   },
   "outputs": [
    {
     "name": "stdout",
     "output_type": "stream",
     "text": [
      "Fixed transmission: 0.003080294811380688\n",
      "Variable transmission: 0.0030851983253685745\n"
     ]
    }
   ],
   "source": [
    "transmission_variable = (np.sum(np.square(np.abs(result_2d_dict_1['y_spec_2d']))) /\n",
    "                    np.sum(np.square(np.abs(check_dict_1['scalar_spec']))))\n",
    "\n",
    "transmission_fixed = (np.sum(np.square(np.abs(result_2d_dict_2['y_spec_2d']))) / \n",
    "                      np.sum(np.square(np.abs(check_dict_2['scalar_spec']))))\n",
    "\n",
    "print(\"Fixed transmission:\", transmission_fixed)\n",
    "print(\"Variable transmission:\", transmission_variable)"
   ]
  },
  {
   "cell_type": "code",
   "execution_count": 10,
   "metadata": {},
   "outputs": [
    {
     "data": {
      "text/plain": [
       "0.09000000000000002"
      ]
     },
     "execution_count": 10,
     "metadata": {},
     "output_type": "execute_result"
    }
   ],
   "source": [
    "0.4 * 0.4 * 0.75 * 0.75"
   ]
  },
  {
   "cell_type": "code",
   "execution_count": null,
   "metadata": {},
   "outputs": [],
   "source": []
  }
 ],
 "metadata": {
  "kernelspec": {
   "display_name": "Python 3",
   "language": "python",
   "name": "python3"
  },
  "language_info": {
   "codemirror_mode": {
    "name": "ipython",
    "version": 3
   },
   "file_extension": ".py",
   "mimetype": "text/x-python",
   "name": "python",
   "nbconvert_exporter": "python",
   "pygments_lexer": "ipython3",
   "version": "3.6.9"
  }
 },
 "nbformat": 4,
 "nbformat_minor": 2
}
