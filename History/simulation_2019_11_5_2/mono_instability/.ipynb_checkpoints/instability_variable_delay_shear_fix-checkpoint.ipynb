{
 "cells": [
  {
   "cell_type": "code",
   "execution_count": 1,
   "metadata": {
    "scrolled": false
   },
   "outputs": [],
   "source": [
    "import sys\n",
    "import time\n",
    "\n",
    "import h5py as h5\n",
    "import numpy as np\n",
    "import matplotlib.pyplot as plt\n",
    "from scipy.spatial.transform import Rotation\n",
    "\n",
    "sys.path.append(\"C:/Users/haoyuan/Documents/GitHub/CrystalDiff\")\n",
    "\n",
    "from CrystalDiff import util, pulse, lclsutil, crystal"
   ]
  },
  {
   "cell_type": "markdown",
   "metadata": {},
   "source": [
    "# Create function to do the simulation"
   ]
  },
  {
   "cell_type": "code",
   "execution_count": 2,
   "metadata": {},
   "outputs": [],
   "source": [
    "# ----------------------------------------------------------------------------------------------------------\n",
    "#                       Step 1: Pulse\n",
    "# ----------------------------------------------------------------------------------------------------------\n",
    "\n",
    "energy_center = 10.\n",
    "pre_length = 1e6\n",
    "\n",
    "# Set up the pulse\n",
    "my_pulse = pulse.GaussianPulse3D()\n",
    "my_pulse.set_pulse_properties(central_energy=energy_center,\n",
    "                              polar=[0., 1., 0.],\n",
    "                              sigma_x=708.2581446128465,\n",
    "                              sigma_y=708.2581446128465,\n",
    "                              sigma_z=100.,\n",
    "                              x0=np.array([0., 0., -pre_length]))\n",
    "\n",
    "# ----------------------------------------------------------------------------------------------------------\n",
    "#                       Step 2: Split\n",
    "# ----------------------------------------------------------------------------------------------------------\n",
    "dtheta = np.arctan(1.5 * 1e-3 / 5.)      # This is the deviation angle.\n",
    "\n",
    "grating_list = [crystal.RectangleGrating(), crystal.RectangleGrating()]\n",
    "grating_list[0].set_a(util.get_grating_period(dtheta=dtheta, klen_in=my_pulse.klen0) / 2)\n",
    "grating_list[0].set_b(util.get_grating_period(dtheta=dtheta, klen_in=my_pulse.klen0) / 2)\n",
    "\n",
    "grating_list[1].set_a(util.get_grating_period(dtheta=dtheta, klen_in=my_pulse.klen0) / 2)\n",
    "grating_list[1].set_b(util.get_grating_period(dtheta=dtheta, klen_in=my_pulse.klen0) / 2)\n",
    "\n",
    "# ----------------------------------------------------------------------------------------------------------\n",
    "#                       Step 3: Delay Lines\n",
    "# ----------------------------------------------------------------------------------------------------------\n",
    "# Some meta data for the delay line.\n",
    "reflect_num = 4\n",
    "h_length = 2. * np.pi / (1.9201 * 1e-4)\n",
    "hlen_vals = np.array([h_length, ] * reflect_num)\n",
    "\n",
    "# Some crystal properties\n",
    "chi0=complex(-0.97631E-05, 0.14871E-06)\n",
    "chih_sigma=complex(0.59310E-05, -0.14320E-06)\n",
    "chihbar_sigma=complex(0.59310E-05, -0.14320E-06)\n",
    "chih_pi=complex(0.46945E-05, -0.11201E-06)\n",
    "chihbar_pi=complex(0.46945E-05, -0.11201E-06)\n",
    "\n",
    "# ~~~~~~~~~~~~~~~~~~~~~~~~~~~~~~~~~~~~~~~~~~~~~~~~~~~~~~~~~~~~~~~~~~~~~~~\n",
    "#                       Crystal to fix the shearing\n",
    "# ~~~~~~~~~~~~~~~~~~~~~~~~~~~~~~~~~~~~~~~~~~~~~~~~~~~~~~~~~~~~~~~~~~~~~~~\n",
    "# Set up the angles\n",
    "angle_offset_0 = 0.\n",
    "bragg_angle_0 = np.radians(18.836) + 13e-6\n",
    "\n",
    "branch_angle_0 = lclsutil.get_delay_line_angles(angle_offset=angle_offset_0,\n",
    "                                                theta=bragg_angle_0 + np.pi / 2. ,\n",
    "                                                rho=bragg_angle_0 - np.pi / 2. ,\n",
    "                                                inclined_angle=np.radians(-10.))\n",
    "surface_points_0 = np.zeros((reflect_num, 3), dtype=np.float64)\n",
    "\n",
    "# Set the misalignment angle\n",
    "misalign_branch_0_crystal_1 = [0., 0., 0.]\n",
    "misalign_branch_0_crystal_2 = [0., 0., 0.]\n",
    "\n",
    "# Initialize the crystals\n",
    "shear_fix_crystal = lclsutil.get_crystal_list_delay_branch(hlen_vals=hlen_vals,\n",
    "                                                        theta_vals=branch_angle_0[0],\n",
    "                                                        rho_vals=branch_angle_0[1],\n",
    "                                                        tau_vals=branch_angle_0[2],\n",
    "                                                        surface_points=surface_points_0,\n",
    "                                                        chi0=chi0,\n",
    "                                                        chih_sigma=chih_sigma, chihbar_sigma=chihbar_sigma,\n",
    "                                                        chih_pi=chih_pi, chihbar_pi=chihbar_pi)\n",
    "\n",
    "# ~~~~~~~~~~~~~~~~~~~~~~~~~~~~~~~~~~~~~~~~~~~~~~~~~~~~~~~~~~~~~~~~~~~~~~~\n",
    "#                       Crystal for branch  1\n",
    "# ~~~~~~~~~~~~~~~~~~~~~~~~~~~~~~~~~~~~~~~~~~~~~~~~~~~~~~~~~~~~~~~~~~~~~~~\n",
    "# Set up the angles\n",
    "angle_offset_1 = dtheta\n",
    "bragg_angle_1 = np.radians(18.836) + 13e-6\n",
    "\n",
    "branch_angle_1 = lclsutil.get_delay_line_angles(angle_offset=angle_offset_1,\n",
    "                                                theta=bragg_angle_1 + np.pi / 2. ,\n",
    "                                                rho=bragg_angle_1 - np.pi / 2. ,\n",
    "                                                inclined_angle=np.radians(10.))\n",
    "surface_points_1 = np.zeros((reflect_num, 3), dtype=np.float64)\n",
    "\n",
    "# Set the misalignment angle\n",
    "misalign_branch_1_crystal_1 = [0., 0., 0.]\n",
    "misalign_branch_1_crystal_2 = [0., 0., 0.]\n",
    "\n",
    "# Initialize the crystals\n",
    "crystal_list_1 = lclsutil.get_crystal_list_delay_branch(hlen_vals=hlen_vals,\n",
    "                                                        theta_vals=branch_angle_1[0],\n",
    "                                                        rho_vals=branch_angle_1[1],\n",
    "                                                        tau_vals=branch_angle_1[2],\n",
    "                                                        surface_points=surface_points_1,\n",
    "                                                        chi0=chi0,\n",
    "                                                        chih_sigma=chih_sigma, chihbar_sigma=chihbar_sigma,\n",
    "                                                        chih_pi=chih_pi, chihbar_pi=chihbar_pi)\n",
    "\n",
    "# ~~~~~~~~~~~~~~~~~~~~~~~~~~~~~~~~~~~~~~~~~~~~~~~~~~~~~~~~~~~~~~~~~~~~~~~\n",
    "#                       Crystal for branch  2\n",
    "# ~~~~~~~~~~~~~~~~~~~~~~~~~~~~~~~~~~~~~~~~~~~~~~~~~~~~~~~~~~~~~~~~~~~~~~~\n",
    "# Set up the angles\n",
    "angle_offset_2 = - dtheta\n",
    "bragg_angle_2 = np.radians(18.836) + 13e-6\n",
    "\n",
    "branch_angle_2 = lclsutil.get_delay_line_angles(angle_offset=angle_offset_2,\n",
    "                                                theta=1.5 * np.pi - bragg_angle_2,\n",
    "                                                rho=0.5 * np.pi - bragg_angle_2,\n",
    "                                                inclined_angle=np.radians(10.))\n",
    "surface_points_2 = np.zeros((reflect_num, 3), dtype=np.float64)\n",
    "\n",
    "# Set the misalignment angle\n",
    "misalign_branch_2_crystal_1 = [0., 0., 0.]\n",
    "misalign_branch_2_crystal_2 = [0., 0., 0.]\n",
    "\n",
    "# Initialize the crystals\n",
    "crystal_list_2 = lclsutil.get_crystal_list_delay_branch(hlen_vals=hlen_vals,\n",
    "                                                        theta_vals=branch_angle_2[0],\n",
    "                                                        rho_vals=branch_angle_2[1],\n",
    "                                                        tau_vals=branch_angle_2[2],\n",
    "                                                        surface_points=surface_points_2,\n",
    "                                                        chi0=chi0,\n",
    "                                                        chih_sigma=chih_sigma, chihbar_sigma=chihbar_sigma,\n",
    "                                                        chih_pi=chih_pi, chihbar_pi=chihbar_pi)\n",
    "\n",
    "\n",
    "# ------------------------------------------------------\n",
    "#   Define the positions\n",
    "# ------------------------------------------------------\n",
    "path_list_0 = [0., 1e5, 1e5, 1e5]\n",
    "dist_shear_crystal_grating = 5e5\n",
    "\n",
    "path_list_1 = [5e6 - 10e4, 1e5, 5e5, 1.05e5, 6e6, 1e6]\n",
    "path_list_2 = [5e6, 1e5, 1e5, 1.05e5, 6e6, 1e6]\n",
    "delay_time = 600.\n",
    "\n",
    "################################################################################################\n",
    "#                     Get the output in the ideal situation\n",
    "################################################################################################\n",
    "# Get the positions for the shearing fix branch\n",
    "(intersect_branch_0,\n",
    "kout_branch_0) = lclsutil.get_point_with_definite_path(kin_vec = my_pulse.k0,\n",
    "                                                       path_sections = path_list_0,\n",
    "                                                       crystal_list = shear_fix_crystal)\n",
    "\n",
    "# Adjust the path sections\n",
    "(path_list_1,\n",
    " path_list_2) = lclsutil.get_split_delay_configuration(delay_time=delay_time,\n",
    "                                                       fix_branch_path=path_list_2,\n",
    "                                                       var_branch_path=path_list_1,\n",
    "                                                       fix_branch_crystal=crystal_list_2,\n",
    "                                                       var_branch_crystal=crystal_list_1,\n",
    "                                                       grating_pair=grating_list,\n",
    "                                                       kin=kout_branch_0[-1])\n",
    "\n",
    "(intersect_branch_1,\n",
    " kout_brunch_1,\n",
    " intersect_branch_2,\n",
    " kout_brunch_2) = lclsutil.get_light_path(kin=kout_branch_0[-1],\n",
    "                                          grating_list=grating_list,\n",
    "                                          crystal_list_1=crystal_list_1,\n",
    "                                          path_list_1=path_list_1,\n",
    "                                          crystal_list_2=crystal_list_2,\n",
    "                                          path_list_2=path_list_2)\n",
    "\n",
    "################################################################################################\n",
    "#                     Define the function to get the output wave vector\n",
    "################################################################################################\n",
    "def get_kout(kin, h, normal):\n",
    "    kout = kin + h\n",
    "    \n",
    "    klen = np.sqrt(np.dot(kin, kin))\n",
    "    \n",
    "    gammah = np.dot(kin + h, normal) / klen\n",
    "    alpha =  (2 * np.dot(kin, h) + np.dot(h, h)) / np.square(klen)\n",
    "\n",
    "    if np.abs(-gammah - np.sqrt(gammah ** 2 - alpha) ) > np.abs(-gammah + np.sqrt(gammah ** 2 - alpha) ):\n",
    "        momentum = klen *( -gammah + np.sqrt(gammah ** 2 - alpha))\n",
    "    else:\n",
    "        momentum = klen *( -gammah - np.sqrt(gammah ** 2 - alpha))\n",
    "    \n",
    "    kout += normal * momentum \n",
    "    return kout, klen ** 2 / np.dot(kout, kout)"
   ]
  },
  {
   "cell_type": "code",
   "execution_count": 3,
   "metadata": {},
   "outputs": [
    {
     "name": "stdout",
     "output_type": "stream",
     "text": [
      "[ 0.         -0.94644239  0.32287273]\n",
      "[-0.17364818  0.9320638  -0.31796757]\n",
      "[-0.17364818  0.9320638   0.31796757]\n",
      "[ 0.         -0.94644239 -0.32287273]\n"
     ]
    }
   ],
   "source": [
    "for x in shear_fix_crystal:\n",
    "    print(x.normal)"
   ]
  },
  {
   "cell_type": "code",
   "execution_count": 4,
   "metadata": {},
   "outputs": [
    {
     "name": "stdout",
     "output_type": "stream",
     "text": [
      "[ 0.         -0.94634549  0.32315665]\n",
      "[ 0.17364818  0.93196837 -0.31824718]\n",
      "[0.17364818 0.93215915 0.31768794]\n",
      "[ 0.         -0.94653921 -0.32258879]\n"
     ]
    }
   ],
   "source": [
    "for x in crystal_list_1:\n",
    "    print(x.normal)"
   ]
  },
  {
   "cell_type": "code",
   "execution_count": 5,
   "metadata": {},
   "outputs": [
    {
     "name": "stdout",
     "output_type": "stream",
     "text": [
      "[0.         0.94634549 0.32315665]\n",
      "[ 0.17364818 -0.93196837 -0.31824718]\n",
      "[ 0.17364818 -0.93215915  0.31768794]\n",
      "[ 0.          0.94653921 -0.32258879]\n"
     ]
    }
   ],
   "source": [
    "for x in crystal_list_2:\n",
    "    print(x.normal)"
   ]
  },
  {
   "cell_type": "code",
   "execution_count": 11,
   "metadata": {},
   "outputs": [
    {
     "name": "stdout",
     "output_type": "stream",
     "text": [
      "[     0.          30967.47072397 -10574.725901  ]\n",
      "[     0.         -30967.47072397  10574.725901  ]\n",
      "[     0.         -30973.8099848  -10556.14351679]\n",
      "[    0.         30973.8099848  10556.14351679]\n",
      "------------------------------------------------------------------\n",
      "[     0.         -30967.47072397 -10574.725901  ]\n",
      "[    0.         30967.47072397 10574.725901  ]\n",
      "[     0.          30973.8099848  -10556.14351679]\n",
      "[     0.         -30973.8099848   10556.14351679]\n"
     ]
    }
   ],
   "source": [
    "for x in crystal_list_1:\n",
    "    print(x.h)\n",
    "\n",
    "print(\"------------------------------------------------------------------\")\n",
    "for x in crystal_list_2:\n",
    "    print(x.h)"
   ]
  },
  {
   "cell_type": "markdown",
   "metadata": {},
   "source": [
    "# Rotate the crystals in the variable branch"
   ]
  },
  {
   "cell_type": "code",
   "execution_count": 10,
   "metadata": {},
   "outputs": [],
   "source": [
    "file_name = 'C:/Users/haoyuan/Desktop/Research/Projects/Split Delay Design/instability_shear_fix.h5'\n",
    "with h5.File(file_name, 'w') as source:\n",
    "    pass\n",
    "\n",
    "# In this simulation, I would like to study the derivation across 10 urad variation.\n",
    "# The num is the number of partitions I divide the 10 urad into.\n",
    "num = 100\n",
    "num_total = 2 * num + 1\n",
    "\n",
    "axis_list =['x', 'y', 'z']\n",
    "\n",
    "for a_idx in range(3):  # The axis index\n",
    "    \n",
    "    eular_list = np.zeros((num_total, 3), dtype = np.float64)\n",
    "    eular_list[:, a_idx] = np.arange(-num, num + 1) * 1e-5 / num\n",
    "    \n",
    "    kout_holder = np.zeros((num_total, 3), dtype=np.float64)\n",
    "\n",
    "    for idx in range(num_total):\n",
    "        kout = np.copy(kout_branch_0[-1]) + grating_list[0].base_wave_vector\n",
    "        \n",
    "        # Get the rotation matrix \n",
    "        rot_mat = Rotation.from_euler('xyz',eular_list[idx], degrees=False)\n",
    "        mat = rot_mat.as_dcm()\n",
    "        \n",
    "        for x in range(4):\n",
    "            kout, ratio = get_kout(kin=kout, \n",
    "                                   h = np.dot(mat, crystal_list_1[x].h),\n",
    "                                   normal= np.dot(mat, crystal_list_1[x].normal))\n",
    "\n",
    "        kout_holder[idx] = kout - grating_list[1].base_wave_vector\n",
    "\n",
    "    # Save the wave vector difference\n",
    "    with h5.File(file_name , 'r+') as source:\n",
    "        source.create_dataset(\"var branch {} axis\".format(axis_list[a_idx]),\n",
    "                              data = kout_holder)"
   ]
  },
  {
   "cell_type": "code",
   "execution_count": 12,
   "metadata": {},
   "outputs": [
    {
     "data": {
      "image/png": "[encoded data removed]",
      "text/plain": [
       "<Figure size 432x288 with 1 Axes>"
      ]
     },
     "metadata": {
      "needs_background": "light"
     },
     "output_type": "display_data"
    }
   ],
   "source": [
    "plt.plot(kout_holder[:,0],'b')\n",
    "plt.plot(kout_holder[:,1],'k')\n",
    "plt.plot(kout_holder[:,2],'r')\n",
    "plt.show()"
   ]
  },
  {
   "cell_type": "code",
   "execution_count": null,
   "metadata": {},
   "outputs": [],
   "source": [
    "a,b,c = np.random.rand(3)\n",
    "\n",
    "rot_mat = Rotation.from_euler('xyz',[a, b, c],  )"
   ]
  }
 ],
 "metadata": {
  "kernelspec": {
   "display_name": "Python 3",
   "language": "python",
   "name": "python3"
  },
  "language_info": {
   "codemirror_mode": {
    "name": "ipython",
    "version": 3
   },
   "file_extension": ".py",
   "mimetype": "text/x-python",
   "name": "python",
   "nbconvert_exporter": "python",
   "pygments_lexer": "ipython3",
   "version": "3.6.9"
  }
 },
 "nbformat": 4,
 "nbformat_minor": 2
}
