{
 "cells": [
  {
   "cell_type": "code",
   "execution_count": 2,
   "metadata": {},
   "outputs": [],
   "source": [
    "import sys\n",
    "import time\n",
    "\n",
    "import h5py as h5\n",
    "import numpy as np\n",
    "import matplotlib.pyplot as plt\n",
    "\n",
    "sys.path.append(r\"C:/Users/haoyuan/Documents/GitHub/CrystalDiff\")\n",
    "\n",
    "from CrystalDiff import util, pulse, lclsutil"
   ]
  },
  {
   "cell_type": "code",
   "execution_count": 3,
   "metadata": {},
   "outputs": [],
   "source": [
    "energy_center = 10.\n",
    "pre_length = 1e6\n",
    "\n",
    "# Set up the pulse\n",
    "my_pulse = pulse.GaussianPulse3D()\n",
    "my_pulse.set_pulse_properties(central_energy=energy_center,\n",
    "                              polar=[0., 1., 0.],\n",
    "                              sigma_x=708.2581446128465,\n",
    "                              sigma_y=708.2581446128465,\n",
    "                              sigma_z=1.,\n",
    "                              x0=np.array([0., 0., -pre_length]))\n",
    "\n",
    "#\n",
    "# ~~~~~~~~~~~~~~~~~~~~~~~~~~~~~~~~~~~~~~~~~~~~~~~~~~~~~~~~~~~~~~~~~~~~~~~\n",
    "#                  Get the momentum mesh\n",
    "# ~~~~~~~~~~~~~~~~~~~~~~~~~~~~~~~~~~~~~~~~~~~~~~~~~~~~~~~~~~~~~~~~~~~~~~~\n",
    "number_x = 250\n",
    "number_y = 250\n",
    "number_z = 10 ** 5\n",
    "kx_grid, ky_grid, kz_grid, axis_info = lclsutil.get_k_mesh_3d(number_x=number_x,\n",
    "                                                              number_y=number_y,\n",
    "                                                              number_z=number_z,\n",
    "                                                              delta_e_x=1e-4,\n",
    "                                                              delta_e_y=1e-4,\n",
    "                                                              delta_e_z=1e-3 / util.c)\n",
    "kz_grid += my_pulse.klen0\n",
    "\n",
    "# Apply fft shift\n",
    "kx_grid = np.ascontiguousarray(np.fft.fftshift(kx_grid))\n",
    "ky_grid = np.ascontiguousarray(np.fft.fftshift(ky_grid))\n",
    "kz_grid = np.ascontiguousarray(np.fft.fftshift(kz_grid))"
   ]
  },
  {
   "cell_type": "code",
   "execution_count": 4,
   "metadata": {},
   "outputs": [
    {
     "data": {
      "text/plain": [
       "dict_keys(['x_range', 'x_idx', 'x_idx_tick', 'dkx', 'energy_grid_x', 'y_range', 'y_idx', 'y_idx_tick', 'dky', 'energy_grid_y', 'z_range', 'z_idx', 'z_idx_tick', 'dkz', 'energy_grid_z', 'z_time_idx', 'z_time_tick', 'de_x_in_meV'])"
      ]
     },
     "execution_count": 4,
     "metadata": {},
     "output_type": "execute_result"
    }
   ],
   "source": [
    "axis_info.keys()"
   ]
  },
  {
   "cell_type": "markdown",
   "metadata": {},
   "source": [
    "# Simulation result"
   ]
  },
  {
   "cell_type": "code",
   "execution_count": 5,
   "metadata": {},
   "outputs": [
    {
     "name": "stdout",
     "output_type": "stream",
     "text": [
      "The simulation pulse energy is 1.2832098422680755e+32\n"
     ]
    }
   ],
   "source": [
    "# Resultion from the h5 file\n",
    "sum_field_from_h5 = 1.7966685312735459e+31\n",
    "\n",
    "# Consider the integration unit\n",
    "dx = axis_info['x_idx'][1] - axis_info['x_idx'][0]\n",
    "dy = axis_info['y_idx'][1] - axis_info['y_idx'][0]\n",
    "dz = axis_info['z_idx'][1] - axis_info['z_idx'][0]\n",
    "\n",
    "# Simulation energy\n",
    "simu_energy = sum_field_from_h5 * dx * dy * dz\n",
    "\n",
    "print(\"The simulation pulse energy is {}\".format(simu_energy))"
   ]
  },
  {
   "cell_type": "markdown",
   "metadata": {},
   "source": [
    "# Get the pulse energy"
   ]
  },
  {
   "cell_type": "code",
   "execution_count": 6,
   "metadata": {},
   "outputs": [
    {
     "name": "stdout",
     "output_type": "stream",
     "text": [
      "The pulse energy is 4.697696268937501e+22\n"
     ]
    }
   ],
   "source": [
    "pulse_energy = 1e28 / np.sqrt(np.linalg.det(my_pulse.sigma_mat)) / np.power(2 * np.pi, 1.5)\n",
    "\n",
    "print(\"The pulse energy is {}\".format(pulse_energy))"
   ]
  },
  {
   "cell_type": "code",
   "execution_count": 7,
   "metadata": {},
   "outputs": [
    {
     "name": "stdout",
     "output_type": "stream",
     "text": [
      "0.43705161638585194\n"
     ]
    }
   ],
   "source": [
    "print(simu_energy / number_x / number_y / number_z / pulse_energy)"
   ]
  },
  {
   "cell_type": "code",
   "execution_count": null,
   "metadata": {},
   "outputs": [],
   "source": []
  }
 ],
 "metadata": {
  "kernelspec": {
   "display_name": "Python 3",
   "language": "python",
   "name": "python3"
  },
  "language_info": {
   "codemirror_mode": {
    "name": "ipython",
    "version": 3
   },
   "file_extension": ".py",
   "mimetype": "text/x-python",
   "name": "python",
   "nbconvert_exporter": "python",
   "pygments_lexer": "ipython3",
   "version": "3.6.9"
  }
 },
 "nbformat": 4,
 "nbformat_minor": 2
}
