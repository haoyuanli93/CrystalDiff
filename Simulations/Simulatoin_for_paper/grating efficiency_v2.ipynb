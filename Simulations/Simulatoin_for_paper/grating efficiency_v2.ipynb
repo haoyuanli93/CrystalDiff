{
 "cells": [
  {
   "cell_type": "code",
   "execution_count": 1,
   "metadata": {},
   "outputs": [],
   "source": [
    "import numpy as np\n",
    "import sys\n",
    "import time\n",
    "import matplotlib.pyplot as plt\n",
    "import matplotlib as mpl\n",
    "\n",
    "sys.path.append(r\"C:\\Users\\haoyuan\\Documents\\GitHub\\CrystalDiff\")\n",
    "\n",
    "from CrystalDiff import util"
   ]
  },
  {
   "cell_type": "code",
   "execution_count": 2,
   "metadata": {},
   "outputs": [],
   "source": [
    "#mpl.rc('font',family='Times New Roman')"
   ]
  },
  {
   "cell_type": "markdown",
   "metadata": {},
   "source": [
    "# Define variables for Diamond"
   ]
  },
  {
   "cell_type": "code",
   "execution_count": 3,
   "metadata": {},
   "outputs": [],
   "source": [
    "# Speed of light * reduced Planck constant\n",
    "c_h_bar = 2.99792458 * 6.582119569 * 1e-8\n",
    "\n",
    "# Define photon energy and wave vector\n",
    "photon_energy = 10000  #(eV)\n",
    "k = photon_energy / c_h_bar\n",
    "\n",
    "# Define the groove width\n",
    "b = 0.5e-6  # (m)\n",
    "\n",
    "# Define the tooth width\n",
    "a = 0.5e-6  # (m)\n",
    "\n",
    "# Define the refraction coefficent\n",
    "n = 1 - 0.73031 * 1e-5 + 1.j * 0.61521 * 1e-8\n",
    "\n",
    "# Define a series of height\n",
    "h_for_diamond = np.arange(18000) * 1e-9   # The unit is m. The smallest tooth height is 10nm.\n",
    "\n",
    "# Define the base thickness\n",
    "base = 10e-6"
   ]
  },
  {
   "cell_type": "code",
   "execution_count": 4,
   "metadata": {},
   "outputs": [
    {
     "data": {
      "text/plain": [
       "0.4042143442060102"
      ]
     },
     "execution_count": 4,
     "metadata": {},
     "output_type": "execute_result"
    }
   ],
   "source": [
    "util.get_square_grating_transmission(k = k, m = 1, n = n, h = 8.488e-06 , a = a, b = b)"
   ]
  },
  {
   "cell_type": "code",
   "execution_count": 5,
   "metadata": {},
   "outputs": [],
   "source": [
    "diamond_0= util.get_square_grating_transmission(k = k, m = 0, n = n, h = h_for_diamond, a = a, b = b, base = base)\n",
    "diamond_1= util.get_square_grating_transmission(k = k, m = 1, n = n, h = h_for_diamond, a = a, b = b, base = base)"
   ]
  },
  {
   "cell_type": "markdown",
   "metadata": {},
   "source": [
    "# Define variables for Silicon"
   ]
  },
  {
   "cell_type": "code",
   "execution_count": 6,
   "metadata": {},
   "outputs": [],
   "source": [
    "# Speed of light * reduced Planck constant\n",
    "c_h_bar = 2.99792458 * 6.582119569 * 1e-8\n",
    "\n",
    "# Define photon energy and wave vector\n",
    "photon_energy = 10000  #(eV)\n",
    "k = photon_energy / c_h_bar\n",
    "\n",
    "# Define the groove width\n",
    "b = 0.5e-6  # (m)\n",
    "\n",
    "# Define the tooth width\n",
    "a = 0.5e-6  # (m)\n",
    "\n",
    "# Define the refraction coefficent\n",
    "n = 1 - 0.48816E-05 + 1.j * 0.74355E-07\n",
    "\n",
    "# Define a series of height\n",
    "h_for_silicon = np.arange(18000) * 1e-9   # The unit is m. The smallest tooth height is 10nm.\\\n",
    "\n",
    "# Define the base thickness\n",
    "base = 10e-6"
   ]
  },
  {
   "cell_type": "code",
   "execution_count": 7,
   "metadata": {},
   "outputs": [],
   "source": [
    "silicon_0= util.get_square_grating_transmission(k = k, m = 0, n = n, h = h_for_silicon, a = a, b = b, base = base)\n",
    "silicon_1= util.get_square_grating_transmission(k = k, m = 1, n = n, h = h_for_silicon, a = a, b = b, base = base)"
   ]
  },
  {
   "cell_type": "markdown",
   "metadata": {},
   "source": [
    "# Put two image together"
   ]
  },
  {
   "cell_type": "code",
   "execution_count": 8,
   "metadata": {},
   "outputs": [
    {
     "data": {
      "image/png": "[encoded data removed]",
      "text/plain": [
       "<Figure size 360x360 with 1 Axes>"
      ]
     },
     "metadata": {
      "needs_background": "light"
     },
     "output_type": "display_data"
    }
   ],
   "source": [
    "plt.figure(figsize=(5, 5))\n",
    "\n",
    "# Change the x axis unit into um\n",
    "plt.plot(h_for_diamond * 1e6, diamond_0, 'r--')\n",
    "plt.plot(h_for_diamond * 1e6, diamond_1, 'r')\n",
    "\n",
    "\n",
    "plt.plot(h_for_silicon * 1e6, silicon_0, 'b--')\n",
    "plt.plot(h_for_silicon * 1e6, silicon_1, 'b')\n",
    "\n",
    "#plt.xlabel(\"Depth of the Grating Groove (um)\", fontsize=16)\n",
    "#plt.ylabel(\"Transmission efficiency\", fontsize=16)\n",
    "plt.legend([\"C*, 0th\",\n",
    "            \"C*, 1st\",\n",
    "            'Si, 0th',\n",
    "            'Si, 1th'], fontsize=18)\n",
    "\n",
    "#plt.plot([8.49, 8.49], [0, 0.6], 'k--')\n",
    "#plt.plot([12.7, 12.7], [0, 0.6], 'k--')\n",
    "\n",
    "plt.xlim([0, 18])\n",
    "plt.ylim([0,1.1])\n",
    "\n",
    "plt.tick_params(axis='both', which='major', labelsize=18)\n",
    "\n",
    "plt.xticks()\n",
    "plt.yticks()\n",
    "\n",
    "#plt.title(\"Transmission Efficiency of Square Grating With Silicon and Diamond\", fontsize=14)\n",
    "plt.savefig('C:/Users/haoyuan/Desktop/grating.png', bbox_inches='tight', pad_inches=0, dpi=600)\n",
    "\n",
    "plt.show()"
   ]
  },
  {
   "cell_type": "code",
   "execution_count": 9,
   "metadata": {
    "scrolled": true
   },
   "outputs": [
    {
     "data": {
      "text/plain": [
       "8.488e-06"
      ]
     },
     "execution_count": 9,
     "metadata": {},
     "output_type": "execute_result"
    }
   ],
   "source": [
    "h_for_diamond[np.argmin(diamond_0)]"
   ]
  },
  {
   "cell_type": "code",
   "execution_count": 10,
   "metadata": {},
   "outputs": [
    {
     "data": {
      "text/plain": [
       "1.2696e-05"
      ]
     },
     "execution_count": 10,
     "metadata": {},
     "output_type": "execute_result"
    }
   ],
   "source": [
    "h_for_silicon[np.argmin(silicon_0)]"
   ]
  },
  {
   "cell_type": "code",
   "execution_count": 11,
   "metadata": {},
   "outputs": [
    {
     "data": {
      "text/plain": [
       "0.4017019619669144"
      ]
     },
     "execution_count": 11,
     "metadata": {},
     "output_type": "execute_result"
    }
   ],
   "source": [
    "np.max(diamond_1)"
   ]
  },
  {
   "cell_type": "code",
   "execution_count": 12,
   "metadata": {},
   "outputs": [
    {
     "data": {
      "text/plain": [
       "0.3585863473520053"
      ]
     },
     "execution_count": 12,
     "metadata": {},
     "output_type": "execute_result"
    }
   ],
   "source": [
    "np.max(silicon_1)"
   ]
  },
  {
   "cell_type": "code",
   "execution_count": 13,
   "metadata": {},
   "outputs": [
    {
     "data": {
      "text/plain": [
       "0.6233493598383657"
      ]
     },
     "execution_count": 13,
     "metadata": {},
     "output_type": "execute_result"
    }
   ],
   "source": [
    "(0.4042145748140676 - 0.4039626079176199) / 0.4042145748140676 * 1000"
   ]
  },
  {
   "cell_type": "code",
   "execution_count": 14,
   "metadata": {},
   "outputs": [
    {
     "data": {
      "text/plain": [
       "1.2400000063554135"
      ]
     },
     "execution_count": 14,
     "metadata": {},
     "output_type": "execute_result"
    }
   ],
   "source": [
    "np.tan(0.124 / 1000) * 5000 * 2"
   ]
  },
  {
   "cell_type": "code",
   "execution_count": null,
   "metadata": {},
   "outputs": [],
   "source": []
  }
 ],
 "metadata": {
  "kernelspec": {
   "display_name": "Python 3",
   "language": "python",
   "name": "python3"
  },
  "language_info": {
   "codemirror_mode": {
    "name": "ipython",
    "version": 3
   },
   "file_extension": ".py",
   "mimetype": "text/x-python",
   "name": "python",
   "nbconvert_exporter": "python",
   "pygments_lexer": "ipython3",
   "version": "3.6.9"
  }
 },
 "nbformat": 4,
 "nbformat_minor": 2
}
