{
 "cells": [
  {
   "cell_type": "code",
   "execution_count": 1,
   "metadata": {
    "scrolled": false
   },
   "outputs": [],
   "source": [
    "import numpy as np\n",
    "import sys\n",
    "import time\n",
    "import h5py as h5\n",
    "import matplotlib.pyplot as plt\n",
    "\n",
    "sys.path.append(r\"C:\\Users\\haoyuan\\Documents\\GitHub\\CrystalDiff\")\n",
    "\n",
    "from CrystalDiff import util, pulse, lclsutil, crystal, lightpath"
   ]
  },
  {
   "cell_type": "markdown",
   "metadata": {},
   "source": [
    "# Get the Crystal Geometries"
   ]
  },
  {
   "cell_type": "code",
   "execution_count": 2,
   "metadata": {},
   "outputs": [],
   "source": [
    "# ----------------------------------------------------------------------------------------------------------\n",
    "#                       Step 1: Pulse\n",
    "# ----------------------------------------------------------------------------------------------------------\n",
    "energy_center = 10.\n",
    "pre_length = 1e6\n",
    "\n",
    "# Set up the pulse\n",
    "FWHM = 50 # (um)\n",
    "\n",
    "my_pulse = pulse.GaussianPulse3D()\n",
    "my_pulse.set_pulse_properties(central_energy=energy_center,\n",
    "                              polar=[0., 1., 0.],\n",
    "                              sigma_x=FWHM /2. / np.sqrt(np.log(2)) / util.c,\n",
    "                              sigma_y=FWHM /2. / np.sqrt(np.log(2)) / util.c,\n",
    "                              sigma_z=9.,\n",
    "                              x0=np.array([0., 0., -pre_length]))\n",
    "\n",
    "# ----------------------------------------------------------------------------------------------------------\n",
    "#                       Step 2: Split\n",
    "# ---------------------------------------------------------------------------------------------------------- \n",
    "grating_list = [crystal.RectangleGrating(), crystal.RectangleGrating()]\n",
    "grating_list[0].set_a(0.5)\n",
    "grating_list[0].set_b(0.5)\n",
    "grating_list[1].set_a(0.5)\n",
    "grating_list[1].set_b(0.5)\n",
    "\n",
    "dtheta = np.arctan(grating_list[0].base_wave_vector[1] / my_pulse.klen0)  # This is the deviation angle.\n",
    "\n",
    "\n",
    "# ----------------------------------------------------------------------------------------------------------\n",
    "#                       Step 3: Delay Lines\n",
    "# ----------------------------------------------------------------------------------------------------------\n",
    "# Some meta data for the delay line.\n",
    "h_length = 2. * np.pi / (1.9201 * 1e-4)\n",
    "\n",
    "# Some crystal properties\n",
    "chi0 = complex(-0.97631E-05, 0.14871E-06)\n",
    "chih_sigma = complex(0.59310E-05, -0.14320E-06)\n",
    "chihbar_sigma = complex(0.59310E-05, -0.14320E-06)\n",
    "chih_pi = complex(0.46945E-05, -0.11201E-06)\n",
    "chihbar_pi = complex(0.46945E-05, -0.11201E-06)\n",
    "\n",
    "# ~~~~~~~~~~~~~~~~~~~~~~~~~~~~~~~~~~~~~~~~~~~~~~~~~~~~~~~~~~~~~~~~~~~~~~~\n",
    "#                       Crystal for branch  1\n",
    "# ~~~~~~~~~~~~~~~~~~~~~~~~~~~~~~~~~~~~~~~~~~~~~~~~~~~~~~~~~~~~~~~~~~~~~~~\n",
    "# Set up the angles\n",
    "angle_offset_1 = dtheta\n",
    "\n",
    "# Bragg angle\n",
    "bragg = np.radians(18.836) + 10e-6\n",
    "\n",
    "d1 = 0.\n",
    "d2 = 15.5e-6\n",
    "d3 = 15.5e-6\n",
    "d4 = 0.\n",
    "\n",
    "# Get crystal angles\n",
    "eta_b1 = np.zeros(8, dtype=np.float64)\n",
    "theta_b1 = np.array([3 * np.pi / 2. - bragg,\n",
    "                     np.pi / 2. - bragg,\n",
    "                     np.pi / 2. + bragg + d2,\n",
    "                     3 * np.pi / 2. + bragg + d2,\n",
    "                     np.pi / 2. + bragg + d3,\n",
    "                     3 * np.pi / 2. + bragg + d3,\n",
    "                     3 * np.pi / 2. - bragg + d4,\n",
    "                     np.pi / 2. - bragg + d4])\n",
    "\n",
    "rho_b1 = theta_b1 + np.pi\n",
    "\n",
    "asy_angle = np.deg2rad(5)\n",
    "rho_b1[1] += asy_angle\n",
    "rho_b1[2] -= asy_angle\n",
    "rho_b1[5] -= asy_angle\n",
    "rho_b1[6] += asy_angle\n",
    "\n",
    "tau_b1 = np.zeros(8)\n",
    "\n",
    "\n",
    "# Add the effect of the global rotation due to the grating momentum transfer\n",
    "theta_b1 += angle_offset_1\n",
    "rho_b1 += angle_offset_1\n",
    "\n",
    "# Initialize the crystals\n",
    "crystal_list_1 = lclsutil.get_crystal_list(num=8,\n",
    "                                           hlen=np.array([h_length, ] * 8),\n",
    "                                           theta=theta_b1,\n",
    "                                           eta=eta_b1,\n",
    "                                           rho=rho_b1,\n",
    "                                           tau=tau_b1,\n",
    "                                           chi0=chi0,\n",
    "                                           chih_sigma=chih_sigma,\n",
    "                                           chihbar_sigma=chihbar_sigma,\n",
    "                                           chih_pi=chih_pi,\n",
    "                                           chihbar_pi=chihbar_pi)\n",
    "\n",
    "# ~~~~~~~~~~~~~~~~~~~~~~~~~~~~~~~~~~~~~~~~~~~~~~~~~~~~~~~~~~~~~~~~~~~~~~~\n",
    "#                       Crystal for branch  2\n",
    "# ~~~~~~~~~~~~~~~~~~~~~~~~~~~~~~~~~~~~~~~~~~~~~~~~~~~~~~~~~~~~~~~~~~~~~~~\n",
    "# Set up the angles\n",
    "angle_offset_2 = - dtheta\n",
    "bragg = np.radians(18.836) + 13e-6\n",
    "\n",
    "# Get crystal angles\n",
    "eta_b2 = np.zeros(4, dtype=np.float64)\n",
    "theta_b2 = np.array([3 * np.pi / 2. - bragg,\n",
    "                     np.pi / 2. - bragg,\n",
    "                     np.pi / 2. + bragg,\n",
    "                     3 * np.pi / 2. + bragg])\n",
    "rho_b2 = theta_b2 + np.pi\n",
    "tau_b2 = np.zeros(4, dtype=np.float64)\n",
    "\n",
    "# Add the effect of the global rotation due to the grating momentum transfer\n",
    "theta_b2 += angle_offset_2\n",
    "rho_b2 += angle_offset_2\n",
    "\n",
    "# Initialize the crystals\n",
    "crystal_list_2 = lclsutil.get_crystal_list(num=4,\n",
    "                                           hlen=np.array([h_length, ] * 4),\n",
    "                                           theta=theta_b2,\n",
    "                                           eta=eta_b2,\n",
    "                                           rho=rho_b2,\n",
    "                                           tau=tau_b2,\n",
    "                                           chi0=chi0,\n",
    "                                           chih_sigma=chih_sigma,\n",
    "                                           chihbar_sigma=chihbar_sigma,\n",
    "                                           chih_pi=chih_pi,\n",
    "                                           chihbar_pi=chihbar_pi)\n",
    "\n",
    "# ------------------------------------------------------\n",
    "#   Define the positions\n",
    "# ------------------------------------------------------\n",
    "path_list_fix = [5e6 - 1e5, 1.1e5, 6.5e5, 1.12e5, 6e6, 1e6]\n",
    "path_list_var = [5e6, 1e4, 5e4, 1e4, 20e4, 10e4, 10e4, 10.2e4, 6e6, 1e6]\n",
    "delay_time = 20"
   ]
  },
  {
   "cell_type": "markdown",
   "metadata": {},
   "source": [
    "# Arrange the crystals"
   ]
  },
  {
   "cell_type": "code",
   "execution_count": 3,
   "metadata": {},
   "outputs": [
    {
     "name": "stdout",
     "output_type": "stream",
     "text": [
      "The total propagation length is 11.90m.\n"
     ]
    }
   ],
   "source": [
    "# ---------------------------------------------------------------------------\n",
    "#                  Adjust the position of the crystals\n",
    "# ---------------------------------------------------------------------------\n",
    "\n",
    "(fix_branch_path,\n",
    " kout_fixed,\n",
    " intersect_fixed,\n",
    " var_branch_path,\n",
    " kout_var,\n",
    " intersect_var) = lightpath.adjust_path_length(delay_time=delay_time,\n",
    "                                               fix_branch_path=path_list_fix,\n",
    "                                               fix_branch_crystal=crystal_list_2,\n",
    "                                               var_branch_path=path_list_var,\n",
    "                                               var_branch_crystal=crystal_list_1,\n",
    "                                               grating_pair=grating_list,\n",
    "                                               kin=my_pulse.k0)\n",
    "\n",
    "# -----------------------------------------------------------------------------\n",
    "#                 Update the crystals\n",
    "# -----------------------------------------------------------------------------\n",
    "crystal_list_1 = lclsutil.update_crystal_list(crystal_list_1,\n",
    "                                              surface_points=np.copy(intersect_var[1:-2]))\n",
    "crystal_list_2 = lclsutil.update_crystal_list(crystal_list_2,\n",
    "                                              surface_points=np.copy(intersect_fixed[1:-2]))\n",
    "grating_list[0].set_surface_point(np.copy(intersect_fixed[0]))\n",
    "grating_list[1].set_surface_point(np.copy(intersect_fixed[-2]))\n",
    "\n",
    "# ~~~~~~~~~~~~~~~~~~~~~~~~~~~~~~~~~~~~~~~~~~~~~~~~~~~~~~~~~~~~~~~~~~~~~~~\n",
    "# Get the observation point\n",
    "# ~~~~~~~~~~~~~~~~~~~~~~~~~~~~~~~~~~~~~~~~~~~~~~~~~~~~~~~~~~~~~~~~~~~~~~~\n",
    "observation = np.copy(intersect_fixed[-1]) \n",
    "total_path = pre_length + np.sum(fix_branch_path)\n",
    "\n",
    "print(\"The total propagation length is {:.2f}m.\".format(total_path / 1e6))\n",
    "\n",
    "# ~~~~~~~~~~~~~~~~~~~~~~~~~~~~~~~~~~~~~~~~~~~~~~~~~~~~~~~~~~~~~~~~~~~~~~~\n",
    "#                  Change frame\n",
    "# ~~~~~~~~~~~~~~~~~~~~~~~~~~~~~~~~~~~~~~~~~~~~~~~~~~~~~~~~~~~~~~~~~~~~~~~\n",
    "(my_pulse,\n",
    " observation,\n",
    " [crystal_list_1, \n",
    "  crystal_list_2,\n",
    "  grating_list]\n",
    ") = lclsutil.get_output_frame(displacement=-np.copy(intersect_fixed[-1]),\n",
    "                              observe=observation,\n",
    "                              pulse=my_pulse,\n",
    "                              crystal_lists = [crystal_list_1, \n",
    "                                               crystal_list_2,\n",
    "                                               grating_list])\n",
    "\n",
    "# ~~~~~~~~~~~~~~~~~~~~~~~~~~~~~~~~~~~~~~~~~~~~~~~~~~~~~~~~~~~~~~~~~~~~~~~\n",
    "#                  Get the momentum mesh\n",
    "# ~~~~~~~~~~~~~~~~~~~~~~~~~~~~~~~~~~~~~~~~~~~~~~~~~~~~~~~~~~~~~~~~~~~~~~~\n",
    "number_x = 2\n",
    "number_y = 800\n",
    "number_z = 10 ** 5\n",
    "kx_grid, ky_grid, kz_grid, axis_info = util.get_k_mesh_3d(number_x=number_x,\n",
    "                                                          number_y=number_y,\n",
    "                                                          number_z=number_z,\n",
    "                                                          delta_e_x=1e-50,\n",
    "                                                          delta_e_y=5e-4,\n",
    "                                                          delta_e_z=2e-3)\n",
    "kz_grid += my_pulse.klen0\n",
    "\n",
    "# Apply fft shift\n",
    "# kx_grid = np.ascontiguousarray(np.fft.fftshift(kx_grid))\n",
    "kx_grid = np.zeros(1, np.float64)\n",
    "number_x = 1\n",
    "ky_grid = np.ascontiguousarray(np.fft.fftshift(ky_grid))\n",
    "kz_grid = np.ascontiguousarray(np.fft.fftshift(kz_grid))"
   ]
  },
  {
   "cell_type": "code",
   "execution_count": 4,
   "metadata": {},
   "outputs": [],
   "source": [
    "delta_g = 9e6 * np.sin(dtheta) / np.cos(bragg)  / 2"
   ]
  },
  {
   "cell_type": "markdown",
   "metadata": {},
   "source": [
    "# Get the value for 9keV"
   ]
  },
  {
   "cell_type": "code",
   "execution_count": 5,
   "metadata": {},
   "outputs": [
    {
     "name": "stdout",
     "output_type": "stream",
     "text": [
      "h is -139.2960 um\n"
     ]
    }
   ],
   "source": [
    "delta_9 = np.arctan(grating_list[0].base_wave_vector[1] / util.kev_to_wave_number(9))\n",
    "bragg_9 = np.deg2rad(21.02)\n",
    "\n",
    "h_9 = 2 * delta_g * np.cos(bragg_9) / np.cos(delta_9)  - 9. * np.tan(delta_9) * 1e6\n",
    "\n",
    "print(\"h is {:.4f} um\".format(h_9))"
   ]
  },
  {
   "cell_type": "markdown",
   "metadata": {},
   "source": [
    "# Get the value for 12 keV"
   ]
  },
  {
   "cell_type": "code",
   "execution_count": 6,
   "metadata": {},
   "outputs": [
    {
     "name": "stdout",
     "output_type": "stream",
     "text": [
      "h is 205.6894 um\n"
     ]
    }
   ],
   "source": [
    "delta_12 = np.arctan(grating_list[0].base_wave_vector[1] / util.kev_to_wave_number(12))\n",
    "bragg_12 = np.deg2rad(15.6)\n",
    "\n",
    "h_12 = 2 * delta_g * np.cos(bragg_12) / np.cos(delta_12)  - 9. * np.tan(delta_12) * 1e6\n",
    "\n",
    "print(\"h is {:.4f} um\".format(h_12))"
   ]
  },
  {
   "cell_type": "markdown",
   "metadata": {},
   "source": [
    "# Get the value for 11keV"
   ]
  },
  {
   "cell_type": "code",
   "execution_count": 7,
   "metadata": {},
   "outputs": [
    {
     "name": "stdout",
     "output_type": "stream",
     "text": [
      "h is 113.0694 um\n"
     ]
    }
   ],
   "source": [
    "delta_11 = np.arctan(grating_list[0].base_wave_vector[1] / util.kev_to_wave_number(11))\n",
    "bragg_11 = np.deg2rad(17)\n",
    "\n",
    "h_11 = 2 * delta_g * np.cos(bragg_11) / np.cos(delta_11)  - 9. * np.tan(delta_11) * 1e6\n",
    "\n",
    "print(\"h is {:.4f} um\".format(h_11))"
   ]
  },
  {
   "cell_type": "markdown",
   "metadata": {},
   "source": [
    "# Get the value for 10 kev"
   ]
  },
  {
   "cell_type": "code",
   "execution_count": 8,
   "metadata": {},
   "outputs": [
    {
     "name": "stdout",
     "output_type": "stream",
     "text": [
      "h is 0.0000e+00 um\n"
     ]
    }
   ],
   "source": [
    "delta_10 = np.arctan(grating_list[0].base_wave_vector[1] / util.kev_to_wave_number(10))\n",
    "bragg_10 = bragg\n",
    "\n",
    "h_10 = 2 * delta_g * np.cos(bragg_10) / np.cos(delta_10)  - 9. * np.tan(delta_10) * 1e6\n",
    "\n",
    "print(\"h is {:.4e} um\".format(h_10))"
   ]
  },
  {
   "cell_type": "markdown",
   "metadata": {},
   "source": [
    "# Calculate the path length"
   ]
  },
  {
   "cell_type": "code",
   "execution_count": 9,
   "metadata": {},
   "outputs": [
    {
     "name": "stdout",
     "output_type": "stream",
     "text": [
      "The total path length is 9031376.380856752\n",
      "The total propogation time is 30125428.908744432 fs\n"
     ]
    }
   ],
   "source": [
    "energy = 10\n",
    "bragg_new = bragg\n",
    "\n",
    "g1 = 2.4 * 1e4\n",
    "g2 = 2.4 * 1e4 + delta_g\n",
    "\n",
    "d = 9e6\n",
    "delta = np.arctan(grating_list[0].base_wave_vector[1] / util.kev_to_wave_number(energy))\n",
    "\n",
    "path_length_10 = ( d / np.cos(delta)\n",
    "               - 2 * (g2 - g1) * np.cos(bragg_new) * np.tan(delta) + \n",
    "               (g1 + g2) / np.sin(bragg_new) * (1- np.cos(2*bragg_new)) )\n",
    "\n",
    "print(\"The total path length is {}\".format(path_length_10))\n",
    "print(\"The total propogation time is {} fs\".format(path_length_10 / util.c))"
   ]
  },
  {
   "cell_type": "code",
   "execution_count": 25,
   "metadata": {},
   "outputs": [
    {
     "name": "stdout",
     "output_type": "stream",
     "text": [
      "The change in path length is 3481.059402687475 um\n",
      "The chagne in the propogation time is 11.611564299884671 fs\n"
     ]
    }
   ],
   "source": [
    "energy = 9\n",
    "\n",
    "g1 = 2.4 * 1e4\n",
    "g2 = 2.4 * 1e4 + delta_g\n",
    "\n",
    "d = 9e6\n",
    "\n",
    "path_length_9 = ( d / np.cos(delta_9)\n",
    "               - 2 * (g2 - g1) * np.cos(bragg_9) * np.tan(delta_9) + \n",
    "               (g1 + g2) / np.sin(bragg_9) * (1- np.cos(2*bragg_9)) )\n",
    "\n",
    "print(\"The change in path length is {} um\".format(path_length_9-path_length_10))\n",
    "print(\"The chagne in the propogation time is {} fs\".format((path_length_9 - path_length_10) / util.c / 1000))"
   ]
  },
  {
   "cell_type": "code",
   "execution_count": 26,
   "metadata": {},
   "outputs": [
    {
     "name": "stdout",
     "output_type": "stream",
     "text": [
      "The change in path length is -2964.060200396925 um\n",
      "The chagne in the propogation time is -9.887040588582535 fs\n"
     ]
    }
   ],
   "source": [
    "energy = 11\n",
    "\n",
    "g1 = 2.4 * 1e4\n",
    "g2 = 2.4 * 1e4 + delta_g\n",
    "\n",
    "d = 9e6\n",
    "\n",
    "path_length_11 = ( d / np.cos(delta_11)\n",
    "               - 2 * (g2 - g1) * np.cos(bragg_11) * np.tan(delta_11) + \n",
    "               (g1 + g2) / np.sin(bragg_11) * (1- np.cos(2*bragg_11)) )\n",
    "\n",
    "print(\"The change in path length is {} um\".format(path_length_11-path_length_10))\n",
    "print(\"The chagne in the propogation time is {} fs\".format((path_length_11 - path_length_10) / util.c / 1000))"
   ]
  },
  {
   "cell_type": "code",
   "execution_count": 27,
   "metadata": {},
   "outputs": [
    {
     "name": "stdout",
     "output_type": "stream",
     "text": [
      "The change in path length is -5243.090276673436 um\n",
      "The chagne in the propogation time is -17.489066641808034 ps\n"
     ]
    }
   ],
   "source": [
    "energy = 12\n",
    "\n",
    "g1 = 2.4 * 1e4\n",
    "g2 = 2.4 * 1e4 + delta_g\n",
    "\n",
    "d = 9e6\n",
    "\n",
    "path_length_12 = ( d / np.cos(delta_12)\n",
    "               - 2 * (g2 - g1) * np.cos(bragg_12) * np.tan(delta_12) + \n",
    "               (g1 + g2) / np.sin(bragg_12) * (1- np.cos(2*bragg_12)) )\n",
    "\n",
    "print(\"The change in path length is {} um\".format(path_length_12-path_length_10))\n",
    "print(\"The chagne in the propogation time is {} ps\".format((path_length_12 - path_length_10) / util.c / 1000))"
   ]
  },
  {
   "cell_type": "markdown",
   "metadata": {},
   "source": [
    "# Calculate the corresponding change in the variable branch"
   ]
  },
  {
   "cell_type": "code",
   "execution_count": 13,
   "metadata": {},
   "outputs": [],
   "source": [
    "f1 = 1.2 * 1e4\n",
    "f2 = 1.2 * 1e4\n",
    "f3 = 1.2 * 1e4\n",
    "f4 = f3 - (g2 - g1) + d * np.sin(delta_10) / np.cos(bragg_10)"
   ]
  },
  {
   "cell_type": "markdown",
   "metadata": {},
   "source": [
    "# For 9 keV"
   ]
  },
  {
   "cell_type": "code",
   "execution_count": 19,
   "metadata": {},
   "outputs": [],
   "source": [
    "delta_tmp = delta_9\n",
    "h_tmp = h_9\n",
    "bragg_tmp = bragg_9\n",
    "\n",
    "path_9 = ( d * np.cos(delta_tmp) + h_tmp * np.sin(delta_tmp) + \n",
    "          (f1 + f2 + f3 + f4) * (1 - np.cos(2 * bragg_tmp)) / np.sin(bragg_tmp))"
   ]
  },
  {
   "cell_type": "code",
   "execution_count": 20,
   "metadata": {},
   "outputs": [],
   "source": [
    "delta_tmp = delta_10\n",
    "h_tmp = h_10\n",
    "bragg_tmp = bragg_10\n",
    "\n",
    "path_10 = ( d * np.cos(delta_tmp) + h_tmp * np.sin(delta_tmp) + \n",
    "          (f1 + f2 + f3 + f4) * (1 - np.cos(2 * bragg_tmp)) / np.sin(bragg_tmp))"
   ]
  },
  {
   "cell_type": "code",
   "execution_count": 21,
   "metadata": {},
   "outputs": [],
   "source": [
    "delta_tmp = delta_11\n",
    "h_tmp = h_11\n",
    "bragg_tmp = bragg_11\n",
    "\n",
    "path_11 = ( d * np.cos(delta_tmp) + h_tmp * np.sin(delta_tmp) + \n",
    "          (f1 + f2 + f3 + f4) * (1 - np.cos(2 * bragg_tmp)) / np.sin(bragg_tmp))"
   ]
  },
  {
   "cell_type": "code",
   "execution_count": 22,
   "metadata": {},
   "outputs": [],
   "source": [
    "delta_tmp = delta_12\n",
    "h_tmp = h_12\n",
    "bragg_tmp = bragg_12\n",
    "\n",
    "path_12 = ( d * np.cos(delta_tmp) + h_tmp * np.sin(delta_tmp) + \n",
    "          (f1 + f2 + f3 + f4) * (1 - np.cos(2 * bragg_tmp)) / np.sin(bragg_tmp))"
   ]
  },
  {
   "cell_type": "markdown",
   "metadata": {},
   "source": [
    "# Compare with the other branch"
   ]
  },
  {
   "cell_type": "code",
   "execution_count": 28,
   "metadata": {},
   "outputs": [
    {
     "name": "stdout",
     "output_type": "stream",
     "text": [
      "3481.021023783833\n",
      "11.61143628164199\n",
      "11.611564299884671\n"
     ]
    }
   ],
   "source": [
    "print(path_9 - path_length_10)\n",
    "\n",
    "print( (path_9 - path_length_10) / util.c / 1000 )\n",
    "\n",
    "print( (path_length_9 - path_length_10) / util.c / 1000 )"
   ]
  },
  {
   "cell_type": "code",
   "execution_count": 29,
   "metadata": {},
   "outputs": [
    {
     "name": "stdout",
     "output_type": "stream",
     "text": [
      "1.862645149230957e-09\n",
      "6.21311543878451e-12\n",
      "0.0\n"
     ]
    }
   ],
   "source": [
    "print(path_10 - path_length_10)\n",
    "\n",
    "print( (path_10 - path_length_10) / util.c / 1000 )\n",
    "\n",
    "print( (path_length_10 - path_length_10) / util.c / 1000 )"
   ]
  },
  {
   "cell_type": "code",
   "execution_count": 30,
   "metadata": {},
   "outputs": [
    {
     "name": "stdout",
     "output_type": "stream",
     "text": [
      "-2964.0347116440535\n",
      "-9.886955567254642\n",
      "-9.887040588582535\n"
     ]
    }
   ],
   "source": [
    "print(path_11 - path_length_10)\n",
    "\n",
    "print( (path_11 - path_length_10) / util.c / 1000 )\n",
    "\n",
    "print( (path_length_11 - path_length_10) / util.c / 1000 )"
   ]
  },
  {
   "cell_type": "code",
   "execution_count": 31,
   "metadata": {},
   "outputs": [
    {
     "name": "stdout",
     "output_type": "stream",
     "text": [
      "-5243.047772945836\n",
      "-17.48892486463364\n",
      "-17.489066641808034\n"
     ]
    }
   ],
   "source": [
    "print(path_12 - path_length_10)\n",
    "\n",
    "print( (path_12 - path_length_10) / util.c / 1000 )\n",
    "\n",
    "print( (path_length_12 - path_length_10) / util.c / 1000 )"
   ]
  },
  {
   "cell_type": "code",
   "execution_count": null,
   "metadata": {},
   "outputs": [],
   "source": []
  }
 ],
 "metadata": {
  "kernelspec": {
   "display_name": "Python 3",
   "language": "python",
   "name": "python3"
  },
  "language_info": {
   "codemirror_mode": {
    "name": "ipython",
    "version": 3
   },
   "file_extension": ".py",
   "mimetype": "text/x-python",
   "name": "python",
   "nbconvert_exporter": "python",
   "pygments_lexer": "ipython3",
   "version": "3.6.9"
  }
 },
 "nbformat": 4,
 "nbformat_minor": 2
}
