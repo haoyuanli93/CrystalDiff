{
 "cells": [
  {
   "cell_type": "code",
   "execution_count": 1,
   "metadata": {},
   "outputs": [],
   "source": [
    "import h5py as h5\n",
    "import numpy as np\n",
    "import matplotlib.pyplot as plt\n",
    "from pyevtk.hl import gridToVTK\n",
    "import time"
   ]
  },
  {
   "cell_type": "code",
   "execution_count": 2,
   "metadata": {},
   "outputs": [
    {
     "name": "stdout",
     "output_type": "stream",
     "text": [
      "Now processing the file C:/Users/hyli93/Downloads/asymmetric24_part_7_y_field_ds.h5.\n",
      "It takes 2.24 seconds to finishes the processing.\n",
      "Now processing the file C:/Users/hyli93/Downloads/asymmetric24_part_9_y_field_ds.h5.\n",
      "It takes 2.27 seconds to finishes the processing.\n"
     ]
    }
   ],
   "source": [
    "simu_list =[#\"asymmetric24_part_3\",\n",
    "            #\"asymmetric24_part_5\",\n",
    "            \"asymmetric24_part_7\",\n",
    "            \"asymmetric24_part_9\",\n",
    "            #\"inclined_part_3\",\n",
    "            #\"inclined_part_5\",\n",
    "            #\"inclined_part_7\",\n",
    "            #\"inclined_part_9\"\n",
    "]\n",
    "\n",
    "for simu in simu_list:\n",
    "    \n",
    "    tic = time.time()\n",
    "    \n",
    "    # Get the file name\n",
    "    file_name = \"C:/Users/hyli93/Downloads/{}_y_field_ds.h5\".format(simu)\n",
    "    print(\"Now processing the file {}.\".format(file_name))\n",
    "\n",
    "    # Open the file\n",
    "    with h5.File(file_name,'r') as h5file:\n",
    "        \n",
    "        # Get the data\n",
    "        data = np.array(h5file['field'])\n",
    "        \n",
    "    # Construct and save the vtr file\n",
    "    w, h, l = data.shape\n",
    "    \n",
    "    x = np.arange(0, w+1)\n",
    "    y = np.arange(0, h+1)\n",
    "    z = np.arange(0, l+1)\n",
    "\n",
    "    gridToVTK(\"C:/Users/hyli93/Downloads/field_{}\".format(simu),\n",
    "              x, y, z, cellData = {'Electric_Field': data})\n",
    "    \n",
    "    toc = time.time()\n",
    "    print(\"It takes {:.2f} seconds to finishes the processing.\".format(toc - tic))"
   ]
  },
  {
   "cell_type": "code",
   "execution_count": null,
   "metadata": {},
   "outputs": [],
   "source": []
  }
 ],
 "metadata": {
  "kernelspec": {
   "display_name": "Python 3",
   "language": "python",
   "name": "python3"
  },
  "language_info": {
   "codemirror_mode": {
    "name": "ipython",
    "version": 3
   },
   "file_extension": ".py",
   "mimetype": "text/x-python",
   "name": "python",
   "nbconvert_exporter": "python",
   "pygments_lexer": "ipython3",
   "version": "3.6.8"
  }
 },
 "nbformat": 4,
 "nbformat_minor": 2
}
