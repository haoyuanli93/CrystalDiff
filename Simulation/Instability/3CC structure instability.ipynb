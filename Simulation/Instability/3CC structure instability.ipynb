{
 "cells": [
  {
   "cell_type": "code",
   "execution_count": 1,
   "metadata": {},
   "outputs": [],
   "source": [
    "import numpy as np\n",
    "import sys\n",
    "import time\n",
    "import h5py as h5\n",
    "import matplotlib.pyplot as plt\n",
    "from scipy.spatial.transform import Rotation\n",
    "from scipy.stats import linregress\n",
    "\n",
    "sys.path.append(r\"C:\\Users\\haoyuan\\Documents\\GitHub\\CrystalDiff\")\n",
    "\n",
    "from CrystalDiff import util, pulse, lclsutil, crystal, lightpath"
   ]
  },
  {
   "cell_type": "markdown",
   "metadata": {},
   "source": [
    "# Prepare the crystal"
   ]
  },
  {
   "cell_type": "code",
   "execution_count": 2,
   "metadata": {},
   "outputs": [],
   "source": [
    "# ----------------------------------------------------------------------------------------------------------\n",
    "#                       Step 1: Pulse\n",
    "# ----------------------------------------------------------------------------------------------------------\n",
    "energy_center = 10.\n",
    "pre_length = 1e6\n",
    "\n",
    "# Set up the pulse\n",
    "my_pulse = pulse.GaussianPulse3D()\n",
    "my_pulse.set_pulse_properties(central_energy=energy_center,\n",
    "                              polar=[0., 1., 0.],\n",
    "                              sigma_x=708.2581446128465,\n",
    "                              sigma_y=708.2581446128465,\n",
    "                              sigma_z=1.,\n",
    "                              x0=np.array([0., 0., -pre_length]))\n",
    "\n",
    "# ----------------------------------------------------------------------------------------------------------\n",
    "#                       Step 2: Split\n",
    "# ----------------------------------------------------------------------------------------------------------\n",
    "dtheta = np.arctan(1.5 * 1e-3 / 5.)  # This is the deviation angle.\n",
    "half_period = util.get_grating_period(dtheta=dtheta,\n",
    "                                      klen_in=my_pulse.klen0) / 2\n",
    "\n",
    "grating_list = [crystal.RectangleGrating(), crystal.RectangleGrating()]\n",
    "grating_list[0].set_a(half_period)\n",
    "grating_list[0].set_b(half_period)\n",
    "grating_list[1].set_a(half_period)\n",
    "grating_list[1].set_b(half_period)\n",
    "\n",
    "# ----------------------------------------------------------------------------------------------------------\n",
    "#                       Step 3: Delay Lines\n",
    "# ----------------------------------------------------------------------------------------------------------\n",
    "# Some meta data for the delay line.\n",
    "h_length = 2. * np.pi / (1.9201 * 1e-4)\n",
    "\n",
    "# Some crystal properties\n",
    "chi0 = complex(-0.97631E-05, 0.14871E-06)\n",
    "chih_sigma = complex(0.59310E-05, -0.14320E-06)\n",
    "chihbar_sigma = complex(0.59310E-05, -0.14320E-06)\n",
    "chih_pi = complex(0.46945E-05, -0.11201E-06)\n",
    "chihbar_pi = complex(0.46945E-05, -0.11201E-06)\n",
    "\n",
    "# ~~~~~~~~~~~~~~~~~~~~~~~~~~~~~~~~~~~~~~~~~~~~~~~~~~~~~~~~~~~~~~~~~~~~~~~\n",
    "#                       Crystal for branch  1\n",
    "# ~~~~~~~~~~~~~~~~~~~~~~~~~~~~~~~~~~~~~~~~~~~~~~~~~~~~~~~~~~~~~~~~~~~~~~~\n",
    "# Set up the angles\n",
    "angle_offset_1 = dtheta\n",
    "\n",
    "# Bragg angle\n",
    "bragg = np.radians(18.836) + 13e-6\n",
    "miscut = np.deg2rad(10.)\n",
    "\n",
    "# Get crystal angles\n",
    "eta_b1 = np.zeros(6, dtype=np.float64)\n",
    "theta_b1 = np.array([np.pi / 2. + bragg,\n",
    "                     3 * np.pi / 2. + bragg,\n",
    "                     3 * np.pi / 2. - bragg,\n",
    "                     np.pi / 2. - bragg,\n",
    "                     3 * np.pi / 2. - bragg,\n",
    "                     np.pi / 2. - bragg])\n",
    "rho_b1 = theta_b1 + np.pi\n",
    "tau_b1 = np.array([0., miscut, miscut, 0.,\n",
    "                   -miscut, -miscut])\n",
    "\n",
    "# Add the effect of the global rotation due to the grating momentum transfer\n",
    "theta_b1 += angle_offset_1\n",
    "rho_b1 += angle_offset_1\n",
    "\n",
    "# Initialize the crystals\n",
    "crystal_list_1 = lclsutil.get_crystal_list(num=6,\n",
    "                                           hlen=np.array([h_length, ] * 6),\n",
    "                                           theta=theta_b1,\n",
    "                                           eta=eta_b1,\n",
    "                                           rho=rho_b1,\n",
    "                                           tau=tau_b1,\n",
    "                                           chi0=chi0,\n",
    "                                           chih_sigma=chih_sigma,\n",
    "                                           chihbar_sigma=chihbar_sigma,\n",
    "                                           chih_pi=chih_pi,\n",
    "                                           chihbar_pi=chihbar_pi)\n",
    "\n",
    "# ~~~~~~~~~~~~~~~~~~~~~~~~~~~~~~~~~~~~~~~~~~~~~~~~~~~~~~~~~~~~~~~~~~~~~~~\n",
    "#                       Crystal for branch  2\n",
    "# ~~~~~~~~~~~~~~~~~~~~~~~~~~~~~~~~~~~~~~~~~~~~~~~~~~~~~~~~~~~~~~~~~~~~~~~\n",
    "# Set up the angles\n",
    "angle_offset_2 = - dtheta\n",
    "bragg = np.radians(18.836) + 13e-6\n",
    "\n",
    "# Get crystal angles\n",
    "eta_b2 = np.zeros(4, dtype=np.float64)\n",
    "theta_b2 = np.array([3 * np.pi / 2. - bragg,\n",
    "                     np.pi / 2. - bragg,\n",
    "                     np.pi / 2. + bragg,\n",
    "                     3 * np.pi / 2. + bragg])\n",
    "rho_b2 = theta_b2 + np.pi\n",
    "tau_b2 = np.zeros(4, dtype=np.float64)\n",
    "\n",
    "# Add the effect of the global rotation due to the grating momentum transfer\n",
    "theta_b2 += angle_offset_2\n",
    "rho_b2 += angle_offset_2\n",
    "\n",
    "# Initialize the crystals\n",
    "crystal_list_2 = lclsutil.get_crystal_list(num=4,\n",
    "                                           hlen=np.array([h_length, ] * 4),\n",
    "                                           theta=theta_b2,\n",
    "                                           eta=eta_b2,\n",
    "                                           rho=rho_b2,\n",
    "                                           tau=tau_b2,\n",
    "                                           chi0=chi0,\n",
    "                                           chih_sigma=chih_sigma,\n",
    "                                           chihbar_sigma=chihbar_sigma,\n",
    "                                           chih_pi=chih_pi,\n",
    "                                           chihbar_pi=chihbar_pi)\n",
    "\n",
    "# ------------------------------------------------------\n",
    "#   Define the positions\n",
    "# ------------------------------------------------------\n",
    "path_list_fix = [5e6, 1e5, 2e5, 1.05e5, 6e6, 1e6]\n",
    "path_list_var = [5e6- 2e5, 1e5, 4e5, 2e4, 3e5, 8.5e4, 6e6 - 1476244.1148770414, 1e6]\n",
    "delay_time = 100"
   ]
  },
  {
   "cell_type": "code",
   "execution_count": 13,
   "metadata": {},
   "outputs": [
    {
     "name": "stdout",
     "output_type": "stream",
     "text": [
      "[     0.          30967.47072397 -10574.725901  ]\n",
      "[     0.         -30967.47072397  10574.725901  ]\n",
      "[     0.         -30973.8099848  -10556.14351679]\n",
      "[    0.         30973.8099848  10556.14351679]\n",
      "[     0.         -30973.8099848  -10556.14351679]\n",
      "[    0.         30973.8099848  10556.14351679]\n"
     ]
    }
   ],
   "source": [
    "for x in crystal_list_1:\n",
    "    print(x.h)"
   ]
  },
  {
   "cell_type": "code",
   "execution_count": 12,
   "metadata": {},
   "outputs": [
    {
     "name": "stdout",
     "output_type": "stream",
     "text": [
      "[ 0.         -0.94634549  0.32315665]\n",
      "[ 0.17364818  0.93196837 -0.31824718]\n",
      "[0.17364818 0.93215915 0.31768794]\n",
      "[ 0.         -0.94653921 -0.32258879]\n",
      "[-0.17364818  0.93215915  0.31768794]\n",
      "[-0.17364818 -0.93215915 -0.31768794]\n"
     ]
    }
   ],
   "source": [
    "for x in crystal_list_1:\n",
    "    print(x.normal)"
   ]
  },
  {
   "cell_type": "markdown",
   "metadata": {},
   "source": [
    "# Adjust the crystals"
   ]
  },
  {
   "cell_type": "code",
   "execution_count": 3,
   "metadata": {},
   "outputs": [
    {
     "name": "stdout",
     "output_type": "stream",
     "text": [
      "The total propagation length is 12.23m.\n"
     ]
    }
   ],
   "source": [
    "# ---------------------------------------------------------------------------\n",
    "#                  Adjust the position of the crystals\n",
    "# ---------------------------------------------------------------------------\n",
    "\n",
    "(fix_branch_path,\n",
    " kout_fixed,\n",
    " intersect_fixed,\n",
    " var_branch_path,\n",
    " kout_var,\n",
    " intersect_var) = lightpath.adjust_path_length(delay_time=delay_time,\n",
    "                                               fix_branch_path=path_list_fix,\n",
    "                                               fix_branch_crystal=crystal_list_2,\n",
    "                                               var_branch_path=path_list_var,\n",
    "                                               var_branch_crystal=crystal_list_1,\n",
    "                                               grating_pair=grating_list,\n",
    "                                               kin=my_pulse.k0)\n",
    "\n",
    "# -----------------------------------------------------------------------------\n",
    "#                 Update the crystals\n",
    "# -----------------------------------------------------------------------------\n",
    "crystal_list_1 = lclsutil.update_crystal_list(crystal_list_1,\n",
    "                                              surface_points=np.copy(intersect_var[1:-2]))\n",
    "crystal_list_2 = lclsutil.update_crystal_list(crystal_list_2,\n",
    "                                              surface_points=np.copy(intersect_fixed[1:-2]))\n",
    "grating_list[0].set_surface_point(np.copy(intersect_fixed[0]))\n",
    "grating_list[1].set_surface_point(np.copy(intersect_fixed[-2]))\n",
    "\n",
    "# ~~~~~~~~~~~~~~~~~~~~~~~~~~~~~~~~~~~~~~~~~~~~~~~~~~~~~~~~~~~~~~~~~~~~~~~\n",
    "# Get the observation point\n",
    "# ~~~~~~~~~~~~~~~~~~~~~~~~~~~~~~~~~~~~~~~~~~~~~~~~~~~~~~~~~~~~~~~~~~~~~~~\n",
    "observation = np.copy(intersect_fixed[-1]) \n",
    "total_path = pre_length + np.sum(fix_branch_path)\n",
    "\n",
    "print(\"The total propagation length is {:.2f}m.\".format(total_path / 1e6))\n",
    "\n",
    "# ~~~~~~~~~~~~~~~~~~~~~~~~~~~~~~~~~~~~~~~~~~~~~~~~~~~~~~~~~~~~~~~~~~~~~~~\n",
    "#                  Change frame\n",
    "# ~~~~~~~~~~~~~~~~~~~~~~~~~~~~~~~~~~~~~~~~~~~~~~~~~~~~~~~~~~~~~~~~~~~~~~~\n",
    "(my_pulse,\n",
    " observation,\n",
    " [crystal_list_1, \n",
    "  crystal_list_2,\n",
    "  grating_list]\n",
    ") = lclsutil.get_output_frame(displacement=-np.copy(intersect_fixed[-1]),\n",
    "                              observe=observation,\n",
    "                              pulse=my_pulse,\n",
    "                              crystal_lists = [crystal_list_1, \n",
    "                                               crystal_list_2,\n",
    "                                               grating_list])\n",
    "\n",
    "# ~~~~~~~~~~~~~~~~~~~~~~~~~~~~~~~~~~~~~~~~~~~~~~~~~~~~~~~~~~~~~~~~~~~~~~~\n",
    "#                  Get the momentum mesh\n",
    "# ~~~~~~~~~~~~~~~~~~~~~~~~~~~~~~~~~~~~~~~~~~~~~~~~~~~~~~~~~~~~~~~~~~~~~~~\n",
    "number_x = 2\n",
    "number_y = 250\n",
    "number_z = 10 ** 5\n",
    "kx_grid, ky_grid, kz_grid, axis_info = util.get_k_mesh_3d(number_x=number_x,\n",
    "                                                          number_y=number_y,\n",
    "                                                          number_z=number_z,\n",
    "                                                          delta_e_x=1e-50,\n",
    "                                                          delta_e_y=1e-4,\n",
    "                                                          delta_e_z=1e-3 / util.c)\n",
    "kz_grid += my_pulse.klen0\n",
    "\n",
    "# Apply fft shift\n",
    "# kx_grid = np.ascontiguousarray(np.fft.fftshift(kx_grid))\n",
    "kx_grid = np.zeros(1, np.float64)\n",
    "number_x = 1\n",
    "ky_grid = np.ascontiguousarray(np.fft.fftshift(ky_grid))\n",
    "kz_grid = np.ascontiguousarray(np.fft.fftshift(kz_grid))"
   ]
  },
  {
   "cell_type": "code",
   "execution_count": 4,
   "metadata": {},
   "outputs": [
    {
     "data": {
      "text/plain": [
       "array([[ 0.00000000e+00,  0.00000000e+00,  5.06773076e+04],\n",
       "       [ 0.00000000e+00,  1.52031923e+01,  5.06773076e+04],\n",
       "       [ 0.00000000e+00,  3.09840214e+04,  4.01021215e+04],\n",
       "       [-2.51071492e-01,  1.52031941e+01,  5.06773076e+04],\n",
       "       [-5.02142843e-01, -3.09599546e+04,  4.01207047e+04],\n",
       "       [-5.02142843e-01,  1.52031886e+01,  5.06773076e+04],\n",
       "       [-2.51071492e-01, -3.09599546e+04,  4.01207047e+04],\n",
       "       [ 1.21701805e-06,  1.52031959e+01,  5.06773076e+04],\n",
       "       [ 1.21701805e-06,  3.64628384e-06,  5.06773076e+04]])"
      ]
     },
     "execution_count": 4,
     "metadata": {},
     "output_type": "execute_result"
    }
   ],
   "source": [
    "kout_var"
   ]
  },
  {
   "cell_type": "markdown",
   "metadata": {},
   "source": [
    "# Calculate the instability spacial case"
   ]
  },
  {
   "cell_type": "code",
   "execution_count": 5,
   "metadata": {},
   "outputs": [
    {
     "name": "stdout",
     "output_type": "stream",
     "text": [
      "[0.00000000e+00 1.52031923e+01 5.06773076e+04]\n",
      "[2.03934498e-01 3.09832194e+04 4.01027412e+04] 0.9999999999999999\n",
      "[-8.19268073e-02  1.52031957e+01  5.06773076e+04] 1.0\n",
      "[-9.17470995e-01 -3.09607569e+04  4.01200855e+04] 1.0\n",
      "[-5.02139174e-01  1.52031805e+01  5.06773076e+04] 1.0000000000000002\n",
      "[-2.51070545e-01 -3.09599546e+04  4.01207047e+04] 1.0\n",
      "[-5.58637277e-07  1.52031878e+01  5.06773076e+04] 1.0000000000000002\n",
      "[-5.58637277e-07 -4.51030044e-06  5.06773076e+04]\n",
      "[-1.10234206e-11 -8.90003960e-11  1.00000000e+00]\n"
     ]
    }
   ],
   "source": [
    "kout = np.copy(kout_var[1])\n",
    "print(kout)\n",
    "\n",
    "a = 1e-5\n",
    "b = 1e-5\n",
    "c = -1e-5\n",
    "misalign = [np.array([a, b, c]),\n",
    "           np.array([a, b, c]),\n",
    "           np.array([a, b, c]),\n",
    "           np.array([a, b, c]),\n",
    "           np.zeros(3),\n",
    "           np.zeros(3)]\n",
    "\n",
    "\n",
    "for x in range(6):\n",
    "    \n",
    "    rot_mat = Rotation.from_euler('xyz',misalign[x], degrees=False)\n",
    "    matrix = rot_mat.as_dcm()\n",
    "    \n",
    "    kout, ratio = util.get_bragg_kout(kin= kout,\n",
    "                                      h= matrix.dot(crystal_list_1[x].h),\n",
    "                                      normal= matrix.dot(crystal_list_1[x].normal),\n",
    "                                      compare_length=True)\n",
    "    \n",
    "    print(kout, ratio)\n",
    "\n",
    "print(kout - grating_list[1].base_wave_vector)\n",
    "print((kout - grating_list[1].base_wave_vector) / my_pulse.klen0)"
   ]
  },
  {
   "cell_type": "markdown",
   "metadata": {},
   "source": [
    "# Calculate the instability coefficient"
   ]
  },
  {
   "cell_type": "code",
   "execution_count": 6,
   "metadata": {},
   "outputs": [],
   "source": [
    "# In this simulation, I would like to study the derivation across 10 urad variation.\n",
    "# The num is the number of partitions I divide the 10 urad into.\n",
    "num = 100\n",
    "num_total = 2 * num + 1\n",
    "\n",
    "kout_holder = np.zeros((3, num_total, 3), dtype=np.float64)\n",
    "\n",
    "for a_idx in range(3):  # The axis index\n",
    "\n",
    "    eular_list = np.zeros((num_total, 3), dtype = np.float64)\n",
    "    eular_list[:, a_idx] = np.arange(-num, num + 1) * 1e-5 / num\n",
    "\n",
    "    for idx in range(num_total):\n",
    "\n",
    "        # Define rotation matrix\n",
    "        rot_mat = Rotation.from_euler('xyz', eular_list[idx], degrees=False)\n",
    "        matrix = rot_mat.as_dcm()\n",
    "\n",
    "        # Get the kout\n",
    "        kout = np.copy(kout_var[1])\n",
    "\n",
    "        for x in range(4):\n",
    "            kout, ratio = util.get_bragg_kout(kin=kout, \n",
    "                                              h = np.dot(matrix, crystal_list_1[x].h),\n",
    "                                              normal= np.dot(matrix, crystal_list_1[x].normal),\n",
    "                                              compare_length=True)\n",
    "\n",
    "        for x in range(4, 6):\n",
    "            kout, ratio = util.get_bragg_kout(kin=kout, \n",
    "                                              h = crystal_list_1[x].h,\n",
    "                                              normal= crystal_list_1[x].normal,\n",
    "                                              compare_length=True)\n",
    "\n",
    "        kout_holder[:, idx, a_idx] = kout - grating_list[1].base_wave_vector\n"
   ]
  },
  {
   "cell_type": "code",
   "execution_count": 7,
   "metadata": {},
   "outputs": [],
   "source": [
    "kout_diff = kout_holder - kout_var[-1][:, np.newaxis, np.newaxis]"
   ]
  },
  {
   "cell_type": "code",
   "execution_count": 8,
   "metadata": {},
   "outputs": [
    {
     "data": {
      "image/png": "[encoded data removed]",
      "text/plain": [
       "<Figure size 864x432 with 1 Axes>"
      ]
     },
     "metadata": {
      "needs_background": "light"
     },
     "output_type": "display_data"
    }
   ],
   "source": [
    "axis = ['x', 'y', 'z']\n",
    "momen = ['kx', 'ky', 'kz']\n",
    "\n",
    "plt.figure(figsize=(12,6))\n",
    "\n",
    "for x in range(3):\n",
    "    for y in range(3):\n",
    "        plt.plot(np.arange(-100, 101) / 10., kout_diff[x, :, y], label=\"{}, {} rot\".format(momen[x],\n",
    "                                                                                           axis[y]))\n",
    "        \n",
    "plt.legend()\n",
    "plt.show()"
   ]
  },
  {
   "cell_type": "code",
   "execution_count": 9,
   "metadata": {},
   "outputs": [],
   "source": [
    "gradient_holder = np.zeros((3, 3))\n",
    "\n",
    "angles = np.arange(-100, 101) / 10.  # urad\n",
    "\n",
    "for x in range(3):\n",
    "    for y in range(3):\n",
    "        \n",
    "        # Slope through the origin\n",
    "        slope_o = np.dot(angles, kout_diff[x, :, y]) / np.dot(angles, angles)\n",
    "        \n",
    "        # Save the gradient\n",
    "        gradient_holder[x, y] = slope_o"
   ]
  }
 ],
 "metadata": {
  "kernelspec": {
   "display_name": "Python 3",
   "language": "python",
   "name": "python3"
  },
  "language_info": {
   "codemirror_mode": {
    "name": "ipython",
    "version": 3
   },
   "file_extension": ".py",
   "mimetype": "text/x-python",
   "name": "python",
   "nbconvert_exporter": "python",
   "pygments_lexer": "ipython3",
   "version": "3.6.9"
  }
 },
 "nbformat": 4,
 "nbformat_minor": 2
}
