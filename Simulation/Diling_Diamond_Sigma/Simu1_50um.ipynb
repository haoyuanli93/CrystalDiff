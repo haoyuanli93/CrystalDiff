{
 "cells": [
  {
   "cell_type": "code",
   "execution_count": 1,
   "metadata": {
    "scrolled": false
   },
   "outputs": [],
   "source": [
    "import numpy as np\n",
    "import sys\n",
    "import time\n",
    "import h5py as h5\n",
    "import matplotlib.pyplot as plt\n",
    "from scipy.spatial.transform import Rotation\n",
    "\n",
    "sys.path.append(r\"C:\\Users\\haoyuan\\Documents\\GitHub\\CrystalDiff\")\n",
    "\n",
    "from CrystalDiff import util, pulse, lclsutil, crystal, lightpath , groutine"
   ]
  },
  {
   "cell_type": "code",
   "execution_count": 2,
   "metadata": {},
   "outputs": [],
   "source": [
    "crystal_thickness = 50"
   ]
  },
  {
   "cell_type": "markdown",
   "metadata": {},
   "source": [
    "# Get the Crystal Geometries"
   ]
  },
  {
   "cell_type": "code",
   "execution_count": 3,
   "metadata": {},
   "outputs": [],
   "source": [
    "# ----------------------------------------------------------------------------------------------------------\n",
    "#                       Step 1: Pulse\n",
    "# ----------------------------------------------------------------------------------------------------------\n",
    "energy_center = 10.\n",
    "pre_length = 1e6\n",
    "\n",
    "# Set up the pulse\n",
    "FWHM = 50 # (um)\n",
    "\n",
    "my_pulse = pulse.GaussianPulse3D()\n",
    "my_pulse.set_pulse_properties(central_energy=energy_center,\n",
    "                              polar=[1., 0., 0.],\n",
    "                              sigma_x=FWHM /2. / np.sqrt(np.log(2)) / util.c,\n",
    "                              sigma_y=FWHM /2. / np.sqrt(np.log(2)) / util.c,\n",
    "                              sigma_z=2.,\n",
    "                              x0=np.array([0., 0., -pre_length]))\n",
    "\n",
    "# ----------------------------------------------------------------------------------------------------------\n",
    "#                       Step 2: Set the crystal\n",
    "# ----------------------------------------------------------------------------------------------------------\n",
    "# Some meta data for the delay line.\n",
    "h_length = 2. * np.pi / (0.89170 * 1e-4)\n",
    "\n",
    "# Some crystal properties\n",
    "chi0 = complex(-0.14606E-04, 0.12304E-07)\n",
    "chih_sigma = complex(0.36477E-05, -0.11228E-07)\n",
    "chihbar_sigma = chih_sigma\n",
    "chih_pi = complex(0.12169E-06, -0.71046E-09)\n",
    "chihbar_pi = chih_pi\n",
    "\n",
    "# Bragg angle\n",
    "bragg = np.radians(44.044) + 10e-6\n",
    "\n",
    "# Get crystal angles\n",
    "eta_b1 = np.zeros(1, dtype=np.float64)\n",
    "theta_b1 = np.array([3 * np.pi / 2 - bragg,])\n",
    "rho_b1 = theta_b1 + np.pi\n",
    "tau_b1 = np.zeros(1)\n",
    "\n",
    "\n",
    "# Initialize the crystals\n",
    "crystal_list_1 = lclsutil.get_crystal_list(num=1,\n",
    "                                           hlen=np.array([h_length, ]),\n",
    "                                           theta=theta_b1,\n",
    "                                           eta=eta_b1,\n",
    "                                           rho=rho_b1,\n",
    "                                           tau=tau_b1,\n",
    "                                           chi0=chi0,\n",
    "                                           chih_sigma=chih_sigma,\n",
    "                                           chihbar_sigma=chihbar_sigma,\n",
    "                                           chih_pi=chih_pi,\n",
    "                                           chihbar_pi=chihbar_pi)\n",
    "crystal_list_1[0].set_thickness(crystal_thickness)"
   ]
  },
  {
   "cell_type": "markdown",
   "metadata": {},
   "source": [
    "# Rotate the Crystals"
   ]
  },
  {
   "cell_type": "code",
   "execution_count": 4,
   "metadata": {},
   "outputs": [
    {
     "name": "stdout",
     "output_type": "stream",
     "text": [
      "The total propagation length is 2.00m.\n"
     ]
    }
   ],
   "source": [
    "# Get kout\n",
    "kout_c = util.get_bragg_kout(kin = my_pulse.k0, \n",
    "                             h=crystal_list_1[0].h,\n",
    "                             normal=crystal_list_1[0].normal)\n",
    "\n",
    "# ~~~~~~~~~~~~~~~~~~~~~~~~~~~~~~~~~~~~~~~~~~~~~~~~~~~~~~~~~~~~~~~~~~~~~~~\n",
    "# Get the observation point\n",
    "# ~~~~~~~~~~~~~~~~~~~~~~~~~~~~~~~~~~~~~~~~~~~~~~~~~~~~~~~~~~~~~~~~~~~~~~~\n",
    "observation = kout_c * 1e6 / util.l2_norm(kout_c)\n",
    "total_path = pre_length + 1e6\n",
    "print(\"The total propagation length is {:.2f}m.\".format(total_path / 1e6))\n",
    "\n",
    "# ~~~~~~~~~~~~~~~~~~~~~~~~~~~~~~~~~~~~~~~~~~~~~~~~~~~~~~~~~~~~~~~~~~~~~~~\n",
    "#                  Change frame\n",
    "# ~~~~~~~~~~~~~~~~~~~~~~~~~~~~~~~~~~~~~~~~~~~~~~~~~~~~~~~~~~~~~~~~~~~~~~~\n",
    "# find the rotation matrix to find the proper frame\n",
    "tmp = np.arctan(kout_c[1] / kout_c[2])\n",
    "rot_tmp = Rotation.from_euler('x', tmp)\n",
    "\n",
    "(my_pulse,\n",
    " observation,\n",
    " [crystal_list_1,]\n",
    ") = lclsutil.get_intermediate_frame(displacement=np.zeros(3),\n",
    "                                    rotation= rot_tmp.as_dcm(),\n",
    "                                    observe=observation,\n",
    "                                    pulse=my_pulse,\n",
    "                                    crystal_lists = [crystal_list_1,])\n",
    "\n",
    "# ~~~~~~~~~~~~~~~~~~~~~~~~~~~~~~~~~~~~~~~~~~~~~~~~~~~~~~~~~~~~~~~~~~~~~~~\n",
    "#                  Get the momentum mesh\n",
    "# ~~~~~~~~~~~~~~~~~~~~~~~~~~~~~~~~~~~~~~~~~~~~~~~~~~~~~~~~~~~~~~~~~~~~~~~\n",
    "number_x = 2\n",
    "number_y = 800\n",
    "number_z = 10 ** 5\n",
    "kx_grid, ky_grid, kz_grid, axis_info = util.get_k_mesh_3d(number_x=number_x,\n",
    "                                                          number_y=number_y,\n",
    "                                                          number_z=number_z,\n",
    "                                                          delta_e_x=1e-50,\n",
    "                                                          delta_e_y=5e-4,\n",
    "                                                          delta_e_z=2e-3)\n",
    "kz_grid += my_pulse.klen0\n",
    "\n",
    "# Apply fft shift\n",
    "# kx_grid = np.ascontiguousarray(np.fft.fftshift(kx_grid))\n",
    "kx_grid = np.zeros(1, np.float64)\n",
    "number_x = 1\n",
    "ky_grid = np.ascontiguousarray(np.fft.fftshift(ky_grid))\n",
    "kz_grid = np.ascontiguousarray(np.fft.fftshift(kz_grid))"
   ]
  },
  {
   "cell_type": "markdown",
   "metadata": {},
   "source": [
    "# Get the output field"
   ]
  },
  {
   "cell_type": "code",
   "execution_count": 5,
   "metadata": {},
   "outputs": [
    {
     "name": "stdout",
     "output_type": "stream",
     "text": [
      "It takes 0.07 seconds to prepare the variables.\n",
      "It takes 19.66 seconds to get the field for branch 1.\n"
     ]
    }
   ],
   "source": [
    "# Set the range of the index to save\n",
    "z_idx_range = 400\n",
    "num1 = 350\n",
    "num2 = 50\n",
    "d_num = 512\n",
    "\n",
    "crystal_list = crystal_list_1\n",
    "\n",
    "# -------------------------------------------------------------\n",
    "#            Get Field for variable branch\n",
    "# -------------------------------------------------------------\n",
    "tic = time.time()\n",
    "\n",
    "(result_3d_var,\n",
    " result_2d_var,\n",
    " check_var\n",
    ") = groutine.get_diffraction_field(crystal_list = crystal_list,\n",
    "                                   total_path = total_path, \n",
    "                                   observation = observation,\n",
    "                                   my_pulse = my_pulse,\n",
    "                                   kx_grid = kx_grid,\n",
    "                                   ky_grid = ky_grid,\n",
    "                                   kz_grid = kz_grid,\n",
    "                                   pulse_delay_time = 0.,\n",
    "                                   pulse_k0_final = np.array([0.,0.,my_pulse.klen0]),\n",
    "                                   grating_orders = [0,],\n",
    "                                   number_x = number_x,\n",
    "                                   number_y = number_y,\n",
    "                                   number_z = number_z,\n",
    "                                   z_idx_range = z_idx_range,\n",
    "                                   idx_start_1=number_z - num1,\n",
    "                                   idx_start_2=0,\n",
    "                                   num1 = num1,\n",
    "                                   num2 = num2, \n",
    "                                   d_num = 512)\n",
    "\n",
    "toc = time.time()\n",
    "print(\"It takes {:.2f} seconds to get the field for branch 1.\".format(toc - tic))"
   ]
  },
  {
   "cell_type": "code",
   "execution_count": 6,
   "metadata": {
    "scrolled": false
   },
   "outputs": [
    {
     "data": {
      "image/png": "[encoded data removed]",
      "text/plain": [
       "<Figure size 1440x720 with 2 Axes>"
      ]
     },
     "metadata": {
      "needs_background": "light"
     },
     "output_type": "display_data"
    }
   ],
   "source": [
    "from pylab import figure, cm\n",
    "from matplotlib.colors import LogNorm\n",
    "\n",
    "yposition = np.arange(-200, 201, 25)\n",
    "yticks = yposition / (axis_info['y_idx'][1] - axis_info['y_idx'][0]) + 200\n",
    "\n",
    "xposition = np.arange(0, 401, 80)\n",
    "xticks = xposition / (axis_info['z_time_idx'][1] - axis_info['z_time_idx'][0])\n",
    "\n",
    "# Set up the canvas\n",
    "fig, axes = plt.subplots(nrows=1, ncols=1)\n",
    "fig.set_figheight(10)\n",
    "fig.set_figwidth(20)\n",
    "\n",
    "ratio = (((axis_info['z_idx'][z_idx_range - 1] - axis_info['z_idx'][0]) /z_idx_range) /\n",
    "         ((axis_info['y_idx'][-1] - axis_info['y_idx'][0]) / number_y))\n",
    "\n",
    "field_fix = np.roll(np.fft.ifftshift(np.fft.ifft(result_2d_var['x_field_2d'], axis=0), axes=0),\n",
    "                   shift=0, axis=0)\n",
    "\n",
    "im = axes.matshow(2 * np.abs(field_fix)[200:600,:],\n",
    "                  cmap='jet',\n",
    "                  norm=LogNorm(vmin=1e0, vmax=3e4),\n",
    "                  aspect=4)\n",
    "\n",
    "#axes.set_title(\"Time response for R0H\")\n",
    "axes.set_yticks(yticks)\n",
    "axes.set_yticklabels(yposition)\n",
    "axes.set_xticks(xticks)\n",
    "axes.set_xticklabels(xposition)\n",
    "\n",
    "axes.set_ylabel(\"Propagation direction (um)\")\n",
    "axes.set_xlabel(\"Transversal direction (um)\")\n",
    "fig.colorbar(im, ax=axes )#, format='$%.2f$')\n",
    "# Show the canvas\n",
    "\n",
    "plt.show()"
   ]
  },
  {
   "cell_type": "code",
   "execution_count": 7,
   "metadata": {},
   "outputs": [],
   "source": [
    "from pylab import figure, cm\n",
    "from matplotlib.colors import LogNorm\n",
    "\n",
    "yposition = np.arange(-200, 201, 25)\n",
    "yticks = yposition / (axis_info['y_idx'][1] - axis_info['y_idx'][0]) + 200\n",
    "\n",
    "xposition = np.arange(0, 125, 25)\n",
    "xticks = xposition / (axis_info['z_idx'][1] - axis_info['z_idx'][0])\n",
    "\n",
    "# Set up the canvas\n",
    "fig, axes = plt.subplots(nrows=1, ncols=1)\n",
    "\n",
    "fig.set_figheight(10)\n",
    "fig.set_figwidth(20)\n",
    "\n",
    "ratio = (((axis_info['z_idx'][z_idx_range - 1] - axis_info['z_idx'][0]) /z_idx_range) /\n",
    "         ((axis_info['y_idx'][-1] - axis_info['y_idx'][0]) / number_y))\n",
    "\n",
    "field_fix = np.roll(np.fft.ifftshift(np.fft.ifft(result_2d_var['x_field_2d'], axis=0), axes=0),\n",
    "                   shift=0, axis=0)\n",
    "\n",
    "im = axes.matshow(np.square(np.abs(field_fix)[200:600,:]),\n",
    "                  cmap='jet',\n",
    "                  norm=LogNorm(vmin=1e0, vmax=1e8),\n",
    "                  aspect=4)\n",
    "\n",
    "#axes.set_title(\"Time response for R0H\")\n",
    "axes.set_yticks(yticks)\n",
    "axes.set_yticklabels(yposition)\n",
    "axes.set_xticks(xticks)\n",
    "axes.set_xticklabels(xposition)\n",
    "\n",
    "axes.set_ylabel(\"Transversal direction (um)\")\n",
    "axes.set_xlabel(\"Propagation direction (um)\")\n",
    "fig.colorbar(im, ax=axes )#, format='$%.2f$')\n",
    "# Show the canvas\n",
    "#plt.axis('off')\n",
    "\n",
    "#fig.savefig('C:/Users/haoyuan/Desktop/sigma_5um.png', bbox_inches='tight', pad_inches=0, dpi=600)\n",
    "\n",
    "fig.savefig('C:/Users/haoyuan/Desktop/sigma_{}um.png'.format(crystal_thickness),\n",
    "            bbox_inches='tight', pad_inches=0, dpi=600)\n",
    "plt.close()"
   ]
  },
  {
   "cell_type": "code",
   "execution_count": null,
   "metadata": {},
   "outputs": [],
   "source": []
  }
 ],
 "metadata": {
  "kernelspec": {
   "display_name": "Python 3",
   "language": "python",
   "name": "python3"
  },
  "language_info": {
   "codemirror_mode": {
    "name": "ipython",
    "version": 3
   },
   "file_extension": ".py",
   "mimetype": "text/x-python",
   "name": "python",
   "nbconvert_exporter": "python",
   "pygments_lexer": "ipython3",
   "version": "3.6.9"
  }
 },
 "nbformat": 4,
 "nbformat_minor": 2
}
