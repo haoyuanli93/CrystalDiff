{
 "cells": [
  {
   "cell_type": "code",
   "execution_count": 1,
   "metadata": {
    "scrolled": false
   },
   "outputs": [],
   "source": [
    "import numpy as np\n",
    "import sys\n",
    "import time\n",
    "import h5py as h5\n",
    "import matplotlib.pyplot as plt\n",
    "from scipy.spatial.transform import Rotation\n",
    "\n",
    "sys.path.append(r\"C:\\Users\\haoyuan\\Documents\\GitHub\\CrystalDiff\")\n",
    "\n",
    "from CrystalDiff import util, pulse, lclsutil, crystal, lightpath , groutine"
   ]
  },
  {
   "cell_type": "markdown",
   "metadata": {},
   "source": [
    "# Get the Crystal Geometries"
   ]
  },
  {
   "cell_type": "code",
   "execution_count": 2,
   "metadata": {},
   "outputs": [],
   "source": [
    "# ----------------------------------------------------------------------------------------------------------\n",
    "#                       Step 1: Pulse\n",
    "# ----------------------------------------------------------------------------------------------------------\n",
    "energy_center = 10.\n",
    "pre_length = 1e6\n",
    "\n",
    "# Set up the pulse\n",
    "my_pulse = pulse.GaussianPulse3D()\n",
    "my_pulse.set_pulse_properties(central_energy=energy_center,\n",
    "                              polar=[0., 1., 0.],\n",
    "                              sigma_x=708.2581446128465,\n",
    "                              sigma_y=708.2581446128465,\n",
    "                              sigma_z=2.,\n",
    "                              x0=np.array([0., 0., -pre_length]))\n",
    "\n",
    "# ----------------------------------------------------------------------------------------------------------\n",
    "#                       Step 2: Split\n",
    "# ----------------------------------------------------------------------------------------------------------\n",
    "dtheta = np.arctan(1.5 * 1e-3 / 5.)  # This is the deviation angle.\n",
    "half_period = util.get_grating_period(dtheta=dtheta,\n",
    "                                      klen_in=my_pulse.klen0) / 2\n",
    " \n",
    "grating_list = [crystal.RectangleGrating(), crystal.RectangleGrating()]\n",
    "grating_list[0].set_a(half_period)\n",
    "grating_list[0].set_b(half_period)\n",
    "grating_list[1].set_a(half_period)\n",
    "grating_list[1].set_b(half_period)\n",
    "\n",
    "# ----------------------------------------------------------------------------------------------------------\n",
    "#                       Step 3: Delay Lines\n",
    "# ----------------------------------------------------------------------------------------------------------\n",
    "# Some meta data for the delay line.\n",
    "h_length = 2. * np.pi / (1.9201 * 1e-4)\n",
    "\n",
    "# Some crystal properties\n",
    "chi0 = complex(-0.97631E-05, 0.14871E-06)\n",
    "chih_sigma = complex(0.59310E-05, -0.14320E-06)\n",
    "chihbar_sigma = complex(0.59310E-05, -0.14320E-06)\n",
    "chih_pi = complex(0.46945E-05, -0.11201E-06)\n",
    "chihbar_pi = complex(0.46945E-05, -0.11201E-06)\n",
    "\n",
    "# ~~~~~~~~~~~~~~~~~~~~~~~~~~~~~~~~~~~~~~~~~~~~~~~~~~~~~~~~~~~~~~~~~~~~~~~\n",
    "#                       Crystal for branch  1\n",
    "# ~~~~~~~~~~~~~~~~~~~~~~~~~~~~~~~~~~~~~~~~~~~~~~~~~~~~~~~~~~~~~~~~~~~~~~~\n",
    "# Set up the angles\n",
    "angle_offset_1 = dtheta\n",
    "\n",
    "# Bragg angle\n",
    "bragg = np.radians(18.836) + 10e-6\n",
    "\n",
    "d1 = 0.\n",
    "d2 = 15.5e-6\n",
    "d3 = 15.5e-6\n",
    "d4 = 0.\n",
    "\n",
    "# Get crystal angles\n",
    "eta_b1 = np.zeros(8, dtype=np.float64)\n",
    "theta_b1 = np.array([3 * np.pi / 2. - bragg,\n",
    "                     np.pi / 2. - bragg,\n",
    "                     np.pi / 2. + bragg + d2,\n",
    "                     3 * np.pi / 2. + bragg + d2,\n",
    "                     np.pi / 2. + bragg + d3,\n",
    "                     3 * np.pi / 2. + bragg + d3,\n",
    "                     3 * np.pi / 2. - bragg + d4,\n",
    "                     np.pi / 2. - bragg + d4])\n",
    "\n",
    "rho_b1 = theta_b1 + np.pi\n",
    "\n",
    "asy_angle = np.deg2rad(5)\n",
    "rho_b1[1] += asy_angle\n",
    "rho_b1[2] -= asy_angle\n",
    "rho_b1[5] -= asy_angle\n",
    "rho_b1[6] += asy_angle\n",
    "\n",
    "tau_b1 = np.zeros(8)\n",
    "\n",
    "\n",
    "# Add the effect of the global rotation due to the grating momentum transfer\n",
    "theta_b1 += angle_offset_1\n",
    "rho_b1 += angle_offset_1\n",
    "\n",
    "# Initialize the crystals\n",
    "crystal_list_1 = lclsutil.get_crystal_list(num=8,\n",
    "                                           hlen=np.array([h_length, ] * 8),\n",
    "                                           theta=theta_b1,\n",
    "                                           eta=eta_b1,\n",
    "                                           rho=rho_b1,\n",
    "                                           tau=tau_b1,\n",
    "                                           chi0=chi0,\n",
    "                                           chih_sigma=chih_sigma,\n",
    "                                           chihbar_sigma=chihbar_sigma,\n",
    "                                           chih_pi=chih_pi,\n",
    "                                           chihbar_pi=chihbar_pi)\n",
    "\n",
    "# ~~~~~~~~~~~~~~~~~~~~~~~~~~~~~~~~~~~~~~~~~~~~~~~~~~~~~~~~~~~~~~~~~~~~~~~\n",
    "#                       Crystal for branch  2\n",
    "# ~~~~~~~~~~~~~~~~~~~~~~~~~~~~~~~~~~~~~~~~~~~~~~~~~~~~~~~~~~~~~~~~~~~~~~~\n",
    "# Set up the angles\n",
    "angle_offset_2 = - dtheta\n",
    "bragg = np.radians(18.836) + 13e-6\n",
    "\n",
    "# Get crystal angles\n",
    "eta_b2 = np.zeros(4, dtype=np.float64)\n",
    "theta_b2 = np.array([3 * np.pi / 2. - bragg,\n",
    "                     np.pi / 2. - bragg,\n",
    "                     np.pi / 2. + bragg,\n",
    "                     3 * np.pi / 2. + bragg])\n",
    "rho_b2 = theta_b2 + np.pi\n",
    "tau_b2 = np.zeros(4, dtype=np.float64)\n",
    "\n",
    "# Add the effect of the global rotation due to the grating momentum transfer\n",
    "theta_b2 += angle_offset_2\n",
    "rho_b2 += angle_offset_2\n",
    "\n",
    "# Initialize the crystals\n",
    "crystal_list_2 = lclsutil.get_crystal_list(num=4,\n",
    "                                           hlen=np.array([h_length, ] * 4),\n",
    "                                           theta=theta_b2,\n",
    "                                           eta=eta_b2,\n",
    "                                           rho=rho_b2,\n",
    "                                           tau=tau_b2,\n",
    "                                           chi0=chi0,\n",
    "                                           chih_sigma=chih_sigma,\n",
    "                                           chihbar_sigma=chihbar_sigma,\n",
    "                                           chih_pi=chih_pi,\n",
    "                                           chihbar_pi=chihbar_pi)\n",
    "\n",
    "# ------------------------------------------------------\n",
    "#   Define the positions\n",
    "# ------------------------------------------------------\n",
    "path_list_fix = [5e6 - 1e5, 1.1e5, 6.5e5, 1.15e5, 6e6, 1e6]\n",
    "path_list_var = [5e6, 1e4, 5e4, 1e4, 20e4, 10e4, 10e4, 10.5e4, 6e6, 1e6]\n",
    "delay_time = 0"
   ]
  },
  {
   "cell_type": "markdown",
   "metadata": {},
   "source": [
    "# Arrange the crystals"
   ]
  },
  {
   "cell_type": "code",
   "execution_count": 3,
   "metadata": {},
   "outputs": [],
   "source": [
    "# ---------------------------------------------------------------------------\n",
    "#                  Adjust the position of the crystals\n",
    "# ---------------------------------------------------------------------------\n",
    "\n",
    "(fix_branch_path,\n",
    " kout_fixed,\n",
    " intersect_fixed,\n",
    " var_branch_path,\n",
    " kout_var,\n",
    " intersect_var) = lightpath.adjust_path_length(delay_time=delay_time,\n",
    "                                               fix_branch_path=path_list_fix,\n",
    "                                               fix_branch_crystal=crystal_list_2,\n",
    "                                               var_branch_path=path_list_var,\n",
    "                                               var_branch_crystal=crystal_list_1,\n",
    "                                               grating_pair=grating_list,\n",
    "                                               kin=my_pulse.k0)\n",
    "\n",
    "# -----------------------------------------------------------------------------\n",
    "#                 Update the crystals\n",
    "# -----------------------------------------------------------------------------\n",
    "crystal_list_1 = lclsutil.update_crystal_list(crystal_list_1,\n",
    "                                              surface_points=np.copy(intersect_var[1:-2]))\n",
    "crystal_list_2 = lclsutil.update_crystal_list(crystal_list_2,\n",
    "                                              surface_points=np.copy(intersect_fixed[1:-2]))\n",
    "grating_list[0].set_surface_point(np.copy(intersect_fixed[0]))\n",
    "grating_list[1].set_surface_point(np.copy(intersect_fixed[-2]))"
   ]
  },
  {
   "cell_type": "markdown",
   "metadata": {},
   "source": [
    "# Rotate the Crystals"
   ]
  },
  {
   "cell_type": "code",
   "execution_count": 4,
   "metadata": {},
   "outputs": [
    {
     "name": "stdout",
     "output_type": "stream",
     "text": [
      "The total propagation length is 6.06m.\n"
     ]
    }
   ],
   "source": [
    "# ~~~~~~~~~~~~~~~~~~~~~~~~~~~~~~~~~~~~~~~~~~~~~~~~~~~~~~~~~~~~~~~~~~~~~~~\n",
    "# Get the observation point\n",
    "# ~~~~~~~~~~~~~~~~~~~~~~~~~~~~~~~~~~~~~~~~~~~~~~~~~~~~~~~~~~~~~~~~~~~~~~~\n",
    "observation = np.copy(intersect_var[-8]) \n",
    "total_path = pre_length + np.sum(var_branch_path[:-7])\n",
    "\n",
    "print(\"The total propagation length is {:.2f}m.\".format(total_path / 1e6))\n",
    "\n",
    "# ~~~~~~~~~~~~~~~~~~~~~~~~~~~~~~~~~~~~~~~~~~~~~~~~~~~~~~~~~~~~~~~~~~~~~~~\n",
    "#                  Change frame\n",
    "# ~~~~~~~~~~~~~~~~~~~~~~~~~~~~~~~~~~~~~~~~~~~~~~~~~~~~~~~~~~~~~~~~~~~~~~~\n",
    "# find the rotation matrix to find the proper frame\n",
    "tmp = np.arctan(kout_var[-8, 1] / kout_var[-8, 2])\n",
    "rot_tmp = Rotation.from_euler('x', tmp)\n",
    "\n",
    "(my_pulse,\n",
    " observation,\n",
    " [crystal_list_1, \n",
    "  crystal_list_2,\n",
    "  grating_list]\n",
    ") = lclsutil.get_intermediate_frame(displacement=-np.copy(intersect_var[-8]),\n",
    "                                    rotation= rot_tmp.as_dcm(),\n",
    "                                    observe=observation,\n",
    "                                    pulse=my_pulse,\n",
    "                                    crystal_lists = [crystal_list_1, \n",
    "                                                     crystal_list_2,\n",
    "                                                     grating_list])\n",
    "\n",
    "# ~~~~~~~~~~~~~~~~~~~~~~~~~~~~~~~~~~~~~~~~~~~~~~~~~~~~~~~~~~~~~~~~~~~~~~~\n",
    "#                  Get the momentum mesh\n",
    "# ~~~~~~~~~~~~~~~~~~~~~~~~~~~~~~~~~~~~~~~~~~~~~~~~~~~~~~~~~~~~~~~~~~~~~~~\n",
    "number_x = 2\n",
    "number_y = 250\n",
    "number_z = 10 ** 5\n",
    "kx_grid, ky_grid, kz_grid, axis_info = util.get_k_mesh_3d(number_x=number_x,\n",
    "                                                          number_y=number_y,\n",
    "                                                          number_z=number_z,\n",
    "                                                          delta_e_x=1e-50,\n",
    "                                                          delta_e_y=4e-4,\n",
    "                                                          delta_e_z=2e-4 / util.c)\n",
    "kz_grid += my_pulse.klen0\n",
    "\n",
    "# Apply fft shift\n",
    "# kx_grid = np.ascontiguousarray(np.fft.fftshift(kx_grid))\n",
    "kx_grid = np.zeros(1, np.float64)\n",
    "number_x = 1\n",
    "ky_grid = np.ascontiguousarray(np.fft.fftshift(ky_grid))\n",
    "kz_grid = np.ascontiguousarray(np.fft.fftshift(kz_grid))"
   ]
  },
  {
   "cell_type": "code",
   "execution_count": 5,
   "metadata": {
    "scrolled": true
   },
   "outputs": [
    {
     "data": {
      "image/png": "[encoded data removed]",
      "text/plain": [
       "<Figure size 720x360 with 1 Axes>"
      ]
     },
     "metadata": {
      "needs_background": "light"
     },
     "output_type": "display_data"
    }
   ],
   "source": [
    "fig, axes = plt.subplots(nrows=1, ncols=1, figsize=(10, 5))\n",
    "\n",
    "axes.plot(intersect_var[:,2]/1e4, intersect_var[:,1]/1e4,'ro-')\n",
    "axes.plot(intersect_fixed[:,2]/1e4, intersect_fixed[:,1]/1e4,'b*-')\n",
    "\n",
    "axes.plot([0, 1300], [0,0])\n",
    "axes.set_xlim([intersect_fixed[-2,2]/1e4 - 10, intersect_fixed[-2,2]/1e4 + 10])\n",
    "axes.set_ylim([-0.01, 0.01])\n",
    "#axes.set_aspect('equal', 'datalim')\n",
    "\n",
    "plt.show()"
   ]
  },
  {
   "cell_type": "code",
   "execution_count": 6,
   "metadata": {},
   "outputs": [
    {
     "name": "stdout",
     "output_type": "stream",
     "text": [
      "It takes 0.05 seconds to prepare the variables.\n",
      "It takes 7.78 seconds to get the field for branch 1.\n"
     ]
    }
   ],
   "source": [
    "# Set the range of the index to save\n",
    "z_idx_range = 600\n",
    "num1 = 550\n",
    "num2 = 50\n",
    "d_num = 512\n",
    "\n",
    "crystal_list = list(range(3))\n",
    "crystal_list[0] = grating_list[0]\n",
    "crystal_list[1:] = crystal_list_1[:-6]\n",
    "\n",
    "# -------------------------------------------------------------\n",
    "#            Get Field for variable branch\n",
    "# -------------------------------------------------------------\n",
    "tic = time.time()\n",
    "\n",
    "(result_3d_var,\n",
    " result_2d_var,\n",
    " check_var\n",
    ") = groutine.get_diffraction_field(crystal_list = crystal_list,\n",
    "                                 total_path = total_path, \n",
    "                                 observation = observation,\n",
    "                                 my_pulse = my_pulse,\n",
    "                                 kx_grid = kx_grid,\n",
    "                                 ky_grid = ky_grid,\n",
    "                                 kz_grid = kz_grid,\n",
    "                                 pulse_delay_time = 0.,\n",
    "                                 pulse_k0_final = np.array([0.,0.,my_pulse.klen0]),\n",
    "                                 grating_orders = [1.,],\n",
    "                                 number_x = number_x,\n",
    "                                 number_y = number_y,\n",
    "                                 number_z = number_z,\n",
    "                                 z_idx_range = z_idx_range,\n",
    "                                   idx_start_1=number_z - num1,\n",
    "                                   idx_start_2=0,\n",
    "                                 num1 = num1,\n",
    "                                 num2 = num2, \n",
    "                                 d_num = 512)\n",
    "\n",
    "toc = time.time()\n",
    "print(\"It takes {:.2f} seconds to get the field for branch 1.\".format(toc - tic))"
   ]
  },
  {
   "cell_type": "code",
   "execution_count": 7,
   "metadata": {},
   "outputs": [
    {
     "data": {
      "image/png": "[encoded data removed]",
      "text/plain": [
       "<Figure size 1008x360 with 2 Axes>"
      ]
     },
     "metadata": {
      "needs_background": "light"
     },
     "output_type": "display_data"
    }
   ],
   "source": [
    "# Set up the canvas\n",
    "fig, axes = plt.subplots(nrows=1, ncols=1)\n",
    "fig.set_figheight(5)\n",
    "fig.set_figwidth(14)\n",
    "\n",
    "ratio = (((axis_info['z_idx'][z_idx_range - 1] - axis_info['z_idx'][0]) /z_idx_range) /\n",
    "         ((axis_info['y_idx'][-1] - axis_info['y_idx'][0]) / number_y))\n",
    "\n",
    "field_var = np.roll(np.fft.ifftshift(np.fft.ifft(result_2d_var['y_field_2d'], axis=0), axes=0),\n",
    "                   shift=-70, axis=0)\n",
    "\n",
    "field_var = result_2d_var['y_field_2d']\n",
    "\n",
    "im = axes.imshow(np.log(np.abs( field_var ) + 1),\n",
    "                 #vmin=  4,\n",
    "                 #vmax = 12.,\n",
    "                 cmap='jet', \n",
    "                 origin='lower',\n",
    "                 #aspect = 1/util.c,\n",
    "                 )\n",
    "\n",
    "axes.set_title(\"Time response for R0H\")\n",
    "axes.set_yticks(np.arange(0, number_y, step=50))\n",
    "axes.set_yticklabels(axis_info[\"y_idx_tick\"][::50], fontsize=12)\n",
    "axes.set_xticks(np.arange(0, z_idx_range, step=50))\n",
    "axes.set_xticklabels(axis_info[\"z_idx_tick\"][number_z//2 - z_idx_range//2:\n",
    "                                              number_z//2 + z_idx_range//2:50], fontsize=12)\n",
    "\n",
    "axes.set_ylabel(\"Propagation direction (um)\")\n",
    "axes.set_xlabel(\"Transversal direction (fs)\")\n",
    "fig.colorbar(im, ax=axes)\n",
    "# Show the canvas\n",
    "\n",
    "plt.show()"
   ]
  },
  {
   "cell_type": "code",
   "execution_count": null,
   "metadata": {},
   "outputs": [],
   "source": []
  }
 ],
 "metadata": {
  "kernelspec": {
   "display_name": "Python 3",
   "language": "python",
   "name": "python3"
  },
  "language_info": {
   "codemirror_mode": {
    "name": "ipython",
    "version": 3
   },
   "file_extension": ".py",
   "mimetype": "text/x-python",
   "name": "python",
   "nbconvert_exporter": "python",
   "pygments_lexer": "ipython3",
   "version": "3.6.9"
  }
 },
 "nbformat": 4,
 "nbformat_minor": 2
}
