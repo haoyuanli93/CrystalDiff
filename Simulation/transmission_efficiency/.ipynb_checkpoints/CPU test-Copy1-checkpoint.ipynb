{
 "cells": [
  {
   "cell_type": "code",
   "execution_count": 1,
   "metadata": {
    "scrolled": false
   },
   "outputs": [],
   "source": [
    "import numpy as np\n",
    "import sys\n",
    "import time\n",
    "import h5py as h5\n",
    "import matplotlib.pyplot as plt\n",
    "\n",
    "sys.path.append(r\"C:\\Users\\haoyuan\\Documents\\GitHub\\CrystalDiff\")\n",
    "\n",
    "from CrystalDiff import util, pulse, lclsutil, crystal, lightpath"
   ]
  },
  {
   "cell_type": "markdown",
   "metadata": {},
   "source": [
    "# Get the Crystal Geometries"
   ]
  },
  {
   "cell_type": "code",
   "execution_count": 2,
   "metadata": {},
   "outputs": [],
   "source": [
    "# ----------------------------------------------------------------------------------------------------------\n",
    "#                       Step 1: Pulse\n",
    "# ----------------------------------------------------------------------------------------------------------\n",
    "energy_center = 10.\n",
    "pre_length = 1e6\n",
    "\n",
    "# Set up the pulse\n",
    "my_pulse = pulse.GaussianPulse3D()\n",
    "my_pulse.set_pulse_properties(central_energy=energy_center,\n",
    "                              polar=[0., 1., 0.],\n",
    "                              sigma_x=708.2581446128465,\n",
    "                              sigma_y=708.2581446128465,\n",
    "                              sigma_z=20.,\n",
    "                              x0=np.array([0., 0., -pre_length]))\n",
    "\n",
    "# ----------------------------------------------------------------------------------------------------------\n",
    "#                       Step 3: Delay Lines\n",
    "# ----------------------------------------------------------------------------------------------------------\n",
    "# Some meta data for the delay line.\n",
    "h_length = 2. * np.pi / (1.9201 * 1e-4)\n",
    "\n",
    "# Some crystal properties\n",
    "chi0 = complex(-0.97631E-05, 0.14871E-06)\n",
    "chih_sigma = complex(0.59310E-05, -0.14320E-06)\n",
    "chihbar_sigma = complex(0.59310E-05, -0.14320E-06)\n",
    "chih_pi = complex(0.46945E-05, -0.11201E-06)\n",
    "chihbar_pi = complex(0.46945E-05, -0.11201E-06)\n",
    "\n",
    "# ~~~~~~~~~~~~~~~~~~~~~~~~~~~~~~~~~~~~~~~~~~~~~~~~~~~~~~~~~~~~~~~~~~~~~~~\n",
    "#                       Crystal for branch  1\n",
    "# ~~~~~~~~~~~~~~~~~~~~~~~~~~~~~~~~~~~~~~~~~~~~~~~~~~~~~~~~~~~~~~~~~~~~~~~\n",
    "# Bragg angle\n",
    "bragg = np.radians(18.836) + 10e-6\n",
    "\n",
    "d1 = 0.\n",
    "d2 = 1.5138147339870229e-05\n",
    "d3 = 0.\n",
    "d4 = 0.\n",
    "\n",
    "# Get crystal angles\n",
    "eta_b1 = np.zeros(8, dtype=np.float64)\n",
    "theta_b1 = np.array([3 * np.pi / 2. - bragg,\n",
    "                     np.pi / 2. - bragg,\n",
    "                     np.pi / 2. + bragg + d2,\n",
    "                     3 * np.pi / 2. + bragg + d2,\n",
    "                     np.pi / 2. + bragg + d3,\n",
    "                     3 * np.pi / 2. + bragg + d3,\n",
    "                     3 * np.pi / 2. - bragg + d4,\n",
    "                     np.pi / 2. - bragg + d4])\n",
    "\n",
    "rho_b1 = theta_b1 + np.pi\n",
    "\n",
    "asy_angle = np.deg2rad(5)\n",
    "rho_b1[1] += asy_angle\n",
    "rho_b1[2] -= asy_angle\n",
    "rho_b1[5] -= asy_angle\n",
    "rho_b1[6] += asy_angle\n",
    "\n",
    "tau_b1 = np.zeros(8)\n",
    "\n",
    "# Initialize the crystals\n",
    "crystal_list_1 = lclsutil.get_crystal_list(num=8,\n",
    "                                           hlen=np.array([h_length, ] * 8),\n",
    "                                           theta=theta_b1,\n",
    "                                           eta=eta_b1,\n",
    "                                           rho=rho_b1,\n",
    "                                           tau=tau_b1,\n",
    "                                           chi0=chi0,\n",
    "                                           chih_sigma=chih_sigma,\n",
    "                                           chihbar_sigma=chihbar_sigma,\n",
    "                                           chih_pi=chih_pi,\n",
    "                                           chihbar_pi=chihbar_pi)\n",
    "\n",
    "# -------------------------------------------------------\n",
    "#        Get a k mesh for the rocking curve\n",
    "# -------------------------------------------------------\n",
    "num = 5* 10 ** 4\n",
    "angle = np.linspace(-1e-4, 1e-4, num)\n",
    "kin_grid = np.zeros((num, 3))\n",
    "kin_grid[:,1] = np.sin(angle) * my_pulse.klen0\n",
    "kin_grid[:,2] = np.cos(angle) * my_pulse.klen0"
   ]
  },
  {
   "cell_type": "markdown",
   "metadata": {},
   "source": [
    "# Arrange the crystals"
   ]
  },
  {
   "cell_type": "code",
   "execution_count": 3,
   "metadata": {},
   "outputs": [],
   "source": [
    "# First reflection\n",
    "(reflect_s_1,\n",
    " reflect_p_1,\n",
    " b_1,\n",
    " kout_grid_1)= util.get_bragg_reflection_array(kin_grid = kin_grid,\n",
    "                                        d=crystal_list_1[0].d,\n",
    "                                        h=crystal_list_1[0].h,\n",
    "                                        n=crystal_list_1[0].normal,\n",
    "                                        chi0=crystal_list_1[0].chi0,\n",
    "                                        chih_sigma=crystal_list_1[0].chih_sigma,\n",
    "                                        chihbar_sigma=crystal_list_1[0].chihbar_sigma,\n",
    "                                        chih_pi=crystal_list_1[0].chih_pi,\n",
    "                                        chihbar_pi=crystal_list_1[0].chihbar_pi)\n",
    "# First reflection\n",
    "(reflect_s_2,\n",
    " reflect_p_2,\n",
    " b_2,\n",
    " kout_grid_2)= util.get_bragg_reflection_array(kin_grid = kout_grid_1,\n",
    "                                        d=crystal_list_1[1].d,\n",
    "                                        h=crystal_list_1[1].h,\n",
    "                                        n=crystal_list_1[1].normal,\n",
    "                                        chi0=crystal_list_1[1].chi0,\n",
    "                                        chih_sigma=crystal_list_1[1].chih_sigma,\n",
    "                                        chihbar_sigma=crystal_list_1[1].chihbar_sigma,\n",
    "                                        chih_pi=crystal_list_1[1].chih_pi,\n",
    "                                        chihbar_pi=crystal_list_1[1].chihbar_pi)"
   ]
  },
  {
   "cell_type": "code",
   "execution_count": 4,
   "metadata": {},
   "outputs": [
    {
     "data": {
      "image/png": "[encoded data removed]",
      "text/plain": [
       "<Figure size 720x360 with 1 Axes>"
      ]
     },
     "metadata": {
      "needs_background": "light"
     },
     "output_type": "display_data"
    }
   ],
   "source": [
    "plt.figure(figsize=(10,5))\n",
    "\n",
    "reflect_p = np.square(np.abs(reflect_p_1 * reflect_p_2)) / np.abs(b_1 * b_2)\n",
    "reflect_s = np.square(np.abs(reflect_s_1 * reflect_s_2)) / np.abs(b_1 * b_2)\n",
    "\n",
    "plt.plot(angle, reflect_p)\n",
    "plt.plot(angle, reflect_s)\n",
    "\n",
    "plt.title(\"{}, {}, {}\".format(reflect_p[num//2], np.argmax(reflect_p), angle[np.argmax(reflect_p)]))\n",
    "\n",
    "plt.show()"
   ]
  },
  {
   "cell_type": "code",
   "execution_count": 5,
   "metadata": {},
   "outputs": [],
   "source": [
    "# First reflection\n",
    "(reflect_s_3,\n",
    " reflect_p_3,\n",
    " b_3,\n",
    " kout_grid_3)= util.get_bragg_reflection_array(kin_grid = kin_grid,\n",
    "                                        d=crystal_list_1[2].d,\n",
    "                                        h=crystal_list_1[2].h,\n",
    "                                        n=crystal_list_1[2].normal,\n",
    "                                        chi0=crystal_list_1[2].chi0,\n",
    "                                        chih_sigma=crystal_list_1[2].chih_sigma,\n",
    "                                        chihbar_sigma=crystal_list_1[2].chihbar_sigma,\n",
    "                                        chih_pi=crystal_list_1[2].chih_pi,\n",
    "                                        chihbar_pi=crystal_list_1[2].chihbar_pi)\n",
    "# First reflection\n",
    "(reflect_s_4,\n",
    " reflect_p_4,\n",
    " b_4,\n",
    " kout_grid_4)= util.get_bragg_reflection_array(kin_grid = kout_grid_3,\n",
    "                                        d=crystal_list_1[3].d,\n",
    "                                        h=crystal_list_1[3].h,\n",
    "                                        n=crystal_list_1[3].normal,\n",
    "                                        chi0=crystal_list_1[3].chi0,\n",
    "                                        chih_sigma=crystal_list_1[3].chih_sigma,\n",
    "                                        chihbar_sigma=crystal_list_1[3].chihbar_sigma,\n",
    "                                        chih_pi=crystal_list_1[3].chih_pi,\n",
    "                                        chihbar_pi=crystal_list_1[3].chihbar_pi)"
   ]
  },
  {
   "cell_type": "code",
   "execution_count": 6,
   "metadata": {},
   "outputs": [
    {
     "data": {
      "image/png": "[encoded data removed]",
      "text/plain": [
       "<Figure size 720x360 with 1 Axes>"
      ]
     },
     "metadata": {
      "needs_background": "light"
     },
     "output_type": "display_data"
    }
   ],
   "source": [
    "plt.figure(figsize=(10,5))\n",
    "\n",
    "reflect_p = np.square(np.abs(reflect_p_3 * reflect_p_4)) / np.abs(b_3 * b_4)\n",
    "reflect_s = np.square(np.abs(reflect_s_3 * reflect_s_4)) / np.abs(b_3 * b_4)\n",
    "\n",
    "plt.plot(angle, reflect_p)\n",
    "plt.plot(angle, reflect_s)\n",
    "\n",
    "plt.title(\"{}, {}, {}\".format(reflect_p[num//2], np.argmax(reflect_p), angle[np.argmax(reflect_p)]))\n",
    "\n",
    "plt.show()"
   ]
  },
  {
   "cell_type": "markdown",
   "metadata": {},
   "source": [
    "# Get the rotation angle of the second crystal"
   ]
  },
  {
   "cell_type": "code",
   "execution_count": 7,
   "metadata": {},
   "outputs": [],
   "source": [
    "# deviation from the first crystal\n",
    "dev = np.arctan(kout_grid_2[24912, 1] / kout_grid_2[24912, 2])"
   ]
  },
  {
   "cell_type": "code",
   "execution_count": 8,
   "metadata": {},
   "outputs": [
    {
     "name": "stdout",
     "output_type": "stream",
     "text": [
      "1.5138147339870229e-05\n"
     ]
    }
   ],
   "source": [
    "print(dev - angle[23107])"
   ]
  },
  {
   "cell_type": "code",
   "execution_count": null,
   "metadata": {},
   "outputs": [],
   "source": []
  }
 ],
 "metadata": {
  "kernelspec": {
   "display_name": "Python 3",
   "language": "python",
   "name": "python3"
  },
  "language_info": {
   "codemirror_mode": {
    "name": "ipython",
    "version": 3
   },
   "file_extension": ".py",
   "mimetype": "text/x-python",
   "name": "python",
   "nbconvert_exporter": "python",
   "pygments_lexer": "ipython3",
   "version": "3.6.9"
  }
 },
 "nbformat": 4,
 "nbformat_minor": 2
}
