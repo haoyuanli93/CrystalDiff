{
 "cells": [
  {
   "cell_type": "code",
   "execution_count": 1,
   "metadata": {},
   "outputs": [],
   "source": [
    "import numpy as np\n",
    "import h5py as h5\n",
    "import matplotlib.pyplot as plt\n",
    "import sys\n",
    "sys.path.append(r\"C:\\Users\\hyli93\\Documents\\GitHub\\CrystalDiffraction\")\n",
    "\n",
    "from CrystalDiff import util, crystal, pulse, auxiliary"
   ]
  },
  {
   "cell_type": "code",
   "execution_count": 2,
   "metadata": {},
   "outputs": [],
   "source": [
    "# First construct the original k mesh\n",
    "energy_center = 10.\n",
    "k_len = util.kev_to_wave_number(energy=energy_center)\n",
    "\n",
    "# Get the momentum mesh\n",
    "number_x = 500\n",
    "number_y = 500\n",
    "number_z = 10 ** 5\n",
    "(kx_grid,\n",
    " ky_grid, \n",
    " kz_grid, \n",
    " axis_info) = auxiliary.get_k_mesh_3d(number_x=number_x,\n",
    "                                      number_y=number_y,\n",
    "                                      number_z=number_z,\n",
    "                                      delta_e_x=1e-3,\n",
    "                                      delta_e_y=1e-3,\n",
    "                                      delta_e_z=1e-3/util.c)\n",
    "\n",
    "# 2nd. Use the fact that we have downsampled the real space by a factor of 2.\n",
    "x_ds = axis_info['x_idx'][::2]\n",
    "y_ds = axis_info['y_idx'][::2]\n",
    "z_ds = axis_info['z_idx'][number_z // 2: number_z//2 + 500:2]\n",
    "\n",
    "# 3rd. Construct the corresponding momentum mesh from the position mesh\n",
    "kx_range = np.pi * 2 / (x_ds[1] - x_ds[0])\n",
    "kx_ds = np.linspace( - kx_range/2, kx_range/2, 250)\n",
    "\n",
    "ky_range = np.pi * 2 / (y_ds[1] - y_ds[0])\n",
    "ky_ds = np.linspace( - ky_range/2, ky_range/2, 250)\n",
    "\n",
    "kz_range = np.pi * 2 / (z_ds[1] - z_ds[0])\n",
    "kz_ds = np.linspace( - kz_range/2, kz_range/2, 250)\n",
    "\n",
    "kz_ds += k_len"
   ]
  },
  {
   "cell_type": "markdown",
   "metadata": {},
   "source": [
    "# Load data"
   ]
  },
  {
   "cell_type": "code",
   "execution_count": 10,
   "metadata": {},
   "outputs": [],
   "source": [
    "with h5.File(\"C:/Users/hyli93/Downloads/asymmetric24_part_3_y_field_ds.h5\") as h5file:\n",
    "    data = np.array(h5file['field'])"
   ]
  },
  {
   "cell_type": "markdown",
   "metadata": {},
   "source": [
    "# Get Energy variance and the average momentum"
   ]
  },
  {
   "cell_type": "code",
   "execution_count": 11,
   "metadata": {},
   "outputs": [],
   "source": [
    "spectrum = np.fft.fftshift(np.fft.fftn(np.fft.ifftshift(data)))\n",
    "spectrum = np.square(np.abs(spectrum))\n",
    "\n",
    "# Convert the intensity to probability\n",
    "momentum_distribution = spectrum / np.sum(spectrum) "
   ]
  },
  {
   "cell_type": "code",
   "execution_count": 16,
   "metadata": {},
   "outputs": [
    {
     "name": "stdout",
     "output_type": "stream",
     "text": [
      "The energy variance is 5.8822e-01 eV\n"
     ]
    }
   ],
   "source": [
    "# Get average k\n",
    "momentum_distribution_x = np.sum(momentum_distribution, axis=(1,2))\n",
    "momentum_distribution_y = np.sum(momentum_distribution, axis=(0,2))\n",
    "momentum_distribution_z = np.sum(momentum_distribution, axis=(0,1))\n",
    "\n",
    "mean_kx = np.sum(np.multiply(momentum_distribution_x, kx_ds))\n",
    "mean_ky = np.sum(np.multiply(momentum_distribution_y, ky_ds))\n",
    "mean_kz = np.sum(np.multiply(momentum_distribution_z, kz_ds))\n",
    "\n",
    "mean_kx_square = np.sum(np.multiply(momentum_distribution_x, np.square(kx_ds)))\n",
    "mean_ky_square = np.sum(np.multiply(momentum_distribution_y, np.square(ky_ds)))\n",
    "mean_kz_square = np.sum(np.multiply(momentum_distribution_z, np.square(kz_ds)))\n",
    "\n",
    "mean_k = np.sqrt(mean_kx_square + mean_ky_square + mean_kz_square)\n",
    "\n",
    "var_kx = mean_kx_square - mean_kx ** 2\n",
    "var_ky = mean_ky_square - mean_ky ** 2\n",
    "var_kz = mean_kz_square - mean_kz ** 2\n",
    "\n",
    "var_k = var_kx + var_ky + var_kz\n",
    "\n",
    "delta_energy = util.petahertz_angular_frequency_to_kev(np.sqrt(var_k))\n",
    "print(\"The energy variance is {:.4e} eV\".format(delta_energy * 1e3))"
   ]
  },
  {
   "cell_type": "code",
   "execution_count": 15,
   "metadata": {},
   "outputs": [
    {
     "name": "stdout",
     "output_type": "stream",
     "text": [
      "Delta theta x is 9.3267e-07 rad\n",
      "Delta theta y is 9.3230e-07 rad\n"
     ]
    }
   ],
   "source": [
    "delta_theta_x = 2 * np.arcsin(np.sqrt(var_kx) / mean_k)\n",
    "delta_theta_y = 2 * np.arcsin(np.sqrt(var_ky) / mean_k)\n",
    "\n",
    "print(\"Delta theta x is {:.4e} rad\".format(delta_theta_x))\n",
    "print(\"Delta theta y is {:.4e} rad\".format(delta_theta_y))"
   ]
  },
  {
   "cell_type": "markdown",
   "metadata": {},
   "source": [
    "# Get spectrum"
   ]
  },
  {
   "cell_type": "code",
   "execution_count": 18,
   "metadata": {},
   "outputs": [
    {
     "name": "stdout",
     "output_type": "stream",
     "text": [
      "[[  5.58499349e-04  -7.54875763e-18]\n",
      " [ -7.54875763e-18   5.58054180e-04]]\n",
      "[ 0.0005585   0.00055805]\n",
      "[[  1.00000000e+00   1.69570671e-11]\n",
      " [ -1.69570671e-11   1.00000000e+00]]\n"
     ]
    }
   ],
   "source": [
    "# Get the 2D probability density distribution\n",
    "momentum_distribution_xy = np.sum(momentum_distribution, axis=-1)\n",
    "\n",
    "sigma_mat, eig, eig_vec = util.get_2d_sigma_matrix(density_2d=momentum_distribution_xy,\n",
    "                                                    x_values= kx_ds, \n",
    "                                                    y_values= ky_ds)\n",
    "\n",
    "print(sigma_mat)\n",
    "print(eig)\n",
    "print(eig_vec)"
   ]
  },
  {
   "cell_type": "markdown",
   "metadata": {},
   "source": [
    "# Get position space statistics"
   ]
  },
  {
   "cell_type": "code",
   "execution_count": 19,
   "metadata": {},
   "outputs": [],
   "source": [
    "# Convert the magnitude to the intensity\n",
    "distribution = np.square(np.abs(data))\n",
    "\n",
    "# Convert the intensity to probability\n",
    "distribution /= np.sum(distribution) "
   ]
  },
  {
   "cell_type": "code",
   "execution_count": 20,
   "metadata": {},
   "outputs": [],
   "source": [
    "# Get the 2D probability density distribution\n",
    "distribution_2d = np.sum(distribution, axis=-1)\n",
    "\n",
    "sigma_mat, eig, eig_vec = util.get_2d_sigma_matrix(density_2d=distribution_2d,\n",
    "                                                    x_values= x_ds, \n",
    "                                                    y_values= y_ds)"
   ]
  },
  {
   "cell_type": "code",
   "execution_count": 21,
   "metadata": {},
   "outputs": [
    {
     "name": "stdout",
     "output_type": "stream",
     "text": [
      "[[  4.51230722e+02   2.69631097e-11]\n",
      " [  2.69631097e-11   4.63304833e+02]]\n",
      "[ 451.2307218   463.30483285]\n",
      "[[ -1.00000000e+00  -2.23313415e-12]\n",
      " [  2.23313415e-12  -1.00000000e+00]]\n"
     ]
    }
   ],
   "source": [
    "print(sigma_mat)\n",
    "print(eig)\n",
    "print(eig_vec)"
   ]
  }
 ],
 "metadata": {
  "kernelspec": {
   "display_name": "Python 3",
   "language": "python",
   "name": "python3"
  },
  "language_info": {
   "codemirror_mode": {
    "name": "ipython",
    "version": 3
   },
   "file_extension": ".py",
   "mimetype": "text/x-python",
   "name": "python",
   "nbconvert_exporter": "python",
   "pygments_lexer": "ipython3",
   "version": "3.6.8"
  }
 },
 "nbformat": 4,
 "nbformat_minor": 2
}
