{
 "cells": [
  {
   "cell_type": "code",
   "execution_count": 1,
   "metadata": {
    "scrolled": false
   },
   "outputs": [],
   "source": [
    "import numpy as np\n",
    "from scipy.spatial.transform import Rotation\n",
    "import matplotlib.pyplot as plt"
   ]
  },
  {
   "cell_type": "markdown",
   "metadata": {},
   "source": [
    "# Define functions and physical quantities for the calculation"
   ]
  },
  {
   "cell_type": "code",
   "execution_count": 2,
   "metadata": {},
   "outputs": [],
   "source": [
    "def get_bragg_kout(kin, h, normal, compare_length=False):\n",
    "    \"\"\"\n",
    "    This function produce the output wave vector from a Bragg reflection.\n",
    "\n",
    "    :param kin: (3,) numpy array. The incident wave vector\n",
    "    :param h: The reciprocal lattice of the crystal\n",
    "    :param normal: The normal direction of the reflection surface.\n",
    "                    For a bragg reflection, n is pointing to the inside of the crystal.\n",
    "    :param compare_length: Whether compare the length of the incident wave vector and the output wave vector\n",
    "\n",
    "    :return: kout: (3,) numpy array. The diffraction wave vector.\n",
    "            ratio: When compare_length=True, the second output is the ratio between the incident wave number\n",
    "                                        and the output wave number.\n",
    "    \"\"\"\n",
    "\n",
    "    # kout holder\n",
    "    kout = kin + h\n",
    "\n",
    "    # Incident wave number\n",
    "    klen = np.sqrt(np.dot(kin, kin))\n",
    "\n",
    "    # Get gamma and alpha\n",
    "    gammah = np.dot(kin + h, normal) / klen\n",
    "    alpha = (2 * np.dot(kin, h) + np.dot(h, h)) / np.square(klen)\n",
    "\n",
    "    if np.abs(-gammah - np.sqrt(gammah ** 2 - alpha)) > np.abs(-gammah + np.sqrt(gammah ** 2 - alpha)):\n",
    "        momentum = klen * (-gammah + np.sqrt(gammah ** 2 - alpha))\n",
    "    else:\n",
    "        momentum = klen * (-gammah - np.sqrt(gammah ** 2 - alpha))\n",
    "\n",
    "    # Add momentum transfer\n",
    "    kout += normal * momentum\n",
    "\n",
    "    if compare_length:\n",
    "        return kout, klen / l2_norm(kout)\n",
    "    else:\n",
    "        return kout"
   ]
  },
  {
   "cell_type": "code",
   "execution_count": 3,
   "metadata": {},
   "outputs": [],
   "source": [
    "# Some meta data for the delay line.\n",
    "h_length = 2. * np.pi / (1.9201 * 1e-4)\n",
    "bragg = np.radians(18.836) + 13e-6\n",
    "klen0 = 50677.307588941476  # This is for 10keV photons. The unit is um^-1"
   ]
  },
  {
   "cell_type": "markdown",
   "metadata": {},
   "source": [
    "# Calculate two wave vectors"
   ]
  },
  {
   "cell_type": "code",
   "execution_count": 4,
   "metadata": {},
   "outputs": [],
   "source": [
    "# Get angles\n",
    "delta = 1e-9\n",
    "\n",
    "eta = bragg\n",
    "theta = np.pi / 2\n",
    "phi = np.deg2rad(5.)\n",
    "\n",
    "# Get physics quantities\n",
    "h = np.array([np.cos(theta), np.sin(theta), 0]) * h_length\n",
    "n = np.array([-np.sin(phi), -np.cos(phi), 0])\n",
    "kin = np.array([np.cos(eta), -np.sin(eta), 0,]) * klen0\n",
    "\n",
    "# Get rotation matrix\n",
    "rot_mat = Rotation.from_euler('xyz',[0, 0, delta], degrees=False)\n",
    "mat = rot_mat.as_dcm()\n",
    "\n",
    "# Get wave vectors\n",
    "kout = get_bragg_kout(kin = mat.dot(kin),\n",
    "                      h = h,\n",
    "                      normal = n)\n",
    "\n",
    "kout0 = get_bragg_kout(kin = kin,\n",
    "                       h = h,\n",
    "                       normal = n)"
   ]
  },
  {
   "cell_type": "code",
   "execution_count": 5,
   "metadata": {
    "scrolled": true
   },
   "outputs": [
    {
     "name": "stdout",
     "output_type": "stream",
     "text": [
      "1.5122893017102828\n"
     ]
    }
   ],
   "source": [
    "# Momentum difference\n",
    "print(np.linalg.norm((kout - kout0) - (mat.dot(kin) - kin)) / klen0 / delta)"
   ]
  },
  {
   "cell_type": "markdown",
   "metadata": {},
   "source": [
    "# Calculate the derivative of the kout with respect to the rotation angle\n",
    "# with the analytical expression"
   ]
  },
  {
   "cell_type": "code",
   "execution_count": 6,
   "metadata": {},
   "outputs": [
    {
     "name": "stdout",
     "output_type": "stream",
     "text": [
      "-1.5122892353162665\n"
     ]
    }
   ],
   "source": [
    "t = h_length / klen0\n",
    "\n",
    "gamma_h = np.sin(eta - phi) - t * np.sin(theta + phi)\n",
    "\n",
    "alpha = t ** 2 + 2 * t * np.cos(eta + theta)\n",
    "\n",
    "factor = -np.cos(eta - phi) - 0.5 / np.sqrt(gamma_h ** 2 - alpha) * (2 * gamma_h * np.cos(eta - phi) +\n",
    "                                                                    2 * t * np.sin(eta + theta))\n",
    "\n",
    "print(factor)"
   ]
  },
  {
   "cell_type": "markdown",
   "metadata": {},
   "source": [
    "# Calculate the b value"
   ]
  },
  {
   "cell_type": "code",
   "execution_count": 7,
   "metadata": {},
   "outputs": [
    {
     "name": "stdout",
     "output_type": "stream",
     "text": [
      "The b value is -0.5918184321631672\n"
     ]
    }
   ],
   "source": [
    "gamma_0 = np.dot(kin, n) / klen0\n",
    "\n",
    "b = gamma_0 / gamma_h\n",
    "print(\"The b value is {}\".format(b))"
   ]
  },
  {
   "cell_type": "markdown",
   "metadata": {},
   "source": [
    "# Calculate the b value and the change of the output vector"
   ]
  },
  {
   "cell_type": "code",
   "execution_count": 18,
   "metadata": {},
   "outputs": [],
   "source": [
    "num =100\n",
    "tot_num = 2 * num + 1\n",
    "k_diff = np.zeros((tot_num, 3))\n",
    "b_vals = np.zeros(tot_num)\n",
    "\n",
    "phis = np.deg2rad(np.arange(-num, num + 1) / 10 + 5.)\n",
    "\n",
    "# Loop through all the asymmetry value\n",
    "for x in range(tot_num):\n",
    "\n",
    "    # Get k difference\n",
    "    delta = 1e-9\n",
    "    \n",
    "    eta = bragg\n",
    "    theta = np.pi / 2\n",
    "    phi = phis[x]\n",
    "\n",
    "    # Get physics quantities\n",
    "    h = np.array([np.cos(theta), np.sin(theta), 0]) * h_length\n",
    "    n = np.array([-np.sin(phi), -np.cos(phi), 0])\n",
    "    kin = np.array([np.cos(eta), -np.sin(eta), 0,]) * klen0\n",
    "\n",
    "    # Get rotation matrix\n",
    "    rot_mat = Rotation.from_euler('xyz',[0, 0, delta], degrees=False)\n",
    "    mat = rot_mat.as_dcm()\n",
    "\n",
    "    # Get wave vectors\n",
    "    kout = get_bragg_kout(kin = mat.dot(kin),\n",
    "                          h = h,\n",
    "                          normal = n)\n",
    "    \n",
    "    # Get a standard value\n",
    "    kout0 = get_bragg_kout(kin = kin,\n",
    "                       h = h,\n",
    "                       normal = n)\n",
    "    \n",
    "    k_diff[x] = (kout - kout0) / delta / klen0\n",
    "    \n",
    "    # Get b value\n",
    "    gamma_0 = np.dot(kin, n) / klen0\n",
    "    gamma_h = np.dot(kin + h, n) / klen0\n",
    "    \n",
    "    b_vals[x] = gamma_0 / gamma_h"
   ]
  },
  {
   "cell_type": "code",
   "execution_count": 22,
   "metadata": {},
   "outputs": [
    {
     "data": {
      "image/png": "[encoded data removed]",
      "text/plain": [
       "<Figure size 576x576 with 1 Axes>"
      ]
     },
     "metadata": {
      "needs_background": "light"
     },
     "output_type": "display_data"
    }
   ],
   "source": [
    "tmp = np.copy(k_diff[:,1])\n",
    "#tmp -= tmp.min()\n",
    "#tmp /= tmp.max()\n",
    "\n",
    "plt.figure(figsize=(8,8))\n",
    "plt.plot(phis, tmp,'r', label=\"dk_out/d angle / k_len\")\n",
    "plt.plot(phis, b_vals,'b', label='b=gamma_0 / gamma_h')\n",
    "\n",
    "plt.xlabel(\"Asymmetry angle\")\n",
    "plt.title(\"dk_out/ d theta / k_length   vs  b = gamma_0 / gamma_h\")\n",
    "plt.legend()\n",
    "\n",
    "plt.show()"
   ]
  },
  {
   "cell_type": "code",
   "execution_count": null,
   "metadata": {},
   "outputs": [],
   "source": []
  }
 ],
 "metadata": {
  "kernelspec": {
   "display_name": "Python 3",
   "language": "python",
   "name": "python3"
  },
  "language_info": {
   "codemirror_mode": {
    "name": "ipython",
    "version": 3
   },
   "file_extension": ".py",
   "mimetype": "text/x-python",
   "name": "python",
   "nbconvert_exporter": "python",
   "pygments_lexer": "ipython3",
   "version": "3.6.9"
  }
 },
 "nbformat": 4,
 "nbformat_minor": 2
}
