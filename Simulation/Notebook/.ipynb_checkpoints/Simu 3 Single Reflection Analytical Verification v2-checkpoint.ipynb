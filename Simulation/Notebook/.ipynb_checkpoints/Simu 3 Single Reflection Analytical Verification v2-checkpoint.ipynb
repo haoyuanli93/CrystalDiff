{
 "cells": [
  {
   "cell_type": "code",
   "execution_count": 1,
   "metadata": {
    "scrolled": false
   },
   "outputs": [],
   "source": [
    "import numpy as np\n",
    "from scipy.spatial.transform import Rotation\n"
   ]
  },
  {
   "cell_type": "markdown",
   "metadata": {},
   "source": [
    "# Define functions and physical quantities for the calculation"
   ]
  },
  {
   "cell_type": "code",
   "execution_count": 2,
   "metadata": {},
   "outputs": [],
   "source": [
    "def get_bragg_kout(kin, h, normal, compare_length=False):\n",
    "    \"\"\"\n",
    "    This function produce the output wave vector from a Bragg reflection.\n",
    "\n",
    "    :param kin: (3,) numpy array. The incident wave vector\n",
    "    :param h: The reciprocal lattice of the crystal\n",
    "    :param normal: The normal direction of the reflection surface.\n",
    "                    For a bragg reflection, n is pointing to the inside of the crystal.\n",
    "    :param compare_length: Whether compare the length of the incident wave vector and the output wave vector\n",
    "\n",
    "    :return: kout: (3,) numpy array. The diffraction wave vector.\n",
    "            ratio: When compare_length=True, the second output is the ratio between the incident wave number\n",
    "                                        and the output wave number.\n",
    "    \"\"\"\n",
    "\n",
    "    # kout holder\n",
    "    kout = kin + h\n",
    "\n",
    "    # Incident wave number\n",
    "    klen = np.sqrt(np.dot(kin, kin))\n",
    "\n",
    "    # Get gamma and alpha\n",
    "    gammah = np.dot(kin + h, normal) / klen\n",
    "    alpha = (2 * np.dot(kin, h) + np.dot(h, h)) / np.square(klen)\n",
    "\n",
    "    if np.abs(-gammah - np.sqrt(gammah ** 2 - alpha)) > np.abs(-gammah + np.sqrt(gammah ** 2 - alpha)):\n",
    "        momentum = klen * (-gammah + np.sqrt(gammah ** 2 - alpha))\n",
    "    else:\n",
    "        momentum = klen * (-gammah - np.sqrt(gammah ** 2 - alpha))\n",
    "\n",
    "    # Add momentum transfer\n",
    "    kout += normal * momentum\n",
    "\n",
    "    if compare_length:\n",
    "        return kout, klen / l2_norm(kout)\n",
    "    else:\n",
    "        return kout"
   ]
  },
  {
   "cell_type": "code",
   "execution_count": 3,
   "metadata": {},
   "outputs": [],
   "source": [
    "# Some meta data for the delay line.\n",
    "h_length = 2. * np.pi / (1.9201 * 1e-4)\n",
    "bragg = np.radians(18.836) + 13e-6\n",
    "klen0 = 50677.307588941476  # This is for 10keV photons. The unit is um^-1"
   ]
  },
  {
   "cell_type": "markdown",
   "metadata": {},
   "source": [
    "# Calculate two wave vectors"
   ]
  },
  {
   "cell_type": "code",
   "execution_count": 4,
   "metadata": {},
   "outputs": [],
   "source": [
    "# Get angles\n",
    "phi = 1e-9\n",
    "theta = bragg\n",
    "alpha = np.deg2rad(10)\n",
    "\n",
    "# Get physics quantities\n",
    "h = np.array([h_length, 0, 0])\n",
    "n = np.array([-np.cos(alpha),0,-np.sin(alpha)])\n",
    "kin = np.array([-np.sin(theta), np.cos(theta), 0,]) * klen0\n",
    "\n",
    "# Get rotation matrix\n",
    "rot_mat = Rotation.from_euler('xyz',[0, 0, phi], degrees=False)\n",
    "mat = rot_mat.as_dcm()\n",
    "\n",
    "# Get wave vectors\n",
    "kout = get_bragg_kout(kin = kin,\n",
    "                      h = mat.dot(h),\n",
    "                      normal = mat.dot(n))\n",
    "\n",
    "kout0 = get_bragg_kout(kin = kin,\n",
    "                       h = h,\n",
    "                       normal = n)"
   ]
  },
  {
   "cell_type": "code",
   "execution_count": 5,
   "metadata": {},
   "outputs": [
    {
     "name": "stdout",
     "output_type": "stream",
     "text": [
      "[-9.59260433e-05  3.27246380e-05 -1.69143494e-05]\n"
     ]
    }
   ],
   "source": [
    "# Momentum difference\n",
    "print(kout - kout0)"
   ]
  },
  {
   "cell_type": "markdown",
   "metadata": {},
   "source": [
    "# Calculate the derivative of the kout with respect to the rotation angle\n",
    "# with the analytical expression"
   ]
  },
  {
   "cell_type": "code",
   "execution_count": 6,
   "metadata": {},
   "outputs": [],
   "source": [
    "mis = np.deg2rad(10)\n",
    "\n",
    "ca = np.cos(mis)\n",
    "sa = np.sin(mis)\n",
    "\n",
    "ctheta = np.cos(bragg)\n",
    "stheta = np.sin(bragg)\n",
    "\n",
    "t = h_length / klen0\n",
    "\n",
    "factor1 = ca ** 2 * stheta * ctheta + t * ctheta * sa ** 2\n",
    "factor2 = np.sqrt( ca ** 2 * stheta ** 2 + 2 * t * stheta * sa ** 2 - t ** 2 * sa ** 2 )"
   ]
  },
  {
   "cell_type": "code",
   "execution_count": 7,
   "metadata": {},
   "outputs": [
    {
     "name": "stdout",
     "output_type": "stream",
     "text": [
      "1.9220803848678898\n"
     ]
    }
   ],
   "source": [
    "# Get delta/phi/K_len\n",
    "\n",
    "delta_over_phi = ca * ctheta + factor1 / factor2\n",
    "print(delta_over_phi)"
   ]
  },
  {
   "cell_type": "code",
   "execution_count": 8,
   "metadata": {},
   "outputs": [
    {
     "name": "stdout",
     "output_type": "stream",
     "text": [
      "-16914.34988766014\n"
     ]
    }
   ],
   "source": [
    "# Get delta / phi * normal_z this is the z component of the gradient\n",
    "\n",
    "delta_over_phi = (ca * ctheta + factor1 / factor2) * (-sa)\n",
    "print(delta_over_phi * klen0)"
   ]
  },
  {
   "cell_type": "code",
   "execution_count": 9,
   "metadata": {},
   "outputs": [
    {
     "name": "stdout",
     "output_type": "stream",
     "text": [
      "[-95926.04328645  32724.63800386 -16914.34938927]\n"
     ]
    }
   ],
   "source": [
    "# Get the 3 derivatives with numerical difference.\n",
    "\n",
    "print((kout - kout0) / phi)"
   ]
  }
 ],
 "metadata": {
  "kernelspec": {
   "display_name": "Python 3",
   "language": "python",
   "name": "python3"
  },
  "language_info": {
   "codemirror_mode": {
    "name": "ipython",
    "version": 3
   },
   "file_extension": ".py",
   "mimetype": "text/x-python",
   "name": "python",
   "nbconvert_exporter": "python",
   "pygments_lexer": "ipython3",
   "version": "3.6.9"
  }
 },
 "nbformat": 4,
 "nbformat_minor": 2
}
