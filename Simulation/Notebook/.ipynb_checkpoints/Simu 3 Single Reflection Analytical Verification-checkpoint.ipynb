{
 "cells": [
  {
   "cell_type": "code",
   "execution_count": 1,
   "metadata": {
    "scrolled": false
   },
   "outputs": [],
   "source": [
    "import numpy as np\n",
    "import sys\n",
    "import time\n",
    "import h5py as h5\n",
    "import matplotlib.pyplot as plt\n",
    "from scipy.spatial.transform import Rotation\n",
    "\n",
    "sys.path.append(r\"C:\\Users\\haoyuan\\Documents\\GitHub\\CrystalDiff\")\n",
    "\n",
    "from CrystalDiff import util, pulse, lclsutil"
   ]
  },
  {
   "cell_type": "markdown",
   "metadata": {},
   "source": [
    "# Generate h value and the kin length"
   ]
  },
  {
   "cell_type": "code",
   "execution_count": 5,
   "metadata": {},
   "outputs": [],
   "source": [
    "# ----------------------------------------------------------------------------------------------------------\n",
    "#                       Step 1: Pulse\n",
    "# ----------------------------------------------------------------------------------------------------------\n",
    "energy_center = 10.\n",
    "pre_length = 1e6\n",
    "\n",
    "# Set up the pulse\n",
    "my_pulse = pulse.GaussianPulse3D()\n",
    "my_pulse.set_pulse_properties(central_energy=energy_center,\n",
    "                              polar=[0., 1., 0.],\n",
    "                              sigma_x=708.2581446128465,\n",
    "                              sigma_y=708.2581446128465,\n",
    "                              sigma_z=1.,\n",
    "                              x0=np.array([0., 0., -pre_length]))\n",
    "\n",
    "# ----------------------------------------------------------------------------------------------------------\n",
    "#                       Step 3: Delay Lines\n",
    "# ----------------------------------------------------------------------------------------------------------\n",
    "# Some meta data for the delay line.\n",
    "h_length = 2. * np.pi / (1.9201 * 1e-4)\n",
    "bragg = np.radians(18.836) + 13e-6\n"
   ]
  },
  {
   "cell_type": "markdown",
   "metadata": {},
   "source": [
    "# Calculate two wave vectors"
   ]
  },
  {
   "cell_type": "code",
   "execution_count": 51,
   "metadata": {},
   "outputs": [],
   "source": [
    "# Get angles\n",
    "phi = 1e-9\n",
    "theta = bragg\n",
    "alpha = np.deg2rad(10)\n",
    "\n",
    "# Get physics quantities\n",
    "h = np.array([h_length, 0, 0])\n",
    "n = np.array([-np.cos(alpha),0,-np.sin(alpha)])\n",
    "kin = np.array([-np.sin(theta), np.cos(theta), 0,]) * my_pulse.klen0\n",
    "\n",
    "# Get rotation matrix\n",
    "rot_mat = Rotation.from_euler('xyz',[0, 0, phi], degrees=False)\n",
    "mat = rot_mat.as_dcm()\n",
    "\n",
    "# Get wave vectors\n",
    "kout = util.get_bragg_kout(kin = kin,\n",
    "                           h = mat.dot(h),\n",
    "                           normal = mat.dot(n))\n",
    "\n",
    "kout0 = util.get_bragg_kout(kin = kin,\n",
    "                           h = h,\n",
    "                           normal = n)"
   ]
  },
  {
   "cell_type": "code",
   "execution_count": 60,
   "metadata": {},
   "outputs": [
    {
     "name": "stdout",
     "output_type": "stream",
     "text": [
      "[-9.59260433e-05  3.27246380e-05 -1.69143494e-05]\n"
     ]
    }
   ],
   "source": [
    "# Momentum difference\n",
    "print(kout - kout0)"
   ]
  },
  {
   "cell_type": "markdown",
   "metadata": {},
   "source": [
    "# Calculate the derivative of the kout with respect to the rotation angle\n",
    "# with the analytical expression"
   ]
  },
  {
   "cell_type": "code",
   "execution_count": 54,
   "metadata": {},
   "outputs": [],
   "source": [
    "mis = np.deg2rad(10)\n",
    "\n",
    "ca = np.cos(mis)\n",
    "sa = np.sin(mis)\n",
    "\n",
    "ctheta = np.cos(bragg)\n",
    "stheta = np.sin(bragg)\n",
    "\n",
    "t = h_length / my_pulse.klen0\n",
    "\n",
    "factor1 = ca ** 2 * stheta * ctheta + t * ctheta * sa ** 2\n",
    "factor2 = np.sqrt( ca ** 2 * stheta ** 2 + 2 * t * stheta * sa ** 2 - t ** 2 * sa ** 2 )"
   ]
  },
  {
   "cell_type": "code",
   "execution_count": 61,
   "metadata": {},
   "outputs": [
    {
     "name": "stdout",
     "output_type": "stream",
     "text": [
      "1.9220803848678898\n"
     ]
    }
   ],
   "source": [
    "# Get delta/phi/K_len\n",
    "\n",
    "delta_over_phi = ca * ctheta + factor1 / factor2\n",
    "print(delta_over_phi)"
   ]
  },
  {
   "cell_type": "code",
   "execution_count": 62,
   "metadata": {},
   "outputs": [
    {
     "name": "stdout",
     "output_type": "stream",
     "text": [
      "-16914.34988766014\n"
     ]
    }
   ],
   "source": [
    "# Get delta / phi * normal_z this is the z component of the gradient\n",
    "\n",
    "delta_over_phi = (ca * ctheta + factor1 / factor2) * (-sa)\n",
    "print(delta_over_phi * my_pulse.klen0)"
   ]
  },
  {
   "cell_type": "code",
   "execution_count": 63,
   "metadata": {},
   "outputs": [
    {
     "name": "stdout",
     "output_type": "stream",
     "text": [
      "[-95926.04328645  32724.63800386 -16914.34938927]\n"
     ]
    }
   ],
   "source": [
    "# Get the 3 derivatives with numerical difference.\n",
    "\n",
    "print((kout - kout0) / phi)"
   ]
  }
 ],
 "metadata": {
  "kernelspec": {
   "display_name": "Python 3",
   "language": "python",
   "name": "python3"
  },
  "language_info": {
   "codemirror_mode": {
    "name": "ipython",
    "version": 3
   },
   "file_extension": ".py",
   "mimetype": "text/x-python",
   "name": "python",
   "nbconvert_exporter": "python",
   "pygments_lexer": "ipython3",
   "version": "3.6.9"
  }
 },
 "nbformat": 4,
 "nbformat_minor": 2
}
