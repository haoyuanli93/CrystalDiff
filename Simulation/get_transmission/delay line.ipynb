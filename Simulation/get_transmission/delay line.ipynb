{
 "cells": [
  {
   "cell_type": "code",
   "execution_count": 1,
   "metadata": {},
   "outputs": [],
   "source": [
    "import sys\n",
    "import time\n",
    "\n",
    "import h5py as h5\n",
    "import numpy as np\n",
    "import matplotlib.pyplot as plt\n",
    "\n",
    "sys.path.append(r\"C:/Users/haoyuan/Documents/GitHub/CrystalDiff\")\n",
    "\n",
    "from CrystalDiff import util, pulse, lclsutil"
   ]
  },
  {
   "cell_type": "code",
   "execution_count": 2,
   "metadata": {},
   "outputs": [],
   "source": [
    "energy_center = 10.\n",
    "pre_length = 1e6\n",
    "\n",
    "# Set up the pulse\n",
    "my_pulse = pulse.GaussianPulse3D()\n",
    "my_pulse.set_pulse_properties(central_energy=energy_center,\n",
    "                              polar=[0., 1., 0.],\n",
    "                              sigma_x=708.2581446128465,\n",
    "                              sigma_y=708.2581446128465,\n",
    "                              sigma_z=100.,\n",
    "                              x0=np.array([0., 0., -pre_length]))\n",
    "\n",
    "#\n",
    "# ~~~~~~~~~~~~~~~~~~~~~~~~~~~~~~~~~~~~~~~~~~~~~~~~~~~~~~~~~~~~~~~~~~~~~~~\n",
    "#                  Get the momentum mesh\n",
    "# ~~~~~~~~~~~~~~~~~~~~~~~~~~~~~~~~~~~~~~~~~~~~~~~~~~~~~~~~~~~~~~~~~~~~~~~\n",
    "number_x = 250\n",
    "number_y = 250\n",
    "number_z = 10 ** 5\n",
    "kx_grid, ky_grid, kz_grid, axis_info = lclsutil.get_k_mesh_3d(number_x=number_x,\n",
    "                                                              number_y=number_y,\n",
    "                                                              number_z=number_z,\n",
    "                                                              delta_e_x=3e-5,\n",
    "                                                              delta_e_y=3e-5,\n",
    "                                                              delta_e_z=4e-4 / util.c)\n",
    "kz_grid += my_pulse.klen0\n",
    "\n",
    "# Apply fft shift\n",
    "kx_grid = np.ascontiguousarray(np.fft.fftshift(kx_grid))\n",
    "ky_grid = np.ascontiguousarray(np.fft.fftshift(ky_grid))\n",
    "kz_grid = np.ascontiguousarray(np.fft.fftshift(kz_grid))"
   ]
  },
  {
   "cell_type": "markdown",
   "metadata": {},
   "source": [
    "# Simulation result"
   ]
  },
  {
   "cell_type": "code",
   "execution_count": 8,
   "metadata": {},
   "outputs": [
    {
     "name": "stdout",
     "output_type": "stream",
     "text": [
      "The simulation pulse energy is 1087172582.7116234\n"
     ]
    }
   ],
   "source": [
    "# Resultion from the h5 file\n",
    "sum_field_from_h5 = 3.369461433397966e+28\n",
    "\n",
    "\n",
    "# Consider the integration unit\n",
    "dkx = kx_grid[1] - kx_grid[0]\n",
    "dky = ky_grid[1] - ky_grid[0]\n",
    "dkz = kz_grid[1] - kz_grid[0]\n",
    "\n",
    "dx = axis_info['x_idx'][1] - axis_info['x_idx'][0] \n",
    "dy = axis_info['y_idx'][1] - axis_info['y_idx'][0] \n",
    "dz = axis_info['z_idx'][1] - axis_info['z_idx'][0] \n",
    "\n",
    "# Simulation energy\n",
    "simu_energy = sum_field_from_h5 / number_x / number_y / number_z * dkx * dky * dkz\n",
    "\n",
    "print(\"The simulation pulse energy is {}\".format(simu_energy))"
   ]
  },
  {
   "cell_type": "markdown",
   "metadata": {},
   "source": [
    "# Get the pulse energy"
   ]
  },
  {
   "cell_type": "code",
   "execution_count": 11,
   "metadata": {},
   "outputs": [
    {
     "name": "stdout",
     "output_type": "stream",
     "text": [
      "The pulse energy is 727343229.0403897\n"
     ]
    }
   ],
   "source": [
    "pulse_energy = 1e28 / np.power(np.pi, 1.5) / np.power(708.2581446128465 * 708.2581446128465 * 100 * util.c **3, 3)\n",
    "\n",
    "\n",
    "print(\"The pulse energy is {}\".format(pulse_energy))"
   ]
  },
  {
   "cell_type": "code",
   "execution_count": 12,
   "metadata": {},
   "outputs": [
    {
     "name": "stdout",
     "output_type": "stream",
     "text": [
      "1.4947174034272233\n"
     ]
    }
   ],
   "source": [
    "print(simu_energy /  pulse_energy)"
   ]
  },
  {
   "cell_type": "code",
   "execution_count": null,
   "metadata": {},
   "outputs": [],
   "source": []
  }
 ],
 "metadata": {
  "kernelspec": {
   "display_name": "Python 3",
   "language": "python",
   "name": "python3"
  },
  "language_info": {
   "codemirror_mode": {
    "name": "ipython",
    "version": 3
   },
   "file_extension": ".py",
   "mimetype": "text/x-python",
   "name": "python",
   "nbconvert_exporter": "python",
   "pygments_lexer": "ipython3",
   "version": "3.6.9"
  }
 },
 "nbformat": 4,
 "nbformat_minor": 2
}
