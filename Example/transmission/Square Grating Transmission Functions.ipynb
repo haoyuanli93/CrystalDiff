{
 "cells": [
  {
   "cell_type": "code",
   "execution_count": 1,
   "metadata": {},
   "outputs": [],
   "source": [
    "import numpy as np\n",
    "import matplotlib.pyplot as plt"
   ]
  },
  {
   "cell_type": "markdown",
   "metadata": {},
   "source": [
    "![title](./grating_definition.png)"
   ]
  },
  {
   "cell_type": "markdown",
   "metadata": {},
   "source": [
    "# Define functions"
   ]
  },
  {
   "cell_type": "code",
   "execution_count": 2,
   "metadata": {},
   "outputs": [],
   "source": [
    "# Define function for the transmission efficiency for the zero's order\n",
    "def transmission_m(k, m, n, h, a, b):\n",
    "    \"\"\"\n",
    "    k: Wave number of the photon = 2 * pi * c / lambda\n",
    "    m: The order of diffraction\n",
    "    n: The complex refraction index.\n",
    "    h: The height of the tooth.\n",
    "    a: The width of the groove.\n",
    "    b: The width of the tooth.\n",
    "    \"\"\"\n",
    "    \n",
    "    if not isinstance(m, int):\n",
    "        raise Exception(\"m is the order of diffraction. This value has to be an integer.\")\n",
    "    if not isinstance(n, complex):\n",
    "        raise Exception(\"n is the complex refraction index. This value has to be a complex number.\")\n",
    "    \n",
    "    # First consider diffractions that are not the zeroth order.\n",
    "    if m != 0:\n",
    "        # Get the real part and the imaginary part of the refraction coefficient\n",
    "        n_re = n.real - 1\n",
    "        n_im = n.imag\n",
    "\n",
    "        term_1 = 1 - np.exp(-k*h*n_im) * (np.cos(k*h*n_re) + 1.j * np.sin(k*h*n_re))\n",
    "        term_2 = 1 - np.cos(2*np.pi*b*m/(a+b)) + np.sin(2*np.pi*b*m /(a+b))\n",
    "\n",
    "        transmission = np.square(np.abs(term_1 * term_2)) / (4 * (np.pi * m)**2 )\n",
    "        \n",
    "    # Then consider the zeroth order\n",
    "    else:\n",
    "        # Get the real part and the imaginary part of the refraction coefficicent\n",
    "        n_re = n.real - 1\n",
    "        n_im = n.imag\n",
    "\n",
    "        term_1 = (b + a * np.exp(-k*h*n_im) * (np.cos(k*h*n_re) + 1.j * np.sin(k*h*n_re))) / (a + b)\n",
    "\n",
    "        transmission = np.square(np.abs(term_1))\n",
    "    \n",
    "    return transmission\n"
   ]
  },
  {
   "cell_type": "markdown",
   "metadata": {},
   "source": [
    "# Define variables"
   ]
  },
  {
   "cell_type": "code",
   "execution_count": 3,
   "metadata": {},
   "outputs": [],
   "source": [
    "# Speed of light * reduced Planck constant\n",
    "c_h_bar = 2.99792458 * 6.582119569 * 1e-8\n",
    "\n",
    "# Define photon energy and wave vector\n",
    "photon_energy = 10000  #(eV)\n",
    "k = photon_energy / c_h_bar\n",
    "\n",
    "# Define the groove width\n",
    "b = 1e-6  # (m)\n",
    "\n",
    "# Define the tooth width\n",
    "a = 1e-6  # (m)\n",
    "\n",
    "# Define the refraction coefficent\n",
    "n = 1 - 0.73031 * 1e-5 + 1.j * 0.61521 * 1e-8\n",
    "#n = 1 -  7.29524527E-06 + 1.j * 7.61694174E-09\n",
    "\n",
    "# Define a series of height\n",
    "h = np.arange(1000) * 1e-8   # The unit is m. The smallest tooth height is 10nm."
   ]
  },
  {
   "cell_type": "code",
   "execution_count": 4,
   "metadata": {},
   "outputs": [],
   "source": [
    "zero_trans = transmission_m(k = k, m = 0, n = n, h = h, a = a, b = b)\n",
    "one_trans = transmission_m(k = k, m = 1, n = n, h = h, a = a, b = b)"
   ]
  },
  {
   "cell_type": "code",
   "execution_count": 5,
   "metadata": {},
   "outputs": [
    {
     "data": {
      "image/png": "[encoded data removed]",
      "text/plain": [
       "<Figure size 360x360 with 1 Axes>"
      ]
     },
     "metadata": {
      "needs_background": "light"
     },
     "output_type": "display_data"
    }
   ],
   "source": [
    "plt.figure(figsize=(5, 5))\n",
    "\n",
    "# Change the x axis unit into um\n",
    "plt.plot(h * 1e6, zero_trans, 'r')\n",
    "plt.plot(h * 1e6, one_trans, 'b')\n",
    "\n",
    "plt.xlabel(\"Hight of the tooth in um\", fontsize=20)\n",
    "plt.ylabel(\"Transmission efficiency\", fontsize=20)\n",
    "plt.legend([\"0th order\", \"1st order\"], fontsize=20)\n",
    "\n",
    "\n",
    "plt.show()"
   ]
  },
  {
   "cell_type": "code",
   "execution_count": null,
   "metadata": {},
   "outputs": [],
   "source": []
  }
 ],
 "metadata": {
  "kernelspec": {
   "display_name": "Python 3",
   "language": "python",
   "name": "python3"
  },
  "language_info": {
   "codemirror_mode": {
    "name": "ipython",
    "version": 3
   },
   "file_extension": ".py",
   "mimetype": "text/x-python",
   "name": "python",
   "nbconvert_exporter": "python",
   "pygments_lexer": "ipython3",
   "version": "3.6.9"
  }
 },
 "nbformat": 4,
 "nbformat_minor": 2
}
