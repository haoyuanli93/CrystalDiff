{
 "cells": [
  {
   "cell_type": "code",
   "execution_count": 1,
   "metadata": {
    "scrolled": false
   },
   "outputs": [],
   "source": [
    "import numpy as np\n",
    "import sys\n",
    "import time\n",
    "import h5py as h5\n",
    "import matplotlib.pyplot as plt\n",
    "\n",
    "sys.path.append(r\"C:\\Users\\haoyuan\\Documents\\GitHub\\CrystalDiff\")\n",
    "\n",
    "from CrystalDiff import util, pulse, lclsutil, groutine, crystal"
   ]
  },
  {
   "cell_type": "markdown",
   "metadata": {},
   "source": [
    "# Get the Crystal Geometries"
   ]
  },
  {
   "cell_type": "code",
   "execution_count": 2,
   "metadata": {},
   "outputs": [],
   "source": [
    "# ----------------------------------------------------------------------------------------------------------\n",
    "#                       Step 1: Pulse\n",
    "# ----------------------------------------------------------------------------------------------------------\n",
    "\n",
    "energy_center = 10.\n",
    "pre_length = 1e6\n",
    "\n",
    "# Set up the pulse\n",
    "my_pulse = pulse.GaussianPulse3D()\n",
    "my_pulse.set_pulse_properties(central_energy=energy_center,\n",
    "                              polar=[0., 1., 0.],\n",
    "                              sigma_x=708.2581446128465,\n",
    "                              sigma_y=708.2581446128465,\n",
    "                              sigma_z=100.,\n",
    "                              x0=np.array([0., 0., -pre_length]))\n",
    "\n",
    "# ----------------------------------------------------------------------------------------------------------\n",
    "#                       Step 3: Delay Lines\n",
    "# ----------------------------------------------------------------------------------------------------------\n",
    "dtheta = 0.\n",
    "\n",
    "# Some meta data for the delay line.\n",
    "reflect_num = 4\n",
    "h_length = 2. * np.pi / (1.9201 * 1e-4)\n",
    "hlen_vals = np.array([h_length, ] * reflect_num)\n",
    "\n",
    "# Some crystal properties\n",
    "chi0=complex(-0.97631E-05, 0.14871E-06)\n",
    "chih_sigma=complex(0.59310E-05, -0.14320E-06)\n",
    "chihbar_sigma=complex(0.59310E-05, -0.14320E-06)\n",
    "chih_pi=complex(0.46945E-05, -0.11201E-06)\n",
    "chihbar_pi=complex(0.46945E-05, -0.11201E-06)\n",
    "\n",
    "# ~~~~~~~~~~~~~~~~~~~~~~~~~~~~~~~~~~~~~~~~~~~~~~~~~~~~~~~~~~~~~~~~~~~~~~~\n",
    "#                       Crystal for branch  1\n",
    "# ~~~~~~~~~~~~~~~~~~~~~~~~~~~~~~~~~~~~~~~~~~~~~~~~~~~~~~~~~~~~~~~~~~~~~~~\n",
    "# Set up the angles\n",
    "angle_offset_1 = dtheta\n",
    "bragg_angle_1 = np.radians(18.836) + 13e-6\n",
    "\n",
    "branch_angle_1 = lclsutil.get_delay_line_angles(angle_offset=angle_offset_1,\n",
    "                                                theta=bragg_angle_1 + np.pi / 2. ,\n",
    "                                                rho=bragg_angle_1 - np.pi / 2. ,\n",
    "                                                inclined_angle=np.radians(10.))\n",
    "surface_points_1 = np.zeros((reflect_num, 3), dtype=np.float64)\n",
    "\n",
    "# Set the misalignment angle\n",
    "misalign_branch_1_crystal_1 = [0., 0., 0.]\n",
    "misalign_branch_1_crystal_2 = [0., 0., 0.]\n",
    "\n",
    "# Initialize the crystals\n",
    "crystal_list_1 = lclsutil.get_crystal_list_delay_branch(hlen_vals=hlen_vals,\n",
    "                                                        theta_vals=branch_angle_1[0],\n",
    "                                                        rho_vals=branch_angle_1[1],\n",
    "                                                        tau_vals=branch_angle_1[2],\n",
    "                                                        surface_points=surface_points_1,\n",
    "                                                        chi0=chi0,\n",
    "                                                        chih_sigma=chih_sigma, chihbar_sigma=chihbar_sigma,\n",
    "                                                        chih_pi=chih_pi, chihbar_pi=chihbar_pi,\n",
    "                                                        misalign_1=misalign_branch_1_crystal_1,\n",
    "                                                        misalign_2=misalign_branch_1_crystal_2)\n",
    "\n",
    "path_list_1 = [0, 1e5, 1e5, 1e5]\n",
    "post_distance = 1e6"
   ]
  },
  {
   "cell_type": "markdown",
   "metadata": {},
   "source": [
    "# Arrange the crystals"
   ]
  },
  {
   "cell_type": "code",
   "execution_count": 3,
   "metadata": {},
   "outputs": [
    {
     "name": "stdout",
     "output_type": "stream",
     "text": [
      "The total propagation length is 2.30m.\n"
     ]
    }
   ],
   "source": [
    "# Get the positions for the shearing fix branch\n",
    "(intersect_branch_1,\n",
    "kout_branch_1) = lclsutil.get_point_with_definite_path(kin_vec = my_pulse.k0,\n",
    "                                                       path_sections = path_list_1,\n",
    "                                                       crystal_list = crystal_list_1)\n",
    "\n",
    "# Initialize the crystals\n",
    "crystal_list_1 = lclsutil.get_crystal_list_delay_branch(hlen_vals=hlen_vals,\n",
    "                                                        theta_vals=branch_angle_1[0],\n",
    "                                                        rho_vals=branch_angle_1[1],\n",
    "                                                        tau_vals=branch_angle_1[2],\n",
    "                                                        surface_points=np.copy(intersect_branch_1),\n",
    "                                                        chi0=chi0,\n",
    "                                                        chih_sigma=chih_sigma, chihbar_sigma=chihbar_sigma,\n",
    "                                                        chih_pi=chih_pi, chihbar_pi=chihbar_pi,\n",
    "                                                        misalign_1=misalign_branch_1_crystal_1,\n",
    "                                                        misalign_2=misalign_branch_1_crystal_2)\n",
    "# ~~~~~~~~~~~~~~~~~~~~~~~~~~~~~~~~~~~~~~~~~~~~~~~~~~~~~~~~~~~~~~~~~~~~~~~\n",
    "# Get the observation point\n",
    "# ~~~~~~~~~~~~~~~~~~~~~~~~~~~~~~~~~~~~~~~~~~~~~~~~~~~~~~~~~~~~~~~~~~~~~~~\n",
    "observation = np.copy(intersect_branch_1[-1]) + post_distance * kout_branch_1[-1] / util.l2_norm(kout_branch_1[-1]) \n",
    "total_path = pre_length + util.get_total_path_length(intersect_branch_1) + post_distance\n",
    "\n",
    "print(\"The total propagation length is {:.2f}m.\".format(total_path / 1e6))\n",
    "\n",
    "\n",
    "# ~~~~~~~~~~~~~~~~~~~~~~~~~~~~~~~~~~~~~~~~~~~~~~~~~~~~~~~~~~~~~~~~~~~~~~~\n",
    "#                  Change frame\n",
    "# ~~~~~~~~~~~~~~~~~~~~~~~~~~~~~~~~~~~~~~~~~~~~~~~~~~~~~~~~~~~~~~~~~~~~~~~\n",
    "# \n",
    "(my_pulse,\n",
    " crystal_list_1,\n",
    " observation\n",
    ") = lclsutil.get_delay_line_output_frame(displacement=-np.copy(observation),\n",
    "                                         observe=observation,\n",
    "                                         pulse=my_pulse,\n",
    "                                         crystal_list=crystal_list_1)\n",
    "\n",
    "# \n",
    "# ~~~~~~~~~~~~~~~~~~~~~~~~~~~~~~~~~~~~~~~~~~~~~~~~~~~~~~~~~~~~~~~~~~~~~~~\n",
    "#                  Get the momentum mesh\n",
    "# ~~~~~~~~~~~~~~~~~~~~~~~~~~~~~~~~~~~~~~~~~~~~~~~~~~~~~~~~~~~~~~~~~~~~~~~\n",
    "number_x = 2\n",
    "number_y = 250\n",
    "number_z = 10 ** 5\n",
    "kx_grid, ky_grid, kz_grid, axis_info = lclsutil.get_k_mesh_3d(number_x=number_x,\n",
    "                                                              number_y=number_y,\n",
    "                                                              number_z=number_z,\n",
    "                                                              delta_e_x=1e-50,\n",
    "                                                              delta_e_y=0.75e-4,\n",
    "                                                              delta_e_z=1e-4 / util.c)\n",
    "kz_grid += my_pulse.klen0\n",
    "\n",
    "# Apply fft shift\n",
    "# kx_grid = np.ascontiguousarray(np.fft.fftshift(kx_grid))\n",
    "kx_grid = np.zeros(1, np.float64)\n",
    "number_x = 1\n",
    "ky_grid = np.ascontiguousarray(np.fft.fftshift(ky_grid))\n",
    "kz_grid = np.ascontiguousarray(np.fft.fftshift(kz_grid))\n",
    "#\"\"\""
   ]
  },
  {
   "cell_type": "code",
   "execution_count": 4,
   "metadata": {},
   "outputs": [
    {
     "data": {
      "text/plain": [
       "array([0., 0., 0.])"
      ]
     },
     "execution_count": 4,
     "metadata": {},
     "output_type": "execute_result"
    }
   ],
   "source": [
    "observation"
   ]
  },
  {
   "cell_type": "code",
   "execution_count": 5,
   "metadata": {
    "scrolled": true
   },
   "outputs": [
    {
     "data": {
      "image/png": "[encoded data removed]",
      "text/plain": [
       "<Figure size 720x360 with 1 Axes>"
      ]
     },
     "metadata": {
      "needs_background": "light"
     },
     "output_type": "display_data"
    }
   ],
   "source": [
    "fig, axes = plt.subplots(nrows=1, ncols=1, figsize=(10, 5))\n",
    "\n",
    "axes.plot(intersect_branch_1[:,2]/1e4, intersect_branch_1[:,1]/1e4,'r')\n",
    "\n",
    "#axes.set_xlim([5e2-70, 5e2 + 150])\n",
    "axes.set_ylim([-50, 50])\n",
    "#axes.set_aspect('equal', 'datalim')\n",
    "\n",
    "plt.show()"
   ]
  },
  {
   "cell_type": "code",
   "execution_count": 8,
   "metadata": {},
   "outputs": [
    {
     "name": "stdout",
     "output_type": "stream",
     "text": [
      "It takes 0.06 seconds to prepare the variables.\n",
      "It takes 9.29 seconds to get the field for branch 1.\n"
     ]
    }
   ],
   "source": [
    "# Set the range of the index to save\n",
    "z_idx_range = 300\n",
    "num1 = 230\n",
    "num2 = 70\n",
    "d_num = 512\n",
    "\n",
    "# -------------------------------------------------------------\n",
    "#            Get Field for Branch 2\n",
    "# -------------------------------------------------------------\n",
    "tic = time.time()\n",
    "\n",
    "(result_3d_dict_1,\n",
    " result_2d_dict_1,\n",
    " check_dict_1) = groutine.get_delay_line_field(channel_cuts = crystal_list_1,\n",
    "                                               total_path = total_path, \n",
    "                                               observation = observation,\n",
    "                                               my_pulse = my_pulse,\n",
    "                                               kx_grid = kx_grid,\n",
    "                                               ky_grid = ky_grid,\n",
    "                                               kz_grid = kz_grid,\n",
    "                                               pulse_delay_time = 0.,\n",
    "                                               pulse_k0_final = np.array([0.,0.,my_pulse.klen0]),\n",
    "                                               number_x = number_x,\n",
    "                                               number_y = number_y,\n",
    "                                               number_z = number_z,\n",
    "                                               z_idx_range = z_idx_range,\n",
    "                                               num1 = num1,\n",
    "                                               num2 = num2, \n",
    "                                               d_num = 512)\n",
    "\n",
    "toc = time.time()\n",
    "print(\"It takes {:.2f} seconds to get the field for branch 1.\".format(toc - tic))"
   ]
  },
  {
   "cell_type": "code",
   "execution_count": 9,
   "metadata": {
    "scrolled": false
   },
   "outputs": [
    {
     "data": {
      "image/png": "[encoded data removed]",
      "text/plain": [
       "<Figure size 1008x864 with 2 Axes>"
      ]
     },
     "metadata": {
      "needs_background": "light"
     },
     "output_type": "display_data"
    }
   ],
   "source": [
    "# Set up the canvas\n",
    "fig, axes = plt.subplots(nrows=1, ncols=1)\n",
    "fig.set_figheight(12)\n",
    "fig.set_figwidth(14)\n",
    "\n",
    "ratio = (((axis_info['z_idx'][z_idx_range - 1] - axis_info['z_idx'][0]) /z_idx_range) /\n",
    "         ((axis_info['y_idx'][-1] - axis_info['y_idx'][0]) / number_y))\n",
    "\n",
    "field_2 = np.fft.ifftshift(np.fft.ifft(result_2d_dict_1['y_field_2d'], axis=0), axes=0)\n",
    "\n",
    "im = axes.imshow(np.abs( field_2 ),\n",
    "                 #vmin=  17,\n",
    "                 #vmax = 25.,\n",
    "                 cmap='jet', \n",
    "                 origin='lower',\n",
    "                 #aspect = 1/util.c,\n",
    "                 )\n",
    "\n",
    "axes.set_title(\"Time response for R0H\")\n",
    "axes.set_yticks(np.arange(0, number_y, step=50))\n",
    "axes.set_yticklabels(axis_info[\"y_idx_tick\"][::50], fontsize=12)\n",
    "axes.set_xticks(np.arange(0, z_idx_range, step=50))\n",
    "axes.set_xticklabels(axis_info[\"z_idx_tick\"][number_z//2 - z_idx_range//2:\n",
    "                                              number_z//2 + z_idx_range//2:50], fontsize=12)\n",
    "\n",
    "axes.set_ylabel(\"Propagation direction (um)\")\n",
    "axes.set_xlabel(\"Transversal direction (fs)\")\n",
    "fig.colorbar(im, ax=axes)\n",
    "# Show the canvas\n",
    "\n",
    "plt.show()"
   ]
  },
  {
   "cell_type": "code",
   "execution_count": null,
   "metadata": {},
   "outputs": [],
   "source": []
  }
 ],
 "metadata": {
  "kernelspec": {
   "display_name": "Python 3",
   "language": "python",
   "name": "python3"
  },
  "language_info": {
   "codemirror_mode": {
    "name": "ipython",
    "version": 3
   },
   "file_extension": ".py",
   "mimetype": "text/x-python",
   "name": "python",
   "nbconvert_exporter": "python",
   "pygments_lexer": "ipython3",
   "version": "3.6.9"
  }
 },
 "nbformat": 4,
 "nbformat_minor": 2
}
