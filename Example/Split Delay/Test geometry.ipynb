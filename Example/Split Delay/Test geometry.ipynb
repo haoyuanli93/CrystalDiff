{
 "cells": [
  {
   "cell_type": "code",
   "execution_count": 1,
   "metadata": {},
   "outputs": [],
   "source": [
    "import numpy as np\n",
    "import sys\n",
    "import time\n",
    "import h5py as h5\n",
    "import matplotlib.pyplot as plt\n",
    "\n",
    "sys.path.append(r\"C:\\Users\\hyli\\Documents\\GitHub\\CrystalDiff\")\n",
    "\n",
    "from CrystalDiff import util, pulse, lclsutil, crystal"
   ]
  },
  {
   "cell_type": "code",
   "execution_count": 38,
   "metadata": {},
   "outputs": [],
   "source": [
    "# ----------------------------------------------------------------------------------------------------------\n",
    "#                       Step 1: Split \n",
    "# ----------------------------------------------------------------------------------------------------------\n",
    "grating_list = [crystal.SinusoidalPhaseGrating(),\n",
    "                crystal.SinusoidalPhaseGrating()]\n",
    "\n",
    "# ----------------------------------------------------------------------------------------------------------\n",
    "#                       Step 2: Delay\n",
    "# ----------------------------------------------------------------------------------------------------------\n",
    "\n",
    "# Some meta data for the delay line.\n",
    "reflect_num = 4\n",
    "h_length = 2. * np.pi / (1.9201 * 1e-4)\n",
    "hlen_vals = np.array([h_length,] * reflect_num)\n",
    "\n",
    "# ~~~~~~~~~~~~~~~~~~~~~~~~~~~~~~~~~~~~~~~~~~~~~~~~~~~~~~~~~~~~~~~~~~~~~~~\n",
    "#                       Crystal for branch  1\n",
    "# ~~~~~~~~~~~~~~~~~~~~~~~~~~~~~~~~~~~~~~~~~~~~~~~~~~~~~~~~~~~~~~~~~~~~~~~\n",
    "# Set up the angles\n",
    "angle_offset = np.arctan(1e-3) \n",
    "delta = 13e-6\n",
    "bragg_angle = np.radians(18.836) + delta\n",
    "\n",
    "theta = bragg_angle + np.pi / 2.\n",
    "theta_vals = np.array([theta, np.pi + theta , - theta , np.pi - theta ]) + angle_offset\n",
    "\n",
    "rho = bragg_angle - np.pi / 2.\n",
    "rho_vals = np.array([rho, np.pi + rho, - rho, np.pi - rho]) + angle_offset\n",
    "\n",
    "tau_vals = np.array([0., np.radians(0.), - np.radians(0.), 0.])\n",
    "\n",
    "# Set up the surface position\n",
    "surface_points = [np.zeros(3, dtype=np.float64) for x in range(reflect_num)]\n",
    "\n",
    "# Initialize the crystals\n",
    "crystal_list_1 = lclsutil.get_crystal_list(num = reflect_num,\n",
    "                                                  hlen_vals = hlen_vals,\n",
    "                                                  rho_vals = rho_vals,\n",
    "                                                  theta_vals = theta_vals,\n",
    "                                                  tau_vals = tau_vals,\n",
    "                                                  surface_points=surface_points,\n",
    "                                                  chi0=complex(-0.97631E-05, 0.14871E-06),\n",
    "                                                  chih_sigma=complex(0.59310E-05, -0.14320E-06),\n",
    "                                                  chihbar_sigma=complex(0.59310E-05, -0.14320E-06),\n",
    "                                                  chih_pi=complex(0.46945E-05, -0.11201E-06),\n",
    "                                                  chihbar_pi=complex(0.46945E-05, -0.11201E-06))\n",
    "\n",
    "# ~~~~~~~~~~~~~~~~~~~~~~~~~~~~~~~~~~~~~~~~~~~~~~~~~~~~~~~~~~~~~~~~~~~~~~~\n",
    "#                       Crystal for branch  2\n",
    "# ~~~~~~~~~~~~~~~~~~~~~~~~~~~~~~~~~~~~~~~~~~~~~~~~~~~~~~~~~~~~~~~~~~~~~~~\n",
    "# Set up the angles\n",
    "angle_offset = - np.arctan(1e-3) \n",
    "delta = 13e-6\n",
    "bragg_angle = np.radians(18.836) + delta\n",
    "\n",
    "theta = 1.5 * np.pi - bragg_angle\n",
    "theta_vals = np.array([theta, np.pi + theta , - theta , np.pi - theta ]) + angle_offset\n",
    "\n",
    "rho = 0.5 * np.pi - bragg_angle\n",
    "rho_vals = np.array([rho, np.pi + rho, - rho, np.pi - rho]) + angle_offset\n",
    "\n",
    "tau_vals = np.array([0., np.radians(0.), - np.radians(0.), 0.])\n",
    "\n",
    "# Set up the surface position\n",
    "surface_points = [np.zeros(3, dtype=np.float64) for x in range(reflect_num)]\n",
    "\n",
    "# Initialize the crystals\n",
    "crystal_list_2 = lclsutil.get_crystal_list(num = reflect_num,\n",
    "                                                  hlen_vals = hlen_vals,\n",
    "                                                  rho_vals = rho_vals,\n",
    "                                                  theta_vals = theta_vals,\n",
    "                                                  tau_vals = tau_vals,\n",
    "                                                  surface_points=surface_points,\n",
    "                                                  chi0=complex(-0.97631E-05, 0.14871E-06),\n",
    "                                                  chih_sigma=complex(0.59310E-05, -0.14320E-06),\n",
    "                                                  chihbar_sigma=complex(0.59310E-05, -0.14320E-06),\n",
    "                                                  chih_pi=complex(0.46945E-05, -0.11201E-06),\n",
    "                                                  chihbar_pi=complex(0.46945E-05, -0.11201E-06))\n",
    "\n",
    "# ----------------------------------------------------------------------------------------------------------\n",
    "#                       Step 3: Pulse \n",
    "# ----------------------------------------------------------------------------------------------------------\n",
    "\n",
    "# Set up the pulse\n",
    "my_pulse = pulse.GaussianPulse3D()\n",
    "\n",
    "energy_center = 10.\n",
    "k_len = util.kev_to_wave_number(energy=energy_center)\n",
    "\n",
    "my_pulse.polar = np.array([0., 1., 0.], dtype=np.complex128)\n",
    "\n",
    "my_pulse.k0 = np.array([0., 0., k_len])\n",
    "my_pulse.n = my_pulse.k0 / util.l2_norm(my_pulse.k0)\n",
    "my_pulse.omega0 = k_len * util.c\n",
    "\n",
    "my_pulse.sigma_x = 100.  # sigma_t\n",
    "my_pulse.sigma_y = 100.  # sigma_t  # fs\n",
    "my_pulse.sigma_z = 1.  # fs\n",
    "my_pulse.sigma_mat = np.diag(np.array([my_pulse.sigma_x ** 2,\n",
    "                                       my_pulse.sigma_y ** 2,\n",
    "                                       my_pulse.sigma_z ** 2], dtype=np.float64))\n",
    "my_pulse.sigma_mat *= util.c ** 2\n",
    "\n",
    "magnitude_peak = 1.\n",
    "my_pulse.scaling = complex(my_pulse.sigma_x * my_pulse.sigma_y *\n",
    "                           my_pulse.sigma_z * (util.c ** 3), 0.) * magnitude_peak\n",
    "\n",
    "pre_length = 1e6\n",
    "my_pulse.x0 = np.array([0., 0., -pre_length])\n",
    "\n",
    "# ----------------------------------------------------------------------------------------------------------\n",
    "#                       Step 4: Arrange the crystals\n",
    "# ----------------------------------------------------------------------------------------------------------\n",
    "path_list_1 = [5e6, 5e4, 20e4, 10e4, 10e6, 5e6]\n",
    "path_list_2 = [5e6, 5e4, 40e4, 20e4, 10e6, 5e6]\n",
    "\n",
    "(intersect_brunch_1, \n",
    " kout_brunch_1,\n",
    " intersect_brunch_2,\n",
    " kout_brunch_2) = lclsutil.get_light_path(pulse_obj=my_pulse, \n",
    "                                          grating_list=grating_list,\n",
    "                                          crystal_list_1=crystal_list_1, \n",
    "                                          path_list_1=path_list_1, \n",
    "                                          crystal_list_2=crystal_list_2, \n",
    "                                          path_list_2=path_list_2)"
   ]
  },
  {
   "cell_type": "code",
   "execution_count": 39,
   "metadata": {},
   "outputs": [
    {
     "data": {
      "image/png": "[encoded data removed]",
      "text/plain": [
       "<Figure size 432x288 with 1 Axes>"
      ]
     },
     "metadata": {
      "needs_background": "light"
     },
     "output_type": "display_data"
    }
   ],
   "source": [
    "plt.plot(intersect_brunch_1[:,2], intersect_brunch_1[:,1],'r')\n",
    "plt.plot(intersect_brunch_2[:,2], intersect_brunch_2[:,1],'b')\n",
    "\n",
    "plt.xlim([5e6-5e4, 5e6 + 5e5])\n",
    "\n",
    "plt.show()"
   ]
  },
  {
   "cell_type": "code",
   "execution_count": 40,
   "metadata": {},
   "outputs": [
    {
     "data": {
      "image/png": "[encoded data removed]",
      "text/plain": [
       "<Figure size 432x288 with 1 Axes>"
      ]
     },
     "metadata": {
      "needs_background": "light"
     },
     "output_type": "display_data"
    }
   ],
   "source": [
    "plt.plot(intersect_brunch_1[:,2], intersect_brunch_1[:,1],'r')\n",
    "plt.plot(intersect_brunch_2[:,2], intersect_brunch_2[:,1],'b')\n",
    "\n",
    "#plt.xlim([5e6-5e4, 5e6 + 5e5])\n",
    "\n",
    "plt.show()"
   ]
  },
  {
   "cell_type": "code",
   "execution_count": null,
   "metadata": {},
   "outputs": [],
   "source": []
  },
  {
   "cell_type": "code",
   "execution_count": null,
   "metadata": {},
   "outputs": [],
   "source": []
  },
  {
   "cell_type": "code",
   "execution_count": null,
   "metadata": {},
   "outputs": [],
   "source": []
  }
 ],
 "metadata": {
  "kernelspec": {
   "display_name": "Python 3",
   "language": "python",
   "name": "python3"
  },
  "language_info": {
   "codemirror_mode": {
    "name": "ipython",
    "version": 3
   },
   "file_extension": ".py",
   "mimetype": "text/x-python",
   "name": "python",
   "nbconvert_exporter": "python",
   "pygments_lexer": "ipython3",
   "version": "3.6.9"
  }
 },
 "nbformat": 4,
 "nbformat_minor": 2
}
