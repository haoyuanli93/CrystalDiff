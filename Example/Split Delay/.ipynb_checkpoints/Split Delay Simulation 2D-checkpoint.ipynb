{
 "cells": [
  {
   "cell_type": "code",
   "execution_count": 2,
   "metadata": {},
   "outputs": [],
   "source": [
    "import numpy as np\n",
    "import sys\n",
    "import time\n",
    "import h5py as h5\n",
    "import matplotlib.pyplot as plt\n",
    "\n",
    "sys.path.append(r\"C:\\Users\\hyli\\Documents\\GitHub\\CrystalDiff\")\n",
    "\n",
    "from CrystalDiff import util, pulse, lclsutil, crystal"
   ]
  },
  {
   "cell_type": "code",
   "execution_count": 169,
   "metadata": {},
   "outputs": [],
   "source": [
    "# ----------------------------------------------------------------------------------------------------------\n",
    "#                       Step 1: Split \n",
    "# ----------------------------------------------------------------------------------------------------------\n",
    "grating_list = [crystal.SinusoidalPhaseGrating(),\n",
    "                crystal.SinusoidalPhaseGrating()]\n",
    "\n",
    "# ----------------------------------------------------------------------------------------------------------\n",
    "#                       Step 2: Delay\n",
    "# ----------------------------------------------------------------------------------------------------------\n",
    "\n",
    "# Some meta data for the delay line.\n",
    "reflect_num = 4\n",
    "h_length = 2. * np.pi / (1.9201 * 1e-4)\n",
    "hlen_vals = np.array([h_length,] * reflect_num)\n",
    "\n",
    "# ~~~~~~~~~~~~~~~~~~~~~~~~~~~~~~~~~~~~~~~~~~~~~~~~~~~~~~~~~~~~~~~~~~~~~~~\n",
    "#                       Crystal for branch  1\n",
    "# ~~~~~~~~~~~~~~~~~~~~~~~~~~~~~~~~~~~~~~~~~~~~~~~~~~~~~~~~~~~~~~~~~~~~~~~\n",
    "# Set up the angles\n",
    "angle_offset = np.arctan(1e-3) \n",
    "delta = 13e-6\n",
    "bragg_angle = np.radians(18.836) + delta\n",
    "\n",
    "theta = bragg_angle + np.pi / 2.\n",
    "theta_vals = np.array([theta, np.pi + theta , - theta , np.pi - theta ]) + angle_offset\n",
    "\n",
    "rho = bragg_angle - np.pi / 2.\n",
    "rho_vals = np.array([rho, np.pi + rho, - rho, np.pi - rho]) + angle_offset\n",
    "\n",
    "tau_vals = np.array([0., np.radians(0.), - np.radians(0.), 0.])\n",
    "\n",
    "# Set up the surface position\n",
    "surface_points = [np.zeros(3, dtype=np.float64) for x in range(reflect_num)]\n",
    "\n",
    "# Initialize the crystals\n",
    "crystal_list_1 = lclsutil.get_crystal_list(num = reflect_num,\n",
    "                                                  hlen_vals = hlen_vals,\n",
    "                                                  rho_vals = rho_vals,\n",
    "                                                  theta_vals = theta_vals,\n",
    "                                                  tau_vals = tau_vals,\n",
    "                                                  surface_points=surface_points,\n",
    "                                                  chi0=complex(-0.97631E-05, 0.14871E-06),\n",
    "                                                  chih_sigma=complex(0.59310E-05, -0.14320E-06),\n",
    "                                                  chihbar_sigma=complex(0.59310E-05, -0.14320E-06),\n",
    "                                                  chih_pi=complex(0.46945E-05, -0.11201E-06),\n",
    "                                                  chihbar_pi=complex(0.46945E-05, -0.11201E-06))\n",
    "\n",
    "# ~~~~~~~~~~~~~~~~~~~~~~~~~~~~~~~~~~~~~~~~~~~~~~~~~~~~~~~~~~~~~~~~~~~~~~~\n",
    "#                       Crystal for branch  2\n",
    "# ~~~~~~~~~~~~~~~~~~~~~~~~~~~~~~~~~~~~~~~~~~~~~~~~~~~~~~~~~~~~~~~~~~~~~~~\n",
    "# Set up the angles\n",
    "angle_offset = - np.arctan(1e-3) \n",
    "delta = 13e-6\n",
    "bragg_angle = np.radians(18.836) + delta\n",
    "\n",
    "theta = 1.5 * np.pi - bragg_angle\n",
    "theta_vals = np.array([theta, np.pi + theta , - theta , np.pi - theta ]) + angle_offset\n",
    "\n",
    "rho = 0.5 * np.pi - bragg_angle\n",
    "rho_vals = np.array([rho, np.pi + rho, - rho, np.pi - rho]) + angle_offset\n",
    "\n",
    "tau_vals = np.array([0., np.radians(0.), - np.radians(0.), 0.])\n",
    "\n",
    "# Set up the surface position\n",
    "surface_points = [np.zeros(3, dtype=np.float64) for x in range(reflect_num)]\n",
    "\n",
    "# Initialize the crystals\n",
    "crystal_list_2 = lclsutil.get_crystal_list(num = reflect_num,\n",
    "                                                  hlen_vals = hlen_vals,\n",
    "                                                  rho_vals = rho_vals,\n",
    "                                                  theta_vals = theta_vals,\n",
    "                                                  tau_vals = tau_vals,\n",
    "                                                  surface_points=surface_points,\n",
    "                                                  chi0=complex(-0.97631E-05, 0.14871E-06),\n",
    "                                                  chih_sigma=complex(0.59310E-05, -0.14320E-06),\n",
    "                                                  chihbar_sigma=complex(0.59310E-05, -0.14320E-06),\n",
    "                                                  chih_pi=complex(0.46945E-05, -0.11201E-06),\n",
    "                                                  chihbar_pi=complex(0.46945E-05, -0.11201E-06))\n",
    "\n",
    "# ----------------------------------------------------------------------------------------------------------\n",
    "#                       Step 3: Pulse \n",
    "# ----------------------------------------------------------------------------------------------------------\n",
    "\n",
    "# Set up the pulse\n",
    "my_pulse = pulse.GaussianPulse3D()\n",
    "\n",
    "energy_center = 10.\n",
    "k_len = util.kev_to_wave_number(energy=energy_center)\n",
    "\n",
    "my_pulse.polar = np.array([0., 1., 0.], dtype=np.complex128)\n",
    "\n",
    "my_pulse.k0 = np.array([0., 0., k_len])\n",
    "my_pulse.n = my_pulse.k0 / util.l2_norm(my_pulse.k0)\n",
    "my_pulse.omega0 = k_len * util.c\n",
    "\n",
    "my_pulse.sigma_x = 100.  # sigma_t\n",
    "my_pulse.sigma_y = 100.  # sigma_t  # fs\n",
    "my_pulse.sigma_z = 1.  # fs\n",
    "my_pulse.sigma_mat = np.diag(np.array([my_pulse.sigma_x ** 2,\n",
    "                                       my_pulse.sigma_y ** 2,\n",
    "                                       my_pulse.sigma_z ** 2], dtype=np.float64))\n",
    "my_pulse.sigma_mat *= util.c ** 2\n",
    "\n",
    "magnitude_peak = 1.\n",
    "my_pulse.scaling = complex(my_pulse.sigma_x * my_pulse.sigma_y *\n",
    "                           my_pulse.sigma_z * (util.c ** 3), 0.) * magnitude_peak\n",
    "\n",
    "pre_length = 1e6\n",
    "my_pulse.x0 = np.array([0., 0., -pre_length])\n",
    "\n",
    "# ----------------------------------------------------------------------------------------------------------\n",
    "#                       Step 4: Arrange the crystals\n",
    "# ----------------------------------------------------------------------------------------------------------\n",
    "path_list_1 = [25e6, \n",
    "               20e4,\n",
    "               20e4,\n",
    "               30e4,\n",
    "               5e6,\n",
    "               1.]\n",
    "path_list_2 = [5e6, \n",
    "               20e4, \n",
    "               20e4, \n",
    "               30e4, \n",
    "               25e6,\n",
    "               1.]\n",
    "\n",
    "(intersect_brunch_1, \n",
    " kout_brunch_1,\n",
    " intersect_brunch_2,\n",
    " kout_brunch_2) = lclsutil.get_light_path(pulse_obj=my_pulse, \n",
    "                                          grating_list=grating_list,\n",
    "                                          crystal_list_1=crystal_list_1, \n",
    "                                          path_list_1=path_list_1, \n",
    "                                          crystal_list_2=crystal_list_2, \n",
    "                                          path_list_2=path_list_2)"
   ]
  },
  {
   "cell_type": "code",
   "execution_count": 170,
   "metadata": {},
   "outputs": [
    {
     "name": "stdout",
     "output_type": "stream",
     "text": [
      "0.0\n"
     ]
    }
   ],
   "source": [
    "print((np.sum(path_list_1)- np.sum(path_list_2))/ 1e4)"
   ]
  },
  {
   "cell_type": "code",
   "execution_count": 171,
   "metadata": {},
   "outputs": [
    {
     "data": {
      "image/png": "[encoded data removed]",
      "text/plain": [
       "<Figure size 720x360 with 1 Axes>"
      ]
     },
     "metadata": {
      "needs_background": "light"
     },
     "output_type": "display_data"
    }
   ],
   "source": [
    "fig, axes = plt.subplots(nrows=1, ncols=1, figsize=(10,5))\n",
    "\n",
    "axes.plot(intersect_brunch_1[:,2]/1e4, intersect_brunch_1[:,1]/1e4,'r')\n",
    "axes.plot(intersect_brunch_2[:,2]/1e4, intersect_brunch_2[:,1]/1e4,'b')\n",
    "\n",
    "axes.set_ylim([-2.8, -2.50])\n",
    "axes.set_xlim([2700, 2800])\n",
    "#axes.set_aspect('equal', 'datalim')\n",
    "\n",
    "plt.show()"
   ]
  },
  {
   "cell_type": "code",
   "execution_count": 172,
   "metadata": {
    "scrolled": false
   },
   "outputs": [
    {
     "data": {
      "image/png": "[encoded data removed]",
      "text/plain": [
       "<Figure size 720x360 with 1 Axes>"
      ]
     },
     "metadata": {
      "needs_background": "light"
     },
     "output_type": "display_data"
    }
   ],
   "source": [
    "fig, axes = plt.subplots(nrows=1, ncols=1, figsize=(10, 5))\n",
    "\n",
    "axes.plot(intersect_brunch_1[:,2]/1e4, intersect_brunch_1[:,1]/1e4,'r')\n",
    "axes.plot(intersect_brunch_2[:,2]/1e4, intersect_brunch_2[:,1]/1e4,'b')\n",
    "\n",
    "#axes.set_xlim([5e2-20, 5e2 + 70])\n",
    "\n",
    "#axes.set_aspect('equal', 'datalim')\n",
    "\n",
    "plt.show()"
   ]
  },
  {
   "cell_type": "code",
   "execution_count": 11,
   "metadata": {},
   "outputs": [
    {
     "name": "stdout",
     "output_type": "stream",
     "text": [
      "[     0.            590.0340999  -21580.35097468] 21588.415607200255\n"
     ]
    }
   ],
   "source": [
    "print(intersect_brunch_1[-2] - intersect_brunch_2[-2], \n",
    "      util.l2_norm(intersect_brunch_1[-2] - intersect_brunch_2[-2]))"
   ]
  },
  {
   "cell_type": "code",
   "execution_count": 173,
   "metadata": {},
   "outputs": [
    {
     "data": {
      "text/plain": [
       "array([[ 0.00000000e+00,  0.00000000e+00,  5.06773076e+04],\n",
       "       [ 0.00000000e+00, -5.06773076e+01,  5.06773076e+04],\n",
       "       [ 0.00000000e+00, -3.10120994e+04,  4.00804412e+04],\n",
       "       [ 0.00000000e+00, -5.06773076e+01,  5.06773076e+04],\n",
       "       [ 0.00000000e+00,  3.09318766e+04,  4.01423851e+04],\n",
       "       [ 0.00000000e+00, -5.06773076e+01,  5.06773076e+04],\n",
       "       [ 0.00000000e+00, -1.89999128e-11,  5.06773076e+04]])"
      ]
     },
     "execution_count": 173,
     "metadata": {},
     "output_type": "execute_result"
    }
   ],
   "source": [
    "kout_brunch_2"
   ]
  },
  {
   "cell_type": "code",
   "execution_count": null,
   "metadata": {},
   "outputs": [],
   "source": []
  },
  {
   "cell_type": "code",
   "execution_count": null,
   "metadata": {},
   "outputs": [],
   "source": []
  },
  {
   "cell_type": "code",
   "execution_count": null,
   "metadata": {},
   "outputs": [],
   "source": []
  },
  {
   "cell_type": "code",
   "execution_count": null,
   "metadata": {},
   "outputs": [],
   "source": []
  },
  {
   "cell_type": "code",
   "execution_count": null,
   "metadata": {},
   "outputs": [],
   "source": []
  }
 ],
 "metadata": {
  "kernelspec": {
   "display_name": "Python 3",
   "language": "python",
   "name": "python3"
  },
  "language_info": {
   "codemirror_mode": {
    "name": "ipython",
    "version": 3
   },
   "file_extension": ".py",
   "mimetype": "text/x-python",
   "name": "python",
   "nbconvert_exporter": "python",
   "pygments_lexer": "ipython3",
   "version": "3.6.9"
  }
 },
 "nbformat": 4,
 "nbformat_minor": 2
}
