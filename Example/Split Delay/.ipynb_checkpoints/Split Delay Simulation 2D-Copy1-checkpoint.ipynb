{
 "cells": [
  {
   "cell_type": "code",
   "execution_count": 1,
   "metadata": {},
   "outputs": [],
   "source": [
    "import numpy as np\n",
    "import sys\n",
    "import time\n",
    "import h5py as h5\n",
    "import matplotlib.pyplot as plt\n",
    "\n",
    "sys.path.append(r\"C:\\Users\\hyli\\Documents\\GitHub\\CrystalDiff\")\n",
    "\n",
    "from CrystalDiff import util, pulse, lclsutil, groutine, crystal"
   ]
  },
  {
   "cell_type": "code",
   "execution_count": 2,
   "metadata": {},
   "outputs": [
    {
     "name": "stdout",
     "output_type": "stream",
     "text": [
      "The total propagation length is 32610175.00um.\n"
     ]
    }
   ],
   "source": [
    "# ----------------------------------------------------------------------------------------------------------\n",
    "#                       Step 1: Split\n",
    "# ----------------------------------------------------------------------------------------------------------\n",
    "grating_list = [crystal.SinusoidalPhaseGrating(),\n",
    "                crystal.SinusoidalPhaseGrating()]\n",
    "\n",
    "# ----------------------------------------------------------------------------------------------------------\n",
    "#                       Step 2: Delay\n",
    "# ----------------------------------------------------------------------------------------------------------\n",
    "\n",
    "# Some meta data for the delay line.\n",
    "reflect_num = 4\n",
    "h_length = 2. * np.pi / (1.9201 * 1e-4)\n",
    "hlen_vals = np.array([h_length, ] * reflect_num)\n",
    "\n",
    "# ~~~~~~~~~~~~~~~~~~~~~~~~~~~~~~~~~~~~~~~~~~~~~~~~~~~~~~~~~~~~~~~~~~~~~~~\n",
    "#                       Crystal for branch  1\n",
    "# ~~~~~~~~~~~~~~~~~~~~~~~~~~~~~~~~~~~~~~~~~~~~~~~~~~~~~~~~~~~~~~~~~~~~~~~\n",
    "# Set up the angles\n",
    "angle_offset_1 = np.arctan(1e-3)\n",
    "bragg_angle_1 = np.radians(18.836) + 13e-6\n",
    "\n",
    "branch_angle_1 = lclsutil.get_delay_line_angles(angle_offset=angle_offset_1,\n",
    "                                                theta=bragg_angle_1 + np.pi / 2.,\n",
    "                                                rho=bragg_angle_1 - np.pi / 2.)\n",
    "surface_points_1 = np.zeros((reflect_num, 3), dtype=np.float64)\n",
    "\n",
    "# Initialize the crystals\n",
    "crystal_list_1 = lclsutil.get_crystal_list(num=reflect_num,\n",
    "                                           hlen_vals=hlen_vals,\n",
    "                                           theta_vals=branch_angle_1[0],\n",
    "                                           rho_vals=branch_angle_1[1],\n",
    "                                           tau_vals=branch_angle_1[2],\n",
    "                                           surface_points=surface_points_1,\n",
    "                                           chi0=complex(-0.97631E-05, 0.14871E-06),\n",
    "                                           chih_sigma=complex(0.59310E-05, -0.14320E-06),\n",
    "                                           chihbar_sigma=complex(0.59310E-05, -0.14320E-06),\n",
    "                                           chih_pi=complex(0.46945E-05, -0.11201E-06),\n",
    "                                           chihbar_pi=complex(0.46945E-05, -0.11201E-06))\n",
    "\n",
    "# ~~~~~~~~~~~~~~~~~~~~~~~~~~~~~~~~~~~~~~~~~~~~~~~~~~~~~~~~~~~~~~~~~~~~~~~\n",
    "#                       Crystal for branch  2\n",
    "# ~~~~~~~~~~~~~~~~~~~~~~~~~~~~~~~~~~~~~~~~~~~~~~~~~~~~~~~~~~~~~~~~~~~~~~~\n",
    "# Set up the angles\n",
    "angle_offset_2 = -np.arctan(1e-3)\n",
    "bragg_angle_2 = np.radians(18.836) + 13e-6\n",
    "\n",
    "branch_angle_2 = lclsutil.get_delay_line_angles(angle_offset=angle_offset_2,\n",
    "                                                theta=1.5 * np.pi - bragg_angle_2,\n",
    "                                                rho=0.5 * np.pi - bragg_angle_2)\n",
    "surface_points_2 = np.zeros((reflect_num, 3), dtype=np.float64)\n",
    "\n",
    "# Initialize the crystals\n",
    "crystal_list_2 = lclsutil.get_crystal_list(num=reflect_num,\n",
    "                                           hlen_vals=hlen_vals,\n",
    "                                           theta_vals=branch_angle_2[0],\n",
    "                                           rho_vals=branch_angle_2[1],\n",
    "                                           tau_vals=branch_angle_2[2],\n",
    "                                           surface_points=surface_points_2,\n",
    "                                           chi0=complex(-0.97631E-05, 0.14871E-06),\n",
    "                                           chih_sigma=complex(0.59310E-05, -0.14320E-06),\n",
    "                                           chihbar_sigma=complex(0.59310E-05, -0.14320E-06),\n",
    "                                           chih_pi=complex(0.46945E-05, -0.11201E-06),\n",
    "                                           chihbar_pi=complex(0.46945E-05, -0.11201E-06))\n",
    "\n",
    "# ----------------------------------------------------------------------------------------------------------\n",
    "#                       Step 3: Pulse\n",
    "# ----------------------------------------------------------------------------------------------------------\n",
    "\n",
    "# Set up the pulse\n",
    "my_pulse = pulse.GaussianPulse3D()\n",
    "\n",
    "energy_center = 10.\n",
    "k_len = util.kev_to_wave_number(energy=energy_center)\n",
    "\n",
    "my_pulse.polar = np.array([0., 1., 0.], dtype=np.complex128)\n",
    "\n",
    "my_pulse.k0 = np.array([0., 0., k_len])\n",
    "my_pulse.n = my_pulse.k0 / util.l2_norm(my_pulse.k0)\n",
    "my_pulse.omega0 = k_len * util.c\n",
    "\n",
    "my_pulse.sigma_x = 100.  # sigma_t\n",
    "my_pulse.sigma_y = 100.  # sigma_t  # fs\n",
    "my_pulse.sigma_z = 10.  # fs\n",
    "my_pulse.sigma_mat = np.diag(np.array([my_pulse.sigma_x ** 2,\n",
    "                                       my_pulse.sigma_y ** 2,\n",
    "                                       my_pulse.sigma_z ** 2], dtype=np.float64))\n",
    "my_pulse.sigma_mat *= util.c ** 2\n",
    "\n",
    "magnitude_peak = 1.\n",
    "my_pulse.scaling = complex(my_pulse.sigma_x * my_pulse.sigma_y *\n",
    "                           my_pulse.sigma_z * (util.c ** 3), 0.) * magnitude_peak\n",
    "\n",
    "pre_length = 1e6\n",
    "my_pulse.x0 = np.array([0., 0., -pre_length])\n",
    "\n",
    "# ----------------------------------------------------------------------------------------------------------\n",
    "#                       Step 4: Arrange the crystals\n",
    "# ----------------------------------------------------------------------------------------------------------\n",
    "ta = 19060175\n",
    "path_list_1 = [5e6 - 20e4,\n",
    "               1e5,\n",
    "               3e5 + 70e4,\n",
    "               1.5e5,\n",
    "               6e6 + ta - 50e4,\n",
    "               1e6]\n",
    "path_list_2 = [5e6,\n",
    "               1e5,\n",
    "               3e5,\n",
    "               1.5e5,\n",
    "               6e6 + ta,\n",
    "               1e6]\n",
    "\n",
    "(intersect_brunch_1,\n",
    " kout_brunch_1,\n",
    " intersect_brunch_2,\n",
    " kout_brunch_2) = lclsutil.get_light_path(pulse_obj=my_pulse,\n",
    "                                          grating_list=grating_list,\n",
    "                                          crystal_list_1=crystal_list_1,\n",
    "                                          path_list_1=path_list_1,\n",
    "                                          crystal_list_2=crystal_list_2,\n",
    "                                          path_list_2=path_list_2)\n",
    "\n",
    "# Initialize the crystals\n",
    "crystal_list_1 = lclsutil.get_crystal_list(num=reflect_num,\n",
    "                                           hlen_vals=hlen_vals,\n",
    "                                           theta_vals=branch_angle_1[0],\n",
    "                                           rho_vals=branch_angle_1[1],\n",
    "                                           tau_vals=branch_angle_1[2],\n",
    "                                           surface_points=np.copy(intersect_brunch_1[1:5]),\n",
    "                                           chi0=complex(-0.97631E-05, 0.14871E-06),\n",
    "                                           chih_sigma=complex(0.59310E-05, -0.14320E-06),\n",
    "                                           chihbar_sigma=complex(0.59310E-05, -0.14320E-06),\n",
    "                                           chih_pi=complex(0.46945E-05, -0.11201E-06),\n",
    "                                           chihbar_pi=complex(0.46945E-05, -0.11201E-06))\n",
    "# Initialize the crystals\n",
    "crystal_list_2 = lclsutil.get_crystal_list(num=reflect_num,\n",
    "                                           hlen_vals=hlen_vals,\n",
    "                                           theta_vals=branch_angle_2[0],\n",
    "                                           rho_vals=branch_angle_2[1],\n",
    "                                           tau_vals=branch_angle_2[2],\n",
    "                                           surface_points=np.copy(intersect_brunch_2[1:5]),\n",
    "                                           chi0=complex(-0.97631E-05, 0.14871E-06),\n",
    "                                           chih_sigma=complex(0.59310E-05, -0.14320E-06),\n",
    "                                           chihbar_sigma=complex(0.59310E-05, -0.14320E-06),\n",
    "                                           chih_pi=complex(0.46945E-05, -0.11201E-06),\n",
    "                                           chihbar_pi=complex(0.46945E-05, -0.11201E-06))\n",
    "\n",
    "grating_list[0].set_surface_point(np.copy(intersect_brunch_1[0]))\n",
    "grating_list[1].set_surface_point(np.copy(intersect_brunch_1[-2]))\n",
    "\n",
    "\n",
    "# ~~~~~~~~~~~~~~~~~~~~~~~~~~~~~~~~~~~~~~~~~~~~~~~~~~~~~~~~~~~~~~~~~~~~~~~\n",
    "# Get the observation point\n",
    "# ~~~~~~~~~~~~~~~~~~~~~~~~~~~~~~~~~~~~~~~~~~~~~~~~~~~~~~~~~~~~~~~~~~~~~~~\n",
    "observation = np.copy(intersect_brunch_2[-1])\n",
    "\n",
    "total_path = pre_length + util.get_total_path_length(intersection_point_list=intersect_brunch_2)\n",
    "print(\"The total propagation length is {:.2f}um.\".format(total_path))\n",
    "# ~~~~~~~~~~~~~~~~~~~~~~~~~~~~~~~~~~~~~~~~~~~~~~~~~~~~~~~~~~~~~~~~~~~~~~~\n",
    "#                  Change frame\n",
    "# ~~~~~~~~~~~~~~~~~~~~~~~~~~~~~~~~~~~~~~~~~~~~~~~~~~~~~~~~~~~~~~~~~~~~~~~\n",
    "#\"\"\"\n",
    "(my_pulse, \n",
    " crystal_list_1,\n",
    " crystal_list_2,\n",
    " grating_list, \n",
    " obvservation)= lclsutil.get_split_delay_output_frame(displacement=-np.copy(intersect_brunch_1[-2]),\n",
    "                                                       obvservation=observation,\n",
    "                                                       pulse=my_pulse,\n",
    "                                                       crystal_list_1=crystal_list_1,\n",
    "                                                       crystal_list_2=crystal_list_2,\n",
    "                                                       grating_pair=grating_list)\n",
    "#\"\"\"\n",
    "# ~~~~~~~~~~~~~~~~~~~~~~~~~~~~~~~~~~~~~~~~~~~~~~~~~~~~~~~~~~~~~~~~~~~~~~~\n",
    "#                  Get the momentum mesh\n",
    "# ~~~~~~~~~~~~~~~~~~~~~~~~~~~~~~~~~~~~~~~~~~~~~~~~~~~~~~~~~~~~~~~~~~~~~~~\n",
    "number_x = 2\n",
    "number_y = 500\n",
    "number_z = 10 ** 5\n",
    "kx_grid, ky_grid, kz_grid, axis_info = lclsutil.get_k_mesh_3d(number_x=number_x,\n",
    "                                                              number_y=number_y,\n",
    "                                                              number_z=number_z,\n",
    "                                                              delta_e_x=1e-50,\n",
    "                                                              delta_e_y=1e-4,\n",
    "                                                              delta_e_z=1e-4 / util.c)\n",
    "kz_grid += k_len\n",
    "\n",
    "# Apply fft shift\n",
    "#kx_grid = np.ascontiguousarray(np.fft.fftshift(kx_grid))\n",
    "kx_grid = np.zeros(1, np.float64)\n",
    "number_x = 1\n",
    "ky_grid = np.ascontiguousarray(np.fft.fftshift(ky_grid))\n",
    "kz_grid = np.ascontiguousarray(np.fft.fftshift(kz_grid))"
   ]
  },
  {
   "cell_type": "code",
   "execution_count": 3,
   "metadata": {
    "scrolled": true
   },
   "outputs": [
    {
     "name": "stdout",
     "output_type": "stream",
     "text": [
      "It takes 0.06 seconds to prepare the variables.\n",
      "It takes 20.56 seconds to finish the calculation\n"
     ]
    }
   ],
   "source": [
    "# Set the range of the index to save\n",
    "z_idx_range = 500\n",
    "num1 = 450\n",
    "num2 = 50\n",
    "d_num = 512\n",
    "\n",
    "# -------------------------------------------------------------\n",
    "#            Get Field for Branch 1\n",
    "# -------------------------------------------------------------\n",
    "grating_list[0].set_order(-1)\n",
    "grating_list[1].set_order(1)\n",
    "\n",
    "\n",
    "tic = time.time()\n",
    "\n",
    "(result_3d_dict,\n",
    " result_2d_dict,\n",
    " check_dict) = groutine.get_single_branch_split_delay_field(grating_pair = grating_list,\n",
    "                                                            channel_cuts = crystal_list_1,\n",
    "                                                            total_path = total_path, \n",
    "                                                            observation = observation,\n",
    "                                                            my_pulse = my_pulse,\n",
    "                                                            kx_grid = kx_grid,\n",
    "                                                            ky_grid = ky_grid,\n",
    "                                                            kz_grid = kz_grid,\n",
    "                                                            number_x = number_x,\n",
    "                                                            number_y = number_y,\n",
    "                                                            number_z = number_z,\n",
    "                                                            z_idx_range = z_idx_range,\n",
    "                                                            num1 = num1,\n",
    "                                                            num2 = num2, \n",
    "                                                            d_num = 512)\n",
    "\n",
    "toc = time.time()\n",
    "print(\"It takes {:.2f} seconds to finish the calculation\".format(toc - tic))"
   ]
  },
  {
   "cell_type": "code",
   "execution_count": 4,
   "metadata": {
    "scrolled": true
   },
   "outputs": [
    {
     "data": {
      "text/plain": [
       "array([[ 0.00000000e+00,  6.10951076e-01, -3.05580669e+07],\n",
       "       [ 0.00000000e+00,  6.10971499e-01, -3.05580669e+07],\n",
       "       [ 0.00000000e+00,  6.10991920e-01, -3.05580669e+07],\n",
       "       ...,\n",
       "       [ 0.00000000e+00,  6.10889819e-01, -3.05580669e+07],\n",
       "       [ 0.00000000e+00,  6.10910240e-01, -3.05580669e+07],\n",
       "       [ 0.00000000e+00,  6.10930661e-01, -3.05580669e+07]])"
      ]
     },
     "execution_count": 4,
     "metadata": {},
     "output_type": "execute_result"
    }
   ],
   "source": [
    "check_dict['intersect_points']"
   ]
  },
  {
   "cell_type": "code",
   "execution_count": 5,
   "metadata": {},
   "outputs": [
    {
     "data": {
      "text/plain": [
       "array([1000000.00061344, 1000000.00061346, 1000000.00061348, ...,\n",
       "       1000000.00061337, 1000000.00061339, 1000000.00061341])"
      ]
     },
     "execution_count": 5,
     "metadata": {},
     "output_type": "execute_result"
    }
   ],
   "source": [
    "check_dict['remaining_length']"
   ]
  },
  {
   "cell_type": "code",
   "execution_count": 6,
   "metadata": {},
   "outputs": [
    {
     "data": {
      "text/plain": [
       "array([4799999.99938656, 4799999.99938654, 4799999.99938652, ...,\n",
       "       4799999.99938662, 4799999.9993866 , 4799999.99938658])"
      ]
     },
     "execution_count": 6,
     "metadata": {},
     "output_type": "execute_result"
    }
   ],
   "source": [
    "(total_path - np.sum(path_list_1[-5:]))- check_dict['remaining_length']"
   ]
  },
  {
   "cell_type": "code",
   "execution_count": 7,
   "metadata": {},
   "outputs": [
    {
     "data": {
      "text/plain": [
       "0.001"
      ]
     },
     "execution_count": 7,
     "metadata": {},
     "output_type": "execute_result"
    }
   ],
   "source": [
    "grating_list[1].wave_vector[1] / my_pulse.k0[2]"
   ]
  },
  {
   "cell_type": "code",
   "execution_count": 8,
   "metadata": {},
   "outputs": [
    {
     "data": {
      "text/plain": [
       "array([[ 0.00000000e+00,  4.79999760e+03,  4.79999760e+06],\n",
       "       [ 0.00000000e+00,  6.59952058e+04,  4.87908708e+06],\n",
       "       [ 0.00000000e+00,  6.69952053e+04,  5.87908658e+06],\n",
       "       [ 0.00000000e+00, -2.45601552e+04,  5.99790416e+06]])"
      ]
     },
     "execution_count": 8,
     "metadata": {},
     "output_type": "execute_result"
    }
   ],
   "source": [
    "intersect_brunch_1[1:5]"
   ]
  },
  {
   "cell_type": "code",
   "execution_count": 12,
   "metadata": {},
   "outputs": [
    {
     "data": {
      "image/png": "[encoded data removed]",
      "text/plain": [
       "<Figure size 1008x864 with 2 Axes>"
      ]
     },
     "metadata": {
      "needs_background": "light"
     },
     "output_type": "display_data"
    }
   ],
   "source": [
    "# Set up the canvas\n",
    "fig, axes = plt.subplots(nrows=1, ncols=1)\n",
    "fig.set_figheight(12)\n",
    "fig.set_figwidth(14)\n",
    "\n",
    "ratio = (((axis_info['z_idx'][z_idx_range - 1] - axis_info['z_idx'][0]) /z_idx_range) /\n",
    "         ((axis_info['y_idx'][-1] - axis_info['y_idx'][0]) / number_y))\n",
    "\n",
    "field = np.fft.ifftshift(np.fft.ifft(result_2d_dict['y_field_2d'], axis=0), axes=0)\n",
    "\n",
    "im = axes.imshow(np.log(np.abs( field )),\n",
    "                 vmin= 5.,\n",
    "                 #vmax = 12.,\n",
    "                 cmap='jet', \n",
    "                 origin='lower',\n",
    "                 #aspect = 1/util.c,\n",
    "                 )\n",
    "\n",
    "axes.set_title(\"Time response for R0H\")\n",
    "axes.set_yticks(np.arange(0, number_y, step=50))\n",
    "axes.set_yticklabels(axis_info[\"y_idx_tick\"][::50], fontsize=12)\n",
    "axes.set_xticks(np.arange(0, z_idx_range, step=50))\n",
    "axes.set_xticklabels(axis_info[\"z_idx_tick\"][number_z//2 - z_idx_range//2:\n",
    "                                              number_z//2 + z_idx_range//2:50], fontsize=12)\n",
    "\n",
    "axes.set_xlabel(\"Propagation direction (um)\")\n",
    "axes.set_ylabel(\"Transversal direction (fs)\")\n",
    "fig.colorbar(im, ax=axes)\n",
    "# Show the canvas\n",
    "\n",
    "plt.show()"
   ]
  },
  {
   "cell_type": "code",
   "execution_count": 10,
   "metadata": {},
   "outputs": [
    {
     "data": {
      "image/png": "[encoded data removed]",
      "text/plain": [
       "<Figure size 720x360 with 1 Axes>"
      ]
     },
     "metadata": {
      "needs_background": "light"
     },
     "output_type": "display_data"
    }
   ],
   "source": [
    "fig, axes = plt.subplots(nrows=1, ncols=1, figsize=(10,5))\n",
    "\n",
    "axes.plot(intersect_brunch_1[:,2]/1e4, intersect_brunch_1[:,1]/1e4,'r')\n",
    "axes.plot(intersect_brunch_2[:,2]/1e4, intersect_brunch_2[:,1]/1e4,'b')\n",
    "\n",
    "#axes.set_ylim([-3.06, -3.04])\n",
    "#axes.set_xlim([3050, 3055])\n",
    "#axes.set_aspect('equal', 'datalim')\n",
    "\n",
    "plt.show()"
   ]
  },
  {
   "cell_type": "code",
   "execution_count": null,
   "metadata": {},
   "outputs": [],
   "source": []
  }
 ],
 "metadata": {
  "kernelspec": {
   "display_name": "Python 3",
   "language": "python",
   "name": "python3"
  },
  "language_info": {
   "codemirror_mode": {
    "name": "ipython",
    "version": 3
   },
   "file_extension": ".py",
   "mimetype": "text/x-python",
   "name": "python",
   "nbconvert_exporter": "python",
   "pygments_lexer": "ipython3",
   "version": "3.6.9"
  }
 },
 "nbformat": 4,
 "nbformat_minor": 2
}
