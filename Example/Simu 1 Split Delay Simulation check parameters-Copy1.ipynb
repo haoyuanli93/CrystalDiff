{
 "cells": [
  {
   "cell_type": "code",
   "execution_count": 1,
   "metadata": {
    "scrolled": false
   },
   "outputs": [],
   "source": [
    "import numpy as np\n",
    "import sys\n",
    "import time\n",
    "import h5py as h5\n",
    "import matplotlib.pyplot as plt\n",
    "from scipy.spatial.transform import Rotation\n",
    "\n",
    "sys.path.append(r\"C:\\Users\\haoyuan\\Documents\\GitHub\\CrystalDiff\")\n",
    "\n",
    "from CrystalDiff import util, pulse, lclsutil, groutine, crystal"
   ]
  },
  {
   "cell_type": "markdown",
   "metadata": {},
   "source": [
    "# Get the Crystal Geometries"
   ]
  },
  {
   "cell_type": "code",
   "execution_count": 2,
   "metadata": {},
   "outputs": [],
   "source": [
    "# ----------------------------------------------------------------------------------------------------------\n",
    "#                       Step 1: Pulse\n",
    "# ----------------------------------------------------------------------------------------------------------\n",
    "\n",
    "energy_center = 10.\n",
    "pre_length = 1e6\n",
    "\n",
    "# Set up the pulse\n",
    "my_pulse = pulse.GaussianPulse3D()\n",
    "my_pulse.set_pulse_properties(central_energy=energy_center,\n",
    "                              polar=[0., 1., 0.],\n",
    "                              sigma_x=708.2581446128465,\n",
    "                              sigma_y=708.2581446128465,\n",
    "                              sigma_z=1.,\n",
    "                              x0=np.array([0., 0., -pre_length]))\n",
    "\n",
    "# ----------------------------------------------------------------------------------------------------------\n",
    "#                       Step 2: Split\n",
    "# ----------------------------------------------------------------------------------------------------------\n",
    "dtheta = np.arctan(1.5 * 1e-3 / 5.)      # This is the deviation angle.\n",
    "\n",
    "grating_list = [crystal.RectangleGrating(), crystal.RectangleGrating()]\n",
    "grating_list[0].set_a(util.get_grating_period(dtheta=dtheta, klen_in=my_pulse.klen0) / 2)\n",
    "grating_list[0].set_b(util.get_grating_period(dtheta=dtheta, klen_in=my_pulse.klen0) / 2)\n",
    "\n",
    "grating_list[1].set_a(util.get_grating_period(dtheta=dtheta, klen_in=my_pulse.klen0) / 2)\n",
    "grating_list[1].set_b(util.get_grating_period(dtheta=dtheta, klen_in=my_pulse.klen0) / 2)\n",
    "\n",
    "# ----------------------------------------------------------------------------------------------------------\n",
    "#                       Step 3: Delay Lines\n",
    "# ----------------------------------------------------------------------------------------------------------\n",
    "# Some meta data for the delay line.\n",
    "reflect_num = 4\n",
    "h_length = 2. * np.pi / (1.9201 * 1e-4)\n",
    "hlen_vals = np.array([h_length, ] * reflect_num)\n",
    "\n",
    "# Some crystal properties\n",
    "chi0=complex(-0.97631E-05, 0.14871E-06)\n",
    "chih_sigma=complex(0.59310E-05, -0.14320E-06)\n",
    "chihbar_sigma=complex(0.59310E-05, -0.14320E-06)\n",
    "chih_pi=complex(0.46945E-05, -0.11201E-06)\n",
    "chihbar_pi=complex(0.46945E-05, -0.11201E-06)\n",
    "\n",
    "# ~~~~~~~~~~~~~~~~~~~~~~~~~~~~~~~~~~~~~~~~~~~~~~~~~~~~~~~~~~~~~~~~~~~~~~~\n",
    "#                       Crystal for branch  1\n",
    "# ~~~~~~~~~~~~~~~~~~~~~~~~~~~~~~~~~~~~~~~~~~~~~~~~~~~~~~~~~~~~~~~~~~~~~~~\n",
    "# Set up the angles\n",
    "angle_offset_1 = dtheta\n",
    "bragg_angle_1 = np.radians(18.836) + 13e-6\n",
    "\n",
    "branch_angle_1 = lclsutil.get_delay_line_angles(angle_offset=angle_offset_1,\n",
    "                                                theta=bragg_angle_1 + np.pi / 2. ,\n",
    "                                                rho=bragg_angle_1 - np.pi / 2. ,\n",
    "                                                inclined_angle=np.radians(10.))\n",
    "surface_points_1 = np.zeros((reflect_num, 3), dtype=np.float64)\n",
    "\n",
    "# Set the misalignment angle\n",
    "misalign_branch_1_crystal_1 = [0., 0., 0.]\n",
    "misalign_branch_1_crystal_2 = [0., 0., 0.]\n",
    "\n",
    "# Initialize the crystals\n",
    "crystal_list_1 = lclsutil.get_crystal_list_delay_branch(hlen_vals=hlen_vals,\n",
    "                                                        theta_vals=branch_angle_1[0],\n",
    "                                                        rho_vals=branch_angle_1[1],\n",
    "                                                        tau_vals=branch_angle_1[2],\n",
    "                                                        surface_points=surface_points_1,\n",
    "                                                        chi0=chi0,\n",
    "                                                        chih_sigma=chih_sigma, chihbar_sigma=chihbar_sigma,\n",
    "                                                        chih_pi=chih_pi, chihbar_pi=chihbar_pi)\n",
    "\n",
    "# ~~~~~~~~~~~~~~~~~~~~~~~~~~~~~~~~~~~~~~~~~~~~~~~~~~~~~~~~~~~~~~~~~~~~~~~\n",
    "#                       Crystal for branch  2\n",
    "# ~~~~~~~~~~~~~~~~~~~~~~~~~~~~~~~~~~~~~~~~~~~~~~~~~~~~~~~~~~~~~~~~~~~~~~~\n",
    "# Set up the angles\n",
    "angle_offset_2 = - dtheta\n",
    "bragg_angle_2 = np.radians(18.836) + 13e-6\n",
    "\n",
    "branch_angle_2 = lclsutil.get_delay_line_angles(angle_offset=angle_offset_2,\n",
    "                                                theta=1.5 * np.pi - bragg_angle_2,\n",
    "                                                rho=0.5 * np.pi - bragg_angle_2,\n",
    "                                                inclined_angle=np.radians(0.))\n",
    "surface_points_2 = np.zeros((reflect_num, 3), dtype=np.float64)\n",
    "\n",
    "# Set the misalignment angle\n",
    "misalign_branch_2_crystal_1 = [0., 0., 0.]\n",
    "misalign_branch_2_crystal_2 = [0., 0., 0.]\n",
    "\n",
    "# Initialize the crystals\n",
    "crystal_list_2 = lclsutil.get_crystal_list_delay_branch(hlen_vals=hlen_vals,\n",
    "                                                        theta_vals=branch_angle_2[0],\n",
    "                                                        rho_vals=branch_angle_2[1],\n",
    "                                                        tau_vals=branch_angle_2[2],\n",
    "                                                        surface_points=surface_points_2,\n",
    "                                                        chi0=chi0,\n",
    "                                                        chih_sigma=chih_sigma, chihbar_sigma=chihbar_sigma,\n",
    "                                                        chih_pi=chih_pi, chihbar_pi=chihbar_pi)\n",
    "\n",
    "\n",
    "# ------------------------------------------------------\n",
    "#   Define the positions\n",
    "# ------------------------------------------------------\n",
    "path_list_1 = [5e6 - 10e4, 1e5, 5e5,\n",
    "               1.05e5, 6e6, 1e6]\n",
    "path_list_2 = [5e6, 1e5, 1e5,\n",
    "               1.05e5, 6e6, 1e6]\n",
    "delay_time = 20."
   ]
  },
  {
   "cell_type": "code",
   "execution_count": 3,
   "metadata": {},
   "outputs": [
    {
     "name": "stdout",
     "output_type": "stream",
     "text": [
      "The total propagation length is 12.23m.\n"
     ]
    }
   ],
   "source": [
    "# Adjust the path sections\n",
    "(path_list_1,\n",
    " path_list_2) = lclsutil.get_split_delay_configuration(delay_time=delay_time,\n",
    "                                                       fix_branch_path=path_list_2,\n",
    "                                                       var_branch_path=path_list_1,\n",
    "                                                       fix_branch_crystal=crystal_list_2,\n",
    "                                                       var_branch_crystal=crystal_list_1,\n",
    "                                                       grating_pair=grating_list,\n",
    "                                                       kin=my_pulse.k0)\n",
    "\n",
    "(intersect_brunch_1,\n",
    " kout_brunch_1,\n",
    " intersect_brunch_2,\n",
    " kout_brunch_2) = lclsutil.get_light_path(kin=my_pulse.k0,\n",
    "                                          grating_list=grating_list,\n",
    "                                          crystal_list_1=crystal_list_1,\n",
    "                                          path_list_1=path_list_1,\n",
    "                                          crystal_list_2=crystal_list_2,\n",
    "                                          path_list_2=path_list_2)\n",
    "\n",
    "# Initialize the crystals\n",
    "crystal_list_1 = lclsutil.get_crystal_list_delay_branch(hlen_vals=hlen_vals,\n",
    "                                                        theta_vals=branch_angle_1[0],\n",
    "                                                        rho_vals=branch_angle_1[1],\n",
    "                                                        tau_vals=branch_angle_1[2],\n",
    "                                                        surface_points=np.copy(intersect_brunch_1[1:5]),\n",
    "                                                        chi0=chi0,\n",
    "                                                        chih_sigma=chih_sigma, chihbar_sigma=chihbar_sigma,\n",
    "                                                        chih_pi=chih_pi, chihbar_pi=chihbar_pi)\n",
    "# Initialize the crystals\n",
    "crystal_list_2 = lclsutil.get_crystal_list_delay_branch(hlen_vals=hlen_vals,\n",
    "                                                        theta_vals=branch_angle_2[0],\n",
    "                                                        rho_vals=branch_angle_2[1],\n",
    "                                                        tau_vals=branch_angle_2[2],\n",
    "                                                        surface_points=np.copy(intersect_brunch_2[1:5]),\n",
    "                                                        chi0=chi0,\n",
    "                                                        chih_sigma=chih_sigma, chihbar_sigma=chihbar_sigma,\n",
    "                                                        chih_pi=chih_pi, chihbar_pi=chihbar_pi)\n",
    "grating_list[0].set_surface_point(np.copy(intersect_brunch_1[0]))\n",
    "grating_list[1].set_surface_point(np.copy(intersect_brunch_1[-2]))\n",
    "\n",
    "# ~~~~~~~~~~~~~~~~~~~~~~~~~~~~~~~~~~~~~~~~~~~~~~~~~~~~~~~~~~~~~~~~~~~~~~~\n",
    "# Get the observation point\n",
    "# ~~~~~~~~~~~~~~~~~~~~~~~~~~~~~~~~~~~~~~~~~~~~~~~~~~~~~~~~~~~~~~~~~~~~~~~\n",
    "observation = np.copy(intersect_brunch_2[-1]) \n",
    "\n",
    "total_path = pre_length + util.get_total_path_length(intersection_point_list=intersect_brunch_2)\n",
    "print(\"The total propagation length is {:.2f}m.\".format(total_path / 1e6))\n",
    "# ~~~~~~~~~~~~~~~~~~~~~~~~~~~~~~~~~~~~~~~~~~~~~~~~~~~~~~~~~~~~~~~~~~~~~~~\n",
    "#                  Change frame\n",
    "# ~~~~~~~~~~~~~~~~~~~~~~~~~~~~~~~~~~~~~~~~~~~~~~~~~~~~~~~~~~~~~~~~~~~~~~~\n",
    "# \"\"\"\n",
    "(my_pulse,\n",
    " crystal_list_1,\n",
    " crystal_list_2,\n",
    " grating_list,\n",
    " obvservation) = lclsutil.get_split_delay_output_frame(displacement=-np.copy(intersect_brunch_1[-1]),\n",
    "                                                       obvservation=observation,\n",
    "                                                       pulse=my_pulse,\n",
    "                                                       crystal_list_1=crystal_list_1,\n",
    "                                                       crystal_list_2=crystal_list_2,\n",
    "                                                       grating_pair=grating_list)\n",
    "# \"\"\"\n",
    "# ~~~~~~~~~~~~~~~~~~~~~~~~~~~~~~~~~~~~~~~~~~~~~~~~~~~~~~~~~~~~~~~~~~~~~~~\n",
    "#                  Get the momentum mesh\n",
    "# ~~~~~~~~~~~~~~~~~~~~~~~~~~~~~~~~~~~~~~~~~~~~~~~~~~~~~~~~~~~~~~~~~~~~~~~\n",
    "number_x = 2\n",
    "number_y = 250\n",
    "number_z = 10 ** 5\n",
    "kx_grid, ky_grid, kz_grid, axis_info = lclsutil.get_k_mesh_3d(number_x=number_x,\n",
    "                                                              number_y=number_y,\n",
    "                                                              number_z=number_z,\n",
    "                                                              delta_e_x=1e-50,\n",
    "                                                              delta_e_y=0.75e-4,\n",
    "                                                              delta_e_z=1e-3 / util.c)\n",
    "kz_grid += my_pulse.klen0\n",
    "\n",
    "# Apply fft shift\n",
    "# kx_grid = np.ascontiguousarray(np.fft.fftshift(kx_grid))\n",
    "kx_grid = np.zeros(1, np.float64)\n",
    "number_x = 1\n",
    "ky_grid = np.ascontiguousarray(np.fft.fftshift(ky_grid))\n",
    "kz_grid = np.ascontiguousarray(np.fft.fftshift(kz_grid))\n"
   ]
  },
  {
   "cell_type": "markdown",
   "metadata": {},
   "source": [
    "# Arrange the crystals for branch 1"
   ]
  },
  {
   "cell_type": "code",
   "execution_count": 4,
   "metadata": {},
   "outputs": [],
   "source": [
    "def get_kout(kin, h, normal):\n",
    "    kout = kin + h\n",
    "    \n",
    "    klen = np.sqrt(np.dot(kin, kin))\n",
    "    \n",
    "    gammah = np.dot(kin + h, normal) / klen\n",
    "    alpha =  (2 * np.dot(kin, h) + np.dot(h, h)) / np.square(klen)\n",
    "\n",
    "    if np.abs(-gammah - np.sqrt(gammah ** 2 - alpha) ) > np.abs(-gammah + np.sqrt(gammah ** 2 - alpha) ):\n",
    "        momentum = klen *( -gammah + np.sqrt(gammah ** 2 - alpha))\n",
    "    else:\n",
    "        momentum = klen *( -gammah - np.sqrt(gammah ** 2 - alpha))\n",
    "    \n",
    "    kout += normal * momentum \n",
    "    return kout, klen ** 2 / np.dot(kout, kout)"
   ]
  },
  {
   "cell_type": "code",
   "execution_count": 5,
   "metadata": {},
   "outputs": [
    {
     "name": "stdout",
     "output_type": "stream",
     "text": [
      "[-0.17364818 -0.93196837  0.31824718]\n",
      "[ 0.17364818  0.93196837 -0.31824718]\n",
      "[0.17364818 0.93215915 0.31768794]\n",
      "[-0.17364818 -0.93215915 -0.31768794]\n"
     ]
    }
   ],
   "source": [
    "for x in range(4):\n",
    "    print(crystal_list_1[x].normal)"
   ]
  },
  {
   "cell_type": "code",
   "execution_count": 6,
   "metadata": {},
   "outputs": [
    {
     "name": "stdout",
     "output_type": "stream",
     "text": [
      "[     0.          30967.47072397 -10574.725901  ]\n",
      "[     0.         -30967.47072397  10574.725901  ]\n",
      "[     0.         -30973.8099848  -10556.14351679]\n",
      "[    0.         30973.8099848  10556.14351679]\n"
     ]
    }
   ],
   "source": [
    "for x in range(4):\n",
    "    print(crystal_list_1[x].h)"
   ]
  },
  {
   "cell_type": "code",
   "execution_count": 7,
   "metadata": {},
   "outputs": [
    {
     "name": "stdout",
     "output_type": "stream",
     "text": [
      "[0.00000000e+00 1.52031923e+01 5.06773076e+04]\n",
      "[4.20214556e-01 3.09696203e+04 4.01015019e+04] 1.0\n",
      "[4.88492580e-12 3.27009531e-11 5.06773076e+04] 0.9999999999999997\n",
      "[-2.51071492e-01 -3.09751578e+04  4.01207047e+04] 1.0000000000000004\n",
      "[2.93087776e-12 2.31903385e-11 5.06773076e+04] 0.9999999999999998\n"
     ]
    }
   ],
   "source": [
    "kout = my_pulse.k0 +  grating_list[0].base_wave_vector\n",
    "print(kout)\n",
    "\n",
    "miscuts = [np.array([-10e-6, 0, 0]),\n",
    "           np.array([-10e-6, 0, 0]),\n",
    "           np.array([0, 0, 0]),\n",
    "           np.array([0, 0, 0])]\n",
    "\n",
    "\n",
    "for x in range(4):\n",
    "    \n",
    "    rot_mat = Rotation.from_euler('xyz',miscuts[x], degrees=False)\n",
    "    \n",
    "    kout, ratio = get_kout(kin=kout,\n",
    "                           h=rot_mat.as_dcm().dot(crystal_list_1[x].h),\n",
    "                           normal= rot_mat.as_dcm().dot(crystal_list_1[x].normal))\n",
    "    print(kout - grating_list[0].base_wave_vector, ratio)"
   ]
  },
  {
   "cell_type": "code",
   "execution_count": 8,
   "metadata": {},
   "outputs": [
    {
     "data": {
      "text/plain": [
       "array([[ 0.00000000e+00,  0.00000000e+00,  5.06773076e+04],\n",
       "       [ 0.00000000e+00,  1.52031923e+01,  5.06773076e+04],\n",
       "       [ 2.51071492e-01,  3.09840214e+04,  4.01021215e+04],\n",
       "       [ 4.39648318e-12,  1.52031923e+01,  5.06773076e+04],\n",
       "       [-2.51071492e-01, -3.09599546e+04,  4.01207047e+04],\n",
       "       [ 2.93098879e-12,  1.52031923e+01,  5.06773076e+04],\n",
       "       [ 2.93098879e-12,  2.15827356e-11,  5.06773076e+04]])"
      ]
     },
     "execution_count": 8,
     "metadata": {},
     "output_type": "execute_result"
    }
   ],
   "source": [
    "kout_brunch_1"
   ]
  },
  {
   "cell_type": "code",
   "execution_count": 9,
   "metadata": {},
   "outputs": [
    {
     "name": "stdout",
     "output_type": "stream",
     "text": [
      "5.7834125413314395e-11\n"
     ]
    }
   ],
   "source": [
    "print(np.arctan(kout[0]/kout[-1]) * 1e6)"
   ]
  },
  {
   "cell_type": "code",
   "execution_count": null,
   "metadata": {},
   "outputs": [],
   "source": []
  }
 ],
 "metadata": {
  "kernelspec": {
   "display_name": "Python 3",
   "language": "python",
   "name": "python3"
  },
  "language_info": {
   "codemirror_mode": {
    "name": "ipython",
    "version": 3
   },
   "file_extension": ".py",
   "mimetype": "text/x-python",
   "name": "python",
   "nbconvert_exporter": "python",
   "pygments_lexer": "ipython3",
   "version": "3.6.9"
  }
 },
 "nbformat": 4,
 "nbformat_minor": 2
}
