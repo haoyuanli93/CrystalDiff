{
 "cells": [
  {
   "cell_type": "code",
   "execution_count": 4,
   "metadata": {},
   "outputs": [
    {
     "data": {
      "text/html": [
       "<style>.container { width:90% !important; }</style>"
      ],
      "text/plain": [
       "<IPython.core.display.HTML object>"
      ]
     },
     "metadata": {},
     "output_type": "display_data"
    }
   ],
   "source": [
    "import numpy as np\n",
    "import sys\n",
    "import time\n",
    "import h5py as h5\n",
    "import os\n",
    "import pickle\n",
    "from IPython.core.display import display, HTML\n",
    "import matplotlib.pyplot as plt\n",
    "\n",
    "# os.environ['NUMBAPRO_CUDALIB'] = r\"C:\\Users\\hyli93\\Anaconda3\\envs\\mypython3\\Library\\bin\"\n",
    "sys.path.append(r\"C:\\Users\\hyli93\\Documents\\GitHub\\CrystalDiffraction\")\n",
    "display(HTML(\"<style>.container { width:90% !important; }</style>\"))\n",
    "\n",
    "from numba import cuda\n",
    "from CrystalDiff import util, pulse, auxiliary, gutil"
   ]
  },
  {
   "cell_type": "code",
   "execution_count": 17,
   "metadata": {},
   "outputs": [
    {
     "name": "stdout",
     "output_type": "stream",
     "text": [
      "The corresponding sigma in the definition of the pulse should be 708.26 fs.\n",
      "The total propagation length is 169000.00um.\n"
     ]
    }
   ],
   "source": [
    "############################################################################################################\n",
    "# ----------------------------------------------------------------------------------------------------------\n",
    "#\n",
    "#                       Step 1: Prepare the devices and pulses\n",
    "#\n",
    "# ----------------------------------------------------------------------------------------------------------\n",
    "############################################################################################################\n",
    "# ~~~~~~~~~~~~~~~~~~~~~~~~~~~~~~~~~~~~~~~~~~~~~~~~~~~~~~~~~~~~~~~~~~~~~~~\n",
    "#                               Crystal\n",
    "# ~~~~~~~~~~~~~~~~~~~~~~~~~~~~~~~~~~~~~~~~~~~~~~~~~~~~~~~~~~~~~~~~~~~~~~~\n",
    "# Set up bragg angle\n",
    "h_length = 2. * np.pi / (1.9201 * 1e-4)\n",
    "hlen_vals = np.array([h_length, ] * 4)\n",
    "\n",
    "bragg_angle = np.radians(18.836)\n",
    "\n",
    "# Set up the angles\n",
    "theta = np.pi / 2. + bragg_angle\n",
    "theta_vals = [theta,\n",
    "              np.pi + theta,\n",
    "              - theta,\n",
    "              np.pi - theta]\n",
    "rho = bragg_angle - np.pi / 2.\n",
    "rho_vals = [rho,\n",
    "            np.pi + rho,\n",
    "            - rho,\n",
    "            np.pi - rho]\n",
    "\n",
    "tau_vals = [0.,\n",
    "            np.radians(10.),\n",
    "            -np.radians(10.),\n",
    "            0.,\n",
    "            ]\n",
    "\n",
    "# Set up the surface position\n",
    "surface_points = [np.zeros(3, dtype=np.float64) for x in range(4)]\n",
    "\n",
    "# Initialize the crystals\n",
    "crystal_list = auxiliary.get_crystal_list_lcls2(num=4,\n",
    "                                                hlen_vals=hlen_vals,\n",
    "                                                rho_vals=rho_vals,\n",
    "                                                theta_vals=theta_vals,\n",
    "                                                tau_vals=tau_vals,\n",
    "                                                surface_points=surface_points,\n",
    "                                                chi0=complex(-0.97631E-05, 0.14871E-06),\n",
    "                                                chih_sigma=complex(0.59310E-05, -0.14320E-06),\n",
    "                                                chihbar_sigma=complex(0.59310E-05, -0.14320E-06),\n",
    "                                                chih_pi=complex(0.46945E-05, -0.11201E-06),\n",
    "                                                chihbar_pi=complex(0.46945E-05, -0.11201E-06)\n",
    "                                                )\n",
    "\n",
    "# ~~~~~~~~~~~~~~~~~~~~~~~~~~~~~~~~~~~~~~~~~~~~~~~~~~~~~~~~~~~~~~~~~~~~~~~\n",
    "#                               Pulse\n",
    "# ~~~~~~~~~~~~~~~~~~~~~~~~~~~~~~~~~~~~~~~~~~~~~~~~~~~~~~~~~~~~~~~~~~~~~~~\n",
    "# From FWHM to sigma\n",
    "fwhm = 500.  # um\n",
    "sigma = fwhm / 2 / np.sqrt(2 * np.log(2))\n",
    "sigma_t = sigma / util.c\n",
    "print(\"The corresponding sigma in the definition of the pulse should be {:.2f} fs.\".format(sigma_t))\n",
    "\n",
    "# Set up the pulse\n",
    "my_pulse = pulse.GaussianPulse3D()\n",
    "\n",
    "energy_center = 10.\n",
    "k_len = util.kev_to_wave_number(energy=energy_center)\n",
    "\n",
    "my_pulse.polar = np.array([0., 1., 0.], dtype=np.complex128)\n",
    "\n",
    "my_pulse.k0 = np.array([0., 0., k_len])\n",
    "my_pulse.n = my_pulse.k0 / util.l2_norm(my_pulse.k0)\n",
    "my_pulse.omega0 = k_len * util.c\n",
    "\n",
    "my_pulse.sigma_x = 100 #sigma_t\n",
    "my_pulse.sigma_y = 100 #sigma_t  # fs\n",
    "my_pulse.sigma_z = 1.  # fs\n",
    "my_pulse.sigma_mat = np.diag(np.array([my_pulse.sigma_x ** 2,\n",
    "                                       my_pulse.sigma_y ** 2,\n",
    "                                       my_pulse.sigma_z ** 2], dtype=np.float64))\n",
    "my_pulse.sigma_mat *= util.c ** 2\n",
    "\n",
    "magnitude_peak = 1.\n",
    "my_pulse.scaling = complex(my_pulse.sigma_x * my_pulse.sigma_y *\n",
    "                           my_pulse.sigma_z * (util.c ** 3), 0.) * magnitude_peak\n",
    "\n",
    "pre_length = 3000.\n",
    "my_pulse.x0 = np.array([0., 0., -pre_length])\n",
    "\n",
    "# ~~~~~~~~~~~~~~~~~~~~~~~~~~~~~~~~~~~~~~~~~~~~~~~~~~~~~~~~~~~~~~~~~~~~~~~\n",
    "# Arrange the crystal separation\n",
    "# ~~~~~~~~~~~~~~~~~~~~~~~~~~~~~~~~~~~~~~~~~~~~~~~~~~~~~~~~~~~~~~~~~~~~~~~\n",
    "path_sections = [0., 2. * 1e4, 12. * 1e4, 2. * 1e4]\n",
    "\n",
    "intersection_points, kout_vec_list = auxiliary.get_intersection_point(kin_vec=my_pulse.k0,\n",
    "                                                                      path_sections=path_sections,\n",
    "                                                                      crystal_list=crystal_list)\n",
    "\n",
    "crystal_list = auxiliary.get_crystal_list_lcls2(num=4,\n",
    "                                                hlen_vals=hlen_vals,\n",
    "                                                rho_vals=rho_vals,\n",
    "                                                theta_vals=theta_vals,\n",
    "                                                tau_vals=tau_vals,\n",
    "                                                surface_points=np.copy(intersection_points),\n",
    "                                                chi0=complex(-0.97631E-05, 0.14871E-06),\n",
    "                                                chih_sigma=complex(0.59310E-05, -0.14320E-06),\n",
    "                                                chihbar_sigma=complex(0.59310E-05, -0.14320E-06),\n",
    "                                                chih_pi=complex(0.46945E-05, -0.11201E-06),\n",
    "                                                chihbar_pi=complex(0.46945E-05, -0.11201E-06)\n",
    "                                                )\n",
    "\n",
    "# ~~~~~~~~~~~~~~~~~~~~~~~~~~~~~~~~~~~~~~~~~~~~~~~~~~~~~~~~~~~~~~~~~~~~~~~\n",
    "# Get the observation point\n",
    "# ~~~~~~~~~~~~~~~~~~~~~~~~~~~~~~~~~~~~~~~~~~~~~~~~~~~~~~~~~~~~~~~~~~~~~~~\n",
    "post_length = 6000.\n",
    "observation = (intersection_points[-1] +\n",
    "               post_length * kout_vec_list[-1] / util.l2_norm(kout_vec_list[-1]))\n",
    "\n",
    "# ~~~~~~~~~~~~~~~~~~~~~~~~~~~~~~~~~~~~~~~~~~~~~~~~~~~~~~~~~~~~~~~~~~~~~~~\n",
    "#                  Get the momentum mesh\n",
    "# ~~~~~~~~~~~~~~~~~~~~~~~~~~~~~~~~~~~~~~~~~~~~~~~~~~~~~~~~~~~~~~~~~~~~~~~\n",
    "number_x = 500\n",
    "number_y = 500\n",
    "number_z = 1000\n",
    "kx_grid, ky_grid, kz_grid, axis_info = auxiliary.get_k_mesh_3d(number_x=number_x,\n",
    "                                                               number_y=number_y,\n",
    "                                                               number_z=number_z,\n",
    "                                                               delta_e_x=1e-3,\n",
    "                                                               delta_e_y=1e-3,\n",
    "                                                               delta_e_z=1e-3)\n",
    "kz_grid += k_len\n",
    "\n",
    "total_path = (pre_length + post_length +\n",
    "              util.get_total_path_length(intersection_point_list=intersection_points))\n",
    "print(\"The total propagation length is {:.2f}um.\".format(total_path))"
   ]
  },
  {
   "cell_type": "code",
   "execution_count": 18,
   "metadata": {},
   "outputs": [
    {
     "name": "stdout",
     "output_type": "stream",
     "text": [
      "[ 0.         -0.94644659  0.32286043]\n",
      "[ 0.17364818  0.93206794 -0.31795545]\n",
      "[-0.17364818  0.93206794  0.31795545]\n",
      "[ 0.         -0.94644659 -0.32286043]\n"
     ]
    }
   ],
   "source": [
    "for tes in crystal_list:\n",
    "    #print(tes.h)\n",
    "    print(tes.normal)"
   ]
  },
  {
   "cell_type": "code",
   "execution_count": 23,
   "metadata": {},
   "outputs": [],
   "source": [
    "# Generate  a list\n",
    "kvec_list = np.zeros((number_y, 3))\n",
    "kvec_list[:,0] = kx_grid[250]\n",
    "kvec_list[:,1] = ky_grid\n",
    "kvec_list[:,2] = kz_grid[500]\n",
    "\n",
    "# Get kout_list\n",
    "kout_list = np.zeros((number_y, 3))\n",
    "\n",
    "for l in range(number_y):\n",
    "    _, tmp            = auxiliary.get_intersection_point(kin_vec=kvec_list[l],\n",
    "                                                         path_sections=path_sections,\n",
    "                                                         crystal_list=crystal_list)\n",
    "    \n",
    "    kout_list[l] = tmp[-1]"
   ]
  },
  {
   "cell_type": "code",
   "execution_count": 24,
   "metadata": {},
   "outputs": [
    {
     "data": {
      "image/png": "[encoded data removed]",
      "text/plain": [
       "<Figure size 432x288 with 1 Axes>"
      ]
     },
     "metadata": {
      "needs_background": "light"
     },
     "output_type": "display_data"
    }
   ],
   "source": [
    "x = kout_list[:,0]\n",
    "y = kout_list[:,1]\n",
    "z = kout_list[:,2]\n",
    "\n",
    "plt.plot(x, y, '*')\n",
    "plt.show()"
   ]
  },
  {
   "cell_type": "code",
   "execution_count": null,
   "metadata": {},
   "outputs": [],
   "source": []
  }
 ],
 "metadata": {
  "kernelspec": {
   "display_name": "Python 3",
   "language": "python",
   "name": "python3"
  },
  "language_info": {
   "codemirror_mode": {
    "name": "ipython",
    "version": 3
   },
   "file_extension": ".py",
   "mimetype": "text/x-python",
   "name": "python",
   "nbconvert_exporter": "python",
   "pygments_lexer": "ipython3",
   "version": "3.6.8"
  }
 },
 "nbformat": 4,
 "nbformat_minor": 2
}
